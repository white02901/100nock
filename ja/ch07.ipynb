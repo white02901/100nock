{
  "cells": [
    {
      "cell_type": "markdown",
      "metadata": {
        "editable": true,
        "id": "X5YgWh7ldCR4",
        "tags": []
      },
      "source": [
        "# 第7章: 機械学習\n",
        "\n",
        "本章では、[Stanford Sentiment Treebank (SST)](https://nlp.stanford.edu/sentiment/) データセットを用い、評判分析器（ポジネガ分類器）を構築する。ここでは処理を簡略化するため、[General Language Understanding Evaluation (GLUE)](https://gluebenchmark.com/) ベンチマークで配布されているSSTデータセットを用いる。\n"
      ]
    },
    {
      "cell_type": "code",
      "source": [
        "%%capture\n",
        "!pip install scikit-learn\n",
        "!pip install numpy\n",
        "!wget https://dl.fbaipublicfiles.com/glue/data/SST-2.zip\n",
        "!unzip SST-2.zip"
      ],
      "metadata": {
        "id": "ZVbDCQSuzqT1"
      },
      "execution_count": 1,
      "outputs": []
    },
    {
      "cell_type": "markdown",
      "metadata": {
        "id": "xaAFO9l2fE19"
      },
      "source": [
        "## 60. データの入手・整形\n",
        "\n",
        "GLUEのウェブサイトから[SST-2](https://dl.fbaipublicfiles.com/glue/data/SST-2.zip)データセットを取得せよ。学習データ（`train.tsv`）と検証データ（`dev.tsv`）のぞれぞれについて、ポジティブ (1) とネガティブ (0) の事例数をカウントせよ。"
      ]
    },
    {
      "cell_type": "code",
      "source": [
        "import pandas as pd\n",
        "\n",
        "# データの読み込み（タブ区切り、ヘッダーあり）\n",
        "train_df = pd.read_csv(\"SST-2/train.tsv\", sep='\\t', header=0)\n",
        "dev_df = pd.read_csv(\"SST-2/dev.tsv\", sep='\\t', header=0)\n",
        "\n",
        "# ラベル列の存在を確認（エラー対策）\n",
        "assert \"label\" in train_df.columns, \"train.tsv に 'label' 列が存在しません\"\n",
        "assert \"label\" in dev_df.columns, \"dev.tsv に 'label' 列が存在しません\"\n",
        "\n",
        "# 学習データのラベルカウント\n",
        "train_positive_count = (train_df[\"label\"] == 1).sum()\n",
        "train_negative_count = (train_df[\"label\"] == 0).sum()\n",
        "\n",
        "# 検証データのラベルカウント\n",
        "dev_positive_count = (dev_df[\"label\"] == 1).sum()\n",
        "dev_negative_count = (dev_df[\"label\"] == 0).sum()\n",
        "\n",
        "# 出力の整形\n",
        "print(\"=== SST-2 ラベル別件数 ===\")\n",
        "print(f\"{'データセット':<10} | {'Positive':>8} | {'Negative':>8}\")\n",
        "print(\"-\" * 34)\n",
        "print(f\"{'Train':<10} | {train_positive_count:>8} | {train_negative_count:>8}\")\n",
        "print(f\"{'Dev':<10}   | {dev_positive_count:>8} | {dev_negative_count:>8}\")\n",
        "\n",
        "# ※デバッグ用に上位5件を表示したい場合は以下を有効化\n",
        "print(train_df.head())\n"
      ],
      "metadata": {
        "id": "BA2tRInCzya1",
        "outputId": "952ed8cd-af37-4fcc-a910-0470c66b35a8",
        "colab": {
          "base_uri": "https://localhost:8080/"
        }
      },
      "execution_count": 7,
      "outputs": [
        {
          "output_type": "stream",
          "name": "stdout",
          "text": [
            "=== SST-2 ラベル別件数 ===\n",
            "データセット     | Positive | Negative\n",
            "----------------------------------\n",
            "Train      |    37569 |    29780\n",
            "Dev          |      444 |      428\n",
            "                                            sentence  label\n",
            "0       hide new secretions from the parental units       0\n",
            "1               contains no wit , only labored gags       0\n",
            "2  that loves its characters and communicates som...      1\n",
            "3  remains utterly satisfied to remain the same t...      0\n",
            "4  on the worst revenge-of-the-nerds clichés the ...      0\n"
          ]
        }
      ]
    },
    {
      "cell_type": "markdown",
      "metadata": {
        "id": "0EY71AIPgmJF"
      },
      "source": [
        "## 61. 特徴ベクトル\n",
        "\n",
        "Bag of Words (BoW) に基づき、学習データ（`train.tsv`）および検証データ（`dev.tsv`）のテキストを特徴ベクトルに変換したい。ここで、ある事例のテキストの特徴ベクトルは、テキスト中に含まれる単語（スペース区切りのトークン）の出現頻度で構成する。例えば、\"too loud , too goofy\"というテキストに対応する特徴ベクトルは、以下のような辞書オブジェクトで表現される。\n",
        "\n",
        "```python\n",
        "{'too': 2, 'loud': 1, ',': 1, 'goofy': 1}\n",
        "```\n",
        "\n",
        "各事例はテキスト、特徴ベクトル、ラベルを格納した辞書オブジェクトでまとめておく。例えば、先ほどの\"too loud , too goofy\"に対してラベル\"0\"（ネガティブ）が付与された事例は、以下のオブジェクトで表現される。\n",
        "\n",
        "```python\n",
        "{'text': 'too loud , too goofy', 'label': '0', 'feature': {'too': 2, 'loud': 1, ',': 1, 'goofy': 1}}\n",
        "```\n",
        "\n",
        "学習データと検証データの各事例を上記のような辞書オブジェクトに変換したうえで、学習データと検証データのそれぞれを、辞書オブジェクトのリストとして表現せよ。さらに、学習データの最初の事例について、正しく特徴ベクトルに変換できたか、目視で確認せよ。"
      ]
    },
    {
      "cell_type": "code",
      "source": [
        "import pandas as pd\n",
        "from collections import Counter\n",
        "\n",
        "# BoW特徴抽出関数\n",
        "def text_to_bow_feature(text):\n",
        "    tokens = text.split()\n",
        "    return dict(Counter(tokens))\n",
        "\n",
        "# データフレームを変換する関数\n",
        "def convert_to_bow_dataset(df):\n",
        "    dataset = []\n",
        "    for _, row in df.iterrows():\n",
        "        text = row['sentence']\n",
        "        label = str(row['label'])  # ラベルを文字列型に変換\n",
        "        feature = text_to_bow_feature(text)\n",
        "        example = {'text': text, 'label': label, 'feature': feature}\n",
        "        dataset.append(example)\n",
        "    return dataset\n",
        "\n",
        "# 学習・検証データの変換\n",
        "train_bow_dataset = convert_to_bow_dataset(train_df)\n",
        "dev_bow_dataset = convert_to_bow_dataset(dev_df)\n",
        "\n",
        "# 学習データの最初の事例を確認\n",
        "print(\"=== 学習データの最初の事例 ===\")\n",
        "print(\"テキスト:\", train_bow_dataset[0]['text'])\n",
        "print(\"ラベル :\", train_bow_dataset[0]['label'])\n",
        "print(\"特徴ベクトル:\", train_bow_dataset[0]['feature'])\n"
      ],
      "metadata": {
        "id": "w8VAgXOy0z70",
        "outputId": "e74db6f6-7baf-453a-fe89-c13102411339",
        "colab": {
          "base_uri": "https://localhost:8080/"
        }
      },
      "execution_count": 5,
      "outputs": [
        {
          "output_type": "stream",
          "name": "stdout",
          "text": [
            "=== 学習データの最初の事例 ===\n",
            "テキスト: hide new secretions from the parental units \n",
            "ラベル : 0\n",
            "特徴ベクトル: {'hide': 1, 'new': 1, 'secretions': 1, 'from': 1, 'the': 1, 'parental': 1, 'units': 1}\n"
          ]
        }
      ]
    },
    {
      "cell_type": "markdown",
      "metadata": {
        "id": "_i40n9yZnCsv"
      },
      "source": [
        "## 62. 学習\n",
        "\n",
        "61で構築した学習データの特徴ベクトルを用いて、ロジスティック回帰モデルを学習せよ。"
      ]
    },
    {
      "cell_type": "code",
      "source": [
        "from sklearn.feature_extraction import DictVectorizer\n",
        "from sklearn.linear_model import LogisticRegression\n",
        "from sklearn.metrics import accuracy_score\n",
        "\n",
        "# 特徴とラベルを抽出\n",
        "X_train_dicts = [example['feature'] for example in train_bow_dataset]\n",
        "y_train = [int(example['label']) for example in train_bow_dataset]\n",
        "\n",
        "# 特徴ベクトルのベクトル化（疎行列形式）\n",
        "vectorizer = DictVectorizer(sparse=True)\n",
        "X_train = vectorizer.fit_transform(X_train_dicts)\n",
        "\n",
        "# ロジスティック回帰モデルの学習\n",
        "model = LogisticRegression(max_iter=1000)\n",
        "model.fit(X_train, y_train)\n",
        "\n",
        "print(\"✅ モデルの学習が完了しました。\")\n"
      ],
      "metadata": {
        "id": "AdwGpVbo4Oki",
        "outputId": "58175324-4f5c-4158-9f04-cc6229babbbb",
        "colab": {
          "base_uri": "https://localhost:8080/"
        }
      },
      "execution_count": 9,
      "outputs": [
        {
          "output_type": "stream",
          "name": "stdout",
          "text": [
            "✅ モデルの学習が完了しました。\n"
          ]
        }
      ]
    },
    {
      "cell_type": "markdown",
      "metadata": {
        "id": "1wuvGIAonZEF"
      },
      "source": [
        "## 63. 予測\n",
        "\n",
        "学習したロジスティック回帰モデルを用い、検証データの先頭の事例のラベル（ポジネガ）を予測せよ。また、予測されたラベルが検証データで付与されていたラベルと一致しているか、確認せよ。"
      ]
    },
    {
      "cell_type": "code",
      "source": [
        "# 検証データの先頭の事例\n",
        "first_dev_example = dev_bow_dataset[0]\n",
        "\n",
        "# テキストと正解ラベルの確認\n",
        "text = first_dev_example['text']\n",
        "true_label = int(first_dev_example['label'])\n",
        "\n",
        "# 特徴ベクトルをDictVectorizerで変換\n",
        "X_first = vectorizer.transform([first_dev_example['feature']])  # 1件でもリスト形式で渡す\n",
        "\n",
        "# モデルによる予測\n",
        "predicted_label = model.predict(X_first)[0]  # predict()はリスト返すので[0]で取り出す\n",
        "\n",
        "# 出力\n",
        "print(\"=== 検証データ 先頭事例の予測結果 ===\")\n",
        "print(f\"テキスト           : {text}\")\n",
        "print(f\"正解ラベル         : {true_label} ({'Positive' if true_label == 1 else 'Negative'})\")\n",
        "print(f\"予測ラベル         : {predicted_label} ({'Positive' if predicted_label == 1 else 'Negative'})\")\n",
        "\n",
        "# 一致確認\n",
        "if predicted_label == true_label:\n",
        "    print(\"✅ 予測は正解です。\")\n",
        "else:\n",
        "    print(\"❌ 予測は不正解です。\")\n"
      ],
      "metadata": {
        "id": "4YI55NNS42AY",
        "outputId": "f32ff17c-701a-4522-c467-b0990e0286c7",
        "colab": {
          "base_uri": "https://localhost:8080/"
        }
      },
      "execution_count": 16,
      "outputs": [
        {
          "output_type": "stream",
          "name": "stdout",
          "text": [
            "=== 検証データ 先頭事例の予測結果 ===\n",
            "テキスト           : it 's a charming and often affecting journey . \n",
            "正解ラベル         : 1 (Positive)\n",
            "予測ラベル         : 1 (Positive)\n",
            "✅ 予測は正解です。\n"
          ]
        }
      ]
    },
    {
      "cell_type": "markdown",
      "metadata": {
        "editable": true,
        "id": "ZHZht1jNoJPL",
        "tags": []
      },
      "source": [
        "## 64. 条件付き確率\n",
        "\n",
        "学習したロジスティック回帰モデルを用い、検証データの先頭の事例を各ラベル（ポジネガ）に分類するときの条件付き確率を求めよ。"
      ]
    },
    {
      "cell_type": "code",
      "source": [
        "# 先頭事例の特徴をベクトル化\n",
        "X_first = vectorizer.transform([first_dev_example['feature']])\n",
        "\n",
        "# 条件付き確率の予測\n",
        "probs = model.predict_proba(X_first)[0]  # [0] で1次元リストを取得\n",
        "\n",
        "# 出力\n",
        "print(\"=== 検証データ 先頭事例の条件付き確率 ===\")\n",
        "print(f\"テキスト: {first_dev_example['text']}\")\n",
        "print(f\"P(label=0 | x): {probs[0]:.4f} （Negative）\")\n",
        "print(f\"P(label=1 | x): {probs[1]:.4f} （Positive）\")\n",
        "\n",
        "# 最大確率のラベル（予測ラベル）と正解ラベルの確認\n",
        "predicted_label = model.predict(X_first)[0]\n",
        "true_label = int(first_dev_example['label'])\n",
        "\n",
        "print(f\"予測ラベル        : {predicted_label} ({'Positive' if predicted_label == 1 else 'Negative'})\")\n",
        "print(f\"正解ラベル        : {true_label} ({'Positive' if true_label == 1 else 'Negative'})\")\n",
        "print(\"✅ 一致\" if predicted_label == true_label else \"❌ 不一致\")\n"
      ],
      "metadata": {
        "id": "CiH7FcRI6uYz",
        "outputId": "6352c842-932c-46a4-bc95-4f7e9b29fa99",
        "colab": {
          "base_uri": "https://localhost:8080/"
        }
      },
      "execution_count": 13,
      "outputs": [
        {
          "output_type": "stream",
          "name": "stdout",
          "text": [
            "=== 検証データ 先頭事例の条件付き確率 ===\n",
            "テキスト: it 's a charming and often affecting journey . \n",
            "P(label=0 | x): 0.0043 （Negative）\n",
            "P(label=1 | x): 0.9957 （Positive）\n",
            "予測ラベル        : 1 (Positive)\n",
            "正解ラベル        : 1 (Positive)\n",
            "✅ 一致\n"
          ]
        }
      ]
    },
    {
      "cell_type": "markdown",
      "metadata": {
        "editable": true,
        "id": "sa4FRl8kos_0",
        "tags": []
      },
      "source": [
        "## 65. テキストのポジネガの予測\n",
        "\n",
        "与えられたテキストのポジネガを予測するプログラムを実装せよ。例えば、テキストとして\"the worst movie I 've ever seen\"を与え、ロジスティック回帰モデルの予測結果を確認せよ。\n"
      ]
    },
    {
      "cell_type": "code",
      "source": [
        "def predict_sentiment(text: str):\n",
        "    # テキストを BoW 辞書形式に変換\n",
        "    tokens = text.split()\n",
        "    feature = {}\n",
        "    for token in tokens:\n",
        "        feature[token] = feature.get(token, 0) + 1\n",
        "\n",
        "    # 特徴をベクトル化\n",
        "    X = vectorizer.transform([feature])\n",
        "\n",
        "    # 予測と条件付き確率\n",
        "    pred_label = model.predict(X)[0]\n",
        "    probs = model.predict_proba(X)[0]\n",
        "\n",
        "    # 出力\n",
        "    print(\"=== 任意テキストのポジネガ予測 ===\")\n",
        "    print(f\"入力テキスト       : {text}\")\n",
        "    print(f\"予測ラベル         : {pred_label} ({'Positive' if pred_label == 1 else 'Negative'})\")\n",
        "    print(f\"P(Negative | x)    : {probs[0]:.4f}\")\n",
        "    print(f\"P(Positive | x)    : {probs[1]:.4f}\")\n",
        "\n",
        "# 実行例\n",
        "predict_sentiment(\"the worst movie I've ever seen\")\n"
      ],
      "metadata": {
        "id": "J4F6Co77725G",
        "outputId": "8049b191-09f4-476b-fc19-93ae0245472e",
        "colab": {
          "base_uri": "https://localhost:8080/"
        }
      },
      "execution_count": 17,
      "outputs": [
        {
          "output_type": "stream",
          "name": "stdout",
          "text": [
            "=== 任意テキストのポジネガ予測 ===\n",
            "入力テキスト       : the worst movie I've ever seen\n",
            "予測ラベル         : 0 (Negative)\n",
            "P(Negative | x)    : 0.9652\n",
            "P(Positive | x)    : 0.0348\n"
          ]
        }
      ]
    },
    {
      "cell_type": "markdown",
      "metadata": {
        "editable": true,
        "id": "JpIsH36Upci_",
        "tags": []
      },
      "source": [
        "## 66. 混同行列の作成\n",
        "\n",
        "学習したロジスティック回帰モデルの検証データにおける混同行列（confusion matrix）を求めよ。"
      ]
    },
    {
      "cell_type": "code",
      "source": [
        "from sklearn.metrics import confusion_matrix\n",
        "\n",
        "# 検証データの特徴ベクトルと正解ラベルの用意\n",
        "X_dev = vectorizer.transform([ex['feature'] for ex in dev_bow_dataset])\n",
        "y_dev_true = [int(ex['label']) for ex in dev_bow_dataset]\n",
        "\n",
        "# モデルによる予測\n",
        "y_dev_pred = model.predict(X_dev)\n",
        "\n",
        "# 混同行列の計算\n",
        "cm = confusion_matrix(y_dev_true, y_dev_pred)\n",
        "\n",
        "# 出力\n",
        "print(\"=== 混同行列（Confusion Matrix）===\")\n",
        "print(\"               Predicted\")\n",
        "print(\"              0      1\")\n",
        "print(f\"Actual  0   {cm[0][0]:5d}  {cm[0][1]:5d}\")\n",
        "print(f\"        1   {cm[1][0]:5d}  {cm[1][1]:5d}\")\n"
      ],
      "metadata": {
        "id": "2ESTg52fV7KV",
        "outputId": "93b494dd-5a03-4be6-86a8-f7d8fd882bfa",
        "colab": {
          "base_uri": "https://localhost:8080/"
        }
      },
      "execution_count": 18,
      "outputs": [
        {
          "output_type": "stream",
          "name": "stdout",
          "text": [
            "=== 混同行列（Confusion Matrix）===\n",
            "               Predicted\n",
            "              0      1\n",
            "Actual  0     334     94\n",
            "        1      73    371\n"
          ]
        }
      ]
    },
    {
      "cell_type": "markdown",
      "metadata": {
        "editable": true,
        "id": "wVGFDz94oaqV",
        "tags": []
      },
      "source": [
        "## 67. 精度の計測\n",
        "\n",
        "学習したロジスティック回帰モデルの正解率、適合率、再現率、F1スコアを、学習データおよび検証データ上で計測せよ。"
      ]
    },
    {
      "cell_type": "code",
      "source": [
        "from sklearn.metrics import accuracy_score, precision_score, recall_score, f1_score\n",
        "\n",
        "def evaluate_model(X, y_true, dataset_name=\"\"):\n",
        "    y_pred = model.predict(X)\n",
        "\n",
        "    acc = accuracy_score(y_true, y_pred)\n",
        "    prec = precision_score(y_true, y_pred)\n",
        "    rec = recall_score(y_true, y_pred)\n",
        "    f1 = f1_score(y_true, y_pred)\n",
        "\n",
        "    print(f\"=== {dataset_name} データでの評価結果 ===\")\n",
        "    print(f\"正解率 (Accuracy) : {acc:.4f}\")\n",
        "    print(f\"適合率 (Precision): {prec:.4f}\")\n",
        "    print(f\"再現率 (Recall)   : {rec:.4f}\")\n",
        "    print(f\"F1スコア          : {f1:.4f}\")\n",
        "    print()\n",
        "\n",
        "# 学習データの特徴量とラベル\n",
        "X_train = vectorizer.transform([ex['feature'] for ex in train_bow_dataset])\n",
        "y_train = [int(ex['label']) for ex in train_bow_dataset]\n",
        "\n",
        "# 検証データの特徴量とラベル\n",
        "X_dev = vectorizer.transform([ex['feature'] for ex in dev_bow_dataset])\n",
        "y_dev = [int(ex['label']) for ex in dev_bow_dataset]\n",
        "\n",
        "# 評価実行\n",
        "evaluate_model(X_train, y_train, \"学習\")\n",
        "evaluate_model(X_dev, y_dev, \"検証\")\n"
      ],
      "metadata": {
        "id": "wg_Zf6XiawJk",
        "outputId": "9cf32304-0748-41ab-a2aa-b2ba2833cc60",
        "colab": {
          "base_uri": "https://localhost:8080/"
        }
      },
      "execution_count": 19,
      "outputs": [
        {
          "output_type": "stream",
          "name": "stdout",
          "text": [
            "=== 学習 データでの評価結果 ===\n",
            "正解率 (Accuracy) : 0.9421\n",
            "適合率 (Precision): 0.9427\n",
            "再現率 (Recall)   : 0.9542\n",
            "F1スコア          : 0.9484\n",
            "\n",
            "=== 検証 データでの評価結果 ===\n",
            "正解率 (Accuracy) : 0.8085\n",
            "適合率 (Precision): 0.7978\n",
            "再現率 (Recall)   : 0.8356\n",
            "F1スコア          : 0.8163\n",
            "\n"
          ]
        }
      ]
    },
    {
      "cell_type": "markdown",
      "metadata": {
        "id": "N14sd55qq-xS"
      },
      "source": [
        "## 68. 特徴量の重みの確認\n",
        "\n",
        "学習したロジスティック回帰モデルの中で、重みの高い特徴量トップ20と、重みの低い特徴量トップ20を確認せよ。"
      ]
    },
    {
      "cell_type": "code",
      "source": [
        "import numpy as np\n",
        "\n",
        "# 特徴量名とその重み（係数）の取得\n",
        "feature_names = vectorizer.get_feature_names_out()\n",
        "coefs = model.coef_[0]  # 2クラス分類のため coef_ は shape (1, n_features)\n",
        "\n",
        "# 重みの高い（＝ポジティブ寄り）特徴量トップ20\n",
        "top_positive_indices = np.argsort(coefs)[-20:][::-1]\n",
        "print(\"=== 重みの高い特徴量トップ20（ポジティブ寄り） ===\")\n",
        "for i in top_positive_indices:\n",
        "    print(f\"{feature_names[i]:<15} {coefs[i]:.4f}\")\n",
        "\n",
        "print()\n",
        "\n",
        "# 重みの低い（＝ネガティブ寄り）特徴量トップ20\n",
        "top_negative_indices = np.argsort(coefs)[:20]\n",
        "print(\"=== 重みの低い特徴量トップ20（ネガティブ寄り） ===\")\n",
        "for i in top_negative_indices:\n",
        "    print(f\"{feature_names[i]:<15} {coefs[i]:.4f}\")\n"
      ],
      "metadata": {
        "id": "qfpNwC-dbx4M",
        "outputId": "de1a6bc6-5f91-48f0-a658-388b897281e6",
        "colab": {
          "base_uri": "https://localhost:8080/"
        }
      },
      "execution_count": 20,
      "outputs": [
        {
          "output_type": "stream",
          "name": "stdout",
          "text": [
            "=== 重みの高い特徴量トップ20（ポジティブ寄り） ===\n",
            "refreshing      3.4139\n",
            "remarkable      3.4013\n",
            "powerful        3.2090\n",
            "hilarious       3.1642\n",
            "beautiful       2.9930\n",
            "wonderful       2.9611\n",
            "prose           2.8912\n",
            "appealing       2.8488\n",
            "terrific        2.8459\n",
            "treat           2.7912\n",
            "enjoyable       2.7805\n",
            "charmer         2.7485\n",
            "vividly         2.7072\n",
            "likable         2.6742\n",
            "charming        2.6453\n",
            "solid           2.6447\n",
            "fascinating     2.6161\n",
            "half-bad        2.5923\n",
            "impressive      2.5872\n",
            "intriguing      2.5761\n",
            "\n",
            "=== 重みの低い特徴量トップ20（ネガティブ寄り） ===\n",
            "lacking         -4.3233\n",
            "lacks           -4.0564\n",
            "worst           -4.0007\n",
            "devoid          -3.6391\n",
            "mess            -3.5856\n",
            "failure         -3.5471\n",
            "stupid          -3.3278\n",
            "bore            -3.2387\n",
            "flat            -3.2214\n",
            "depressing      -3.1710\n",
            "loses           -3.1544\n",
            "waste           -3.1413\n",
            "lack            -3.0365\n",
            "none            -3.0211\n",
            "hardly          -3.0184\n",
            "squanders       -3.0127\n",
            "poor            -2.9728\n",
            "pointless       -2.9439\n",
            "unfortunately   -2.9336\n",
            "lousy           -2.9149\n"
          ]
        }
      ]
    },
    {
      "cell_type": "markdown",
      "metadata": {
        "id": "QiEXYV__rJYR"
      },
      "source": [
        "## 69. 正則化パラメータの変更\n",
        "\n",
        "ロジスティック回帰モデルを学習するとき、正則化の係数（ハイパーパラメータ）を調整することで、学習時の適合度合いを制御できる。正則化の係数を変化させながらロジスティック回帰モデルを学習し、検証データ上の正解率を求めよ。実験の結果は、正則化パラメータを横軸、正解率を縦軸としたグラフにまとめよ。"
      ]
    },
    {
      "cell_type": "code",
      "source": [
        "import pandas as pd\n",
        "from sklearn.feature_extraction import DictVectorizer\n",
        "from sklearn.linear_model import LogisticRegression\n",
        "from sklearn.metrics import accuracy_score\n",
        "import matplotlib.pyplot as plt\n",
        "import numpy as np\n",
        "\n",
        "# Bag of Words に変換\n",
        "def to_bow_dataset(df):\n",
        "    dataset = []\n",
        "    for _, row in df.iterrows():\n",
        "        text = row[\"sentence\"]\n",
        "        label = row[\"label\"]\n",
        "        tokens = text.split()\n",
        "        feature = {}\n",
        "        for token in tokens:\n",
        "            feature[token] = feature.get(token, 0) + 1\n",
        "        dataset.append({\"text\": text, \"label\": str(label), \"feature\": feature})\n",
        "    return dataset\n",
        "\n",
        "train_bow_dataset = to_bow_dataset(train_df)\n",
        "dev_bow_dataset = to_bow_dataset(dev_df)\n",
        "\n",
        "# 特徴ベクトルに変換\n",
        "vectorizer = DictVectorizer()\n",
        "X_train = vectorizer.fit_transform([ex[\"feature\"] for ex in train_bow_dataset])\n",
        "y_train = [int(ex[\"label\"]) for ex in train_bow_dataset]\n",
        "\n",
        "X_dev = vectorizer.transform([ex[\"feature\"] for ex in dev_bow_dataset])\n",
        "y_dev = [int(ex[\"label\"]) for ex in dev_bow_dataset]\n",
        "\n",
        "# 正則化パラメータ C を変化させて学習・評価\n",
        "C_values = np.logspace(-4, 2, 20)\n",
        "accuracies = []\n",
        "\n",
        "for C in C_values:\n",
        "    model = LogisticRegression(C=C, max_iter=1000)\n",
        "    model.fit(X_train, y_train)\n",
        "    y_pred = model.predict(X_dev)\n",
        "    acc = accuracy_score(y_dev, y_pred)\n",
        "    accuracies.append(acc)\n"
      ],
      "metadata": {
        "collapsed": true,
        "id": "BqRIbpYccRZC",
        "outputId": "a7453c8f-3f6e-4967-acf0-a35a75984ce5",
        "colab": {
          "base_uri": "https://localhost:8080/",
          "height": 1000
        }
      },
      "execution_count": 21,
      "outputs": [
        {
          "output_type": "stream",
          "name": "stderr",
          "text": [
            "<ipython-input-21-ea48461ea723>:51: UserWarning: Glyph 27491 (\\N{CJK UNIFIED IDEOGRAPH-6B63}) missing from font(s) DejaVu Sans.\n",
            "  plt.tight_layout()\n",
            "<ipython-input-21-ea48461ea723>:51: UserWarning: Glyph 21063 (\\N{CJK UNIFIED IDEOGRAPH-5247}) missing from font(s) DejaVu Sans.\n",
            "  plt.tight_layout()\n",
            "<ipython-input-21-ea48461ea723>:51: UserWarning: Glyph 21270 (\\N{CJK UNIFIED IDEOGRAPH-5316}) missing from font(s) DejaVu Sans.\n",
            "  plt.tight_layout()\n",
            "<ipython-input-21-ea48461ea723>:51: UserWarning: Glyph 12497 (\\N{KATAKANA LETTER PA}) missing from font(s) DejaVu Sans.\n",
            "  plt.tight_layout()\n",
            "<ipython-input-21-ea48461ea723>:51: UserWarning: Glyph 12521 (\\N{KATAKANA LETTER RA}) missing from font(s) DejaVu Sans.\n",
            "  plt.tight_layout()\n",
            "<ipython-input-21-ea48461ea723>:51: UserWarning: Glyph 12513 (\\N{KATAKANA LETTER ME}) missing from font(s) DejaVu Sans.\n",
            "  plt.tight_layout()\n",
            "<ipython-input-21-ea48461ea723>:51: UserWarning: Glyph 12540 (\\N{KATAKANA-HIRAGANA PROLONGED SOUND MARK}) missing from font(s) DejaVu Sans.\n",
            "  plt.tight_layout()\n",
            "<ipython-input-21-ea48461ea723>:51: UserWarning: Glyph 12479 (\\N{KATAKANA LETTER TA}) missing from font(s) DejaVu Sans.\n",
            "  plt.tight_layout()\n",
            "<ipython-input-21-ea48461ea723>:51: UserWarning: Glyph 65288 (\\N{FULLWIDTH LEFT PARENTHESIS}) missing from font(s) DejaVu Sans.\n",
            "  plt.tight_layout()\n",
            "<ipython-input-21-ea48461ea723>:51: UserWarning: Glyph 22823 (\\N{CJK UNIFIED IDEOGRAPH-5927}) missing from font(s) DejaVu Sans.\n",
            "  plt.tight_layout()\n",
            "<ipython-input-21-ea48461ea723>:51: UserWarning: Glyph 12365 (\\N{HIRAGANA LETTER KI}) missing from font(s) DejaVu Sans.\n",
            "  plt.tight_layout()\n",
            "<ipython-input-21-ea48461ea723>:51: UserWarning: Glyph 12356 (\\N{HIRAGANA LETTER I}) missing from font(s) DejaVu Sans.\n",
            "  plt.tight_layout()\n",
            "<ipython-input-21-ea48461ea723>:51: UserWarning: Glyph 12411 (\\N{HIRAGANA LETTER HO}) missing from font(s) DejaVu Sans.\n",
            "  plt.tight_layout()\n",
            "<ipython-input-21-ea48461ea723>:51: UserWarning: Glyph 12393 (\\N{HIRAGANA LETTER DO}) missing from font(s) DejaVu Sans.\n",
            "  plt.tight_layout()\n",
            "<ipython-input-21-ea48461ea723>:51: UserWarning: Glyph 12364 (\\N{HIRAGANA LETTER GA}) missing from font(s) DejaVu Sans.\n",
            "  plt.tight_layout()\n",
            "<ipython-input-21-ea48461ea723>:51: UserWarning: Glyph 24369 (\\N{CJK UNIFIED IDEOGRAPH-5F31}) missing from font(s) DejaVu Sans.\n",
            "  plt.tight_layout()\n",
            "<ipython-input-21-ea48461ea723>:51: UserWarning: Glyph 65289 (\\N{FULLWIDTH RIGHT PARENTHESIS}) missing from font(s) DejaVu Sans.\n",
            "  plt.tight_layout()\n",
            "<ipython-input-21-ea48461ea723>:51: UserWarning: Glyph 26908 (\\N{CJK UNIFIED IDEOGRAPH-691C}) missing from font(s) DejaVu Sans.\n",
            "  plt.tight_layout()\n",
            "<ipython-input-21-ea48461ea723>:51: UserWarning: Glyph 35388 (\\N{CJK UNIFIED IDEOGRAPH-8A3C}) missing from font(s) DejaVu Sans.\n",
            "  plt.tight_layout()\n",
            "<ipython-input-21-ea48461ea723>:51: UserWarning: Glyph 12487 (\\N{KATAKANA LETTER DE}) missing from font(s) DejaVu Sans.\n",
            "  plt.tight_layout()\n",
            "<ipython-input-21-ea48461ea723>:51: UserWarning: Glyph 19978 (\\N{CJK UNIFIED IDEOGRAPH-4E0A}) missing from font(s) DejaVu Sans.\n",
            "  plt.tight_layout()\n",
            "<ipython-input-21-ea48461ea723>:51: UserWarning: Glyph 12398 (\\N{HIRAGANA LETTER NO}) missing from font(s) DejaVu Sans.\n",
            "  plt.tight_layout()\n",
            "<ipython-input-21-ea48461ea723>:51: UserWarning: Glyph 35299 (\\N{CJK UNIFIED IDEOGRAPH-89E3}) missing from font(s) DejaVu Sans.\n",
            "  plt.tight_layout()\n",
            "<ipython-input-21-ea48461ea723>:51: UserWarning: Glyph 29575 (\\N{CJK UNIFIED IDEOGRAPH-7387}) missing from font(s) DejaVu Sans.\n",
            "  plt.tight_layout()\n",
            "<ipython-input-21-ea48461ea723>:51: UserWarning: Glyph 12392 (\\N{HIRAGANA LETTER TO}) missing from font(s) DejaVu Sans.\n",
            "  plt.tight_layout()\n",
            "<ipython-input-21-ea48461ea723>:51: UserWarning: Glyph 31934 (\\N{CJK UNIFIED IDEOGRAPH-7CBE}) missing from font(s) DejaVu Sans.\n",
            "  plt.tight_layout()\n",
            "<ipython-input-21-ea48461ea723>:51: UserWarning: Glyph 24230 (\\N{CJK UNIFIED IDEOGRAPH-5EA6}) missing from font(s) DejaVu Sans.\n",
            "  plt.tight_layout()\n",
            "<ipython-input-21-ea48461ea723>:51: UserWarning: Glyph 38306 (\\N{CJK UNIFIED IDEOGRAPH-95A2}) missing from font(s) DejaVu Sans.\n",
            "  plt.tight_layout()\n",
            "<ipython-input-21-ea48461ea723>:51: UserWarning: Glyph 20418 (\\N{CJK UNIFIED IDEOGRAPH-4FC2}) missing from font(s) DejaVu Sans.\n",
            "  plt.tight_layout()\n",
            "/usr/local/lib/python3.11/dist-packages/IPython/core/pylabtools.py:151: UserWarning: Glyph 26908 (\\N{CJK UNIFIED IDEOGRAPH-691C}) missing from font(s) DejaVu Sans.\n",
            "  fig.canvas.print_figure(bytes_io, **kw)\n",
            "/usr/local/lib/python3.11/dist-packages/IPython/core/pylabtools.py:151: UserWarning: Glyph 35388 (\\N{CJK UNIFIED IDEOGRAPH-8A3C}) missing from font(s) DejaVu Sans.\n",
            "  fig.canvas.print_figure(bytes_io, **kw)\n",
            "/usr/local/lib/python3.11/dist-packages/IPython/core/pylabtools.py:151: UserWarning: Glyph 12487 (\\N{KATAKANA LETTER DE}) missing from font(s) DejaVu Sans.\n",
            "  fig.canvas.print_figure(bytes_io, **kw)\n",
            "/usr/local/lib/python3.11/dist-packages/IPython/core/pylabtools.py:151: UserWarning: Glyph 12540 (\\N{KATAKANA-HIRAGANA PROLONGED SOUND MARK}) missing from font(s) DejaVu Sans.\n",
            "  fig.canvas.print_figure(bytes_io, **kw)\n",
            "/usr/local/lib/python3.11/dist-packages/IPython/core/pylabtools.py:151: UserWarning: Glyph 12479 (\\N{KATAKANA LETTER TA}) missing from font(s) DejaVu Sans.\n",
            "  fig.canvas.print_figure(bytes_io, **kw)\n",
            "/usr/local/lib/python3.11/dist-packages/IPython/core/pylabtools.py:151: UserWarning: Glyph 19978 (\\N{CJK UNIFIED IDEOGRAPH-4E0A}) missing from font(s) DejaVu Sans.\n",
            "  fig.canvas.print_figure(bytes_io, **kw)\n",
            "/usr/local/lib/python3.11/dist-packages/IPython/core/pylabtools.py:151: UserWarning: Glyph 12398 (\\N{HIRAGANA LETTER NO}) missing from font(s) DejaVu Sans.\n",
            "  fig.canvas.print_figure(bytes_io, **kw)\n",
            "/usr/local/lib/python3.11/dist-packages/IPython/core/pylabtools.py:151: UserWarning: Glyph 27491 (\\N{CJK UNIFIED IDEOGRAPH-6B63}) missing from font(s) DejaVu Sans.\n",
            "  fig.canvas.print_figure(bytes_io, **kw)\n",
            "/usr/local/lib/python3.11/dist-packages/IPython/core/pylabtools.py:151: UserWarning: Glyph 35299 (\\N{CJK UNIFIED IDEOGRAPH-89E3}) missing from font(s) DejaVu Sans.\n",
            "  fig.canvas.print_figure(bytes_io, **kw)\n",
            "/usr/local/lib/python3.11/dist-packages/IPython/core/pylabtools.py:151: UserWarning: Glyph 29575 (\\N{CJK UNIFIED IDEOGRAPH-7387}) missing from font(s) DejaVu Sans.\n",
            "  fig.canvas.print_figure(bytes_io, **kw)\n",
            "/usr/local/lib/python3.11/dist-packages/IPython/core/pylabtools.py:151: UserWarning: Glyph 21063 (\\N{CJK UNIFIED IDEOGRAPH-5247}) missing from font(s) DejaVu Sans.\n",
            "  fig.canvas.print_figure(bytes_io, **kw)\n",
            "/usr/local/lib/python3.11/dist-packages/IPython/core/pylabtools.py:151: UserWarning: Glyph 21270 (\\N{CJK UNIFIED IDEOGRAPH-5316}) missing from font(s) DejaVu Sans.\n",
            "  fig.canvas.print_figure(bytes_io, **kw)\n",
            "/usr/local/lib/python3.11/dist-packages/IPython/core/pylabtools.py:151: UserWarning: Glyph 12497 (\\N{KATAKANA LETTER PA}) missing from font(s) DejaVu Sans.\n",
            "  fig.canvas.print_figure(bytes_io, **kw)\n",
            "/usr/local/lib/python3.11/dist-packages/IPython/core/pylabtools.py:151: UserWarning: Glyph 12521 (\\N{KATAKANA LETTER RA}) missing from font(s) DejaVu Sans.\n",
            "  fig.canvas.print_figure(bytes_io, **kw)\n",
            "/usr/local/lib/python3.11/dist-packages/IPython/core/pylabtools.py:151: UserWarning: Glyph 12513 (\\N{KATAKANA LETTER ME}) missing from font(s) DejaVu Sans.\n",
            "  fig.canvas.print_figure(bytes_io, **kw)\n",
            "/usr/local/lib/python3.11/dist-packages/IPython/core/pylabtools.py:151: UserWarning: Glyph 12392 (\\N{HIRAGANA LETTER TO}) missing from font(s) DejaVu Sans.\n",
            "  fig.canvas.print_figure(bytes_io, **kw)\n",
            "/usr/local/lib/python3.11/dist-packages/IPython/core/pylabtools.py:151: UserWarning: Glyph 31934 (\\N{CJK UNIFIED IDEOGRAPH-7CBE}) missing from font(s) DejaVu Sans.\n",
            "  fig.canvas.print_figure(bytes_io, **kw)\n",
            "/usr/local/lib/python3.11/dist-packages/IPython/core/pylabtools.py:151: UserWarning: Glyph 24230 (\\N{CJK UNIFIED IDEOGRAPH-5EA6}) missing from font(s) DejaVu Sans.\n",
            "  fig.canvas.print_figure(bytes_io, **kw)\n",
            "/usr/local/lib/python3.11/dist-packages/IPython/core/pylabtools.py:151: UserWarning: Glyph 38306 (\\N{CJK UNIFIED IDEOGRAPH-95A2}) missing from font(s) DejaVu Sans.\n",
            "  fig.canvas.print_figure(bytes_io, **kw)\n",
            "/usr/local/lib/python3.11/dist-packages/IPython/core/pylabtools.py:151: UserWarning: Glyph 20418 (\\N{CJK UNIFIED IDEOGRAPH-4FC2}) missing from font(s) DejaVu Sans.\n",
            "  fig.canvas.print_figure(bytes_io, **kw)\n",
            "/usr/local/lib/python3.11/dist-packages/IPython/core/pylabtools.py:151: UserWarning: Glyph 65288 (\\N{FULLWIDTH LEFT PARENTHESIS}) missing from font(s) DejaVu Sans.\n",
            "  fig.canvas.print_figure(bytes_io, **kw)\n",
            "/usr/local/lib/python3.11/dist-packages/IPython/core/pylabtools.py:151: UserWarning: Glyph 22823 (\\N{CJK UNIFIED IDEOGRAPH-5927}) missing from font(s) DejaVu Sans.\n",
            "  fig.canvas.print_figure(bytes_io, **kw)\n",
            "/usr/local/lib/python3.11/dist-packages/IPython/core/pylabtools.py:151: UserWarning: Glyph 12365 (\\N{HIRAGANA LETTER KI}) missing from font(s) DejaVu Sans.\n",
            "  fig.canvas.print_figure(bytes_io, **kw)\n",
            "/usr/local/lib/python3.11/dist-packages/IPython/core/pylabtools.py:151: UserWarning: Glyph 12356 (\\N{HIRAGANA LETTER I}) missing from font(s) DejaVu Sans.\n",
            "  fig.canvas.print_figure(bytes_io, **kw)\n",
            "/usr/local/lib/python3.11/dist-packages/IPython/core/pylabtools.py:151: UserWarning: Glyph 12411 (\\N{HIRAGANA LETTER HO}) missing from font(s) DejaVu Sans.\n",
            "  fig.canvas.print_figure(bytes_io, **kw)\n",
            "/usr/local/lib/python3.11/dist-packages/IPython/core/pylabtools.py:151: UserWarning: Glyph 12393 (\\N{HIRAGANA LETTER DO}) missing from font(s) DejaVu Sans.\n",
            "  fig.canvas.print_figure(bytes_io, **kw)\n",
            "/usr/local/lib/python3.11/dist-packages/IPython/core/pylabtools.py:151: UserWarning: Glyph 12364 (\\N{HIRAGANA LETTER GA}) missing from font(s) DejaVu Sans.\n",
            "  fig.canvas.print_figure(bytes_io, **kw)\n",
            "/usr/local/lib/python3.11/dist-packages/IPython/core/pylabtools.py:151: UserWarning: Glyph 24369 (\\N{CJK UNIFIED IDEOGRAPH-5F31}) missing from font(s) DejaVu Sans.\n",
            "  fig.canvas.print_figure(bytes_io, **kw)\n",
            "/usr/local/lib/python3.11/dist-packages/IPython/core/pylabtools.py:151: UserWarning: Glyph 65289 (\\N{FULLWIDTH RIGHT PARENTHESIS}) missing from font(s) DejaVu Sans.\n",
            "  fig.canvas.print_figure(bytes_io, **kw)\n"
          ]
        },
        {
          "output_type": "display_data",
          "data": {
            "text/plain": [
              "<Figure size 1000x600 with 1 Axes>"
            ],
            "image/png": "[encoded data removed]"
          },
          "metadata": {}
        }
      ]
    },
    {
      "cell_type": "code",
      "source": [
        "\n",
        "# グラフ描画\n",
        "plt.figure(figsize=(10, 6))\n",
        "plt.plot(C_values, accuracies, marker='o')\n",
        "plt.xscale('log')\n",
        "plt.xlabel(\"C\")\n",
        "plt.ylabel(\"Accuracy\")\n",
        "plt.title(\" \")\n",
        "plt.grid(True)\n",
        "plt.tight_layout()\n",
        "plt.show()\n"
      ],
      "metadata": {
        "id": "hlMAD4srdQ2A",
        "outputId": "61de0514-2a01-43ec-aed9-f3edef799d39",
        "colab": {
          "base_uri": "https://localhost:8080/",
          "height": 392
        }
      },
      "execution_count": 23,
      "outputs": [
        {
          "output_type": "display_data",
          "data": {
            "text/plain": [
              "<Figure size 1000x600 with 1 Axes>"
            ],
            "image/png": "[encoded data removed]"
          },
          "metadata": {}
        }
      ]
    }
  ],
  "metadata": {
    "colab": {
      "provenance": []
    },
    "kernelspec": {
      "display_name": "Python 3 (ipykernel)",
      "language": "python",
      "name": "python3"
    },
    "language_info": {
      "codemirror_mode": {
        "name": "ipython",
        "version": 3
      },
      "file_extension": ".py",
      "mimetype": "text/x-python",
      "name": "python",
      "nbconvert_exporter": "python",
      "pygments_lexer": "ipython3",
      "version": "3.12.3"
    }
  },
  "nbformat": 4,
  "nbformat_minor": 0
}