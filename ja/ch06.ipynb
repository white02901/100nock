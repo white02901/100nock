{
  "cells": [
    {
      "cell_type": "markdown",
      "id": "8df29512-a5c0-4e06-8c53-91eaab143762",
      "metadata": {
        "editable": true,
        "id": "8df29512-a5c0-4e06-8c53-91eaab143762",
        "tags": []
      },
      "source": [
        "# 第6章: 単語ベクトル"
      ]
    },
    {
      "cell_type": "markdown",
      "id": "b05585fe-de49-4474-b2f9-57888e067319",
      "metadata": {
        "id": "b05585fe-de49-4474-b2f9-57888e067319"
      },
      "source": [
        "単語の意味を実ベクトルで表現する単語ベクトル（単語埋め込み）に関して、以下の処理を行うプログラムを作成せよ。"
      ]
    },
    {
      "cell_type": "code",
      "source": [
        "!pwd"
      ],
      "metadata": {
        "colab": {
          "base_uri": "https://localhost:8080/"
        },
        "id": "eZCBzptpaP2y",
        "outputId": "759c100c-24ab-4d4a-aa9b-d60530b4a9aa"
      },
      "id": "eZCBzptpaP2y",
      "execution_count": 1,
      "outputs": [
        {
          "output_type": "stream",
          "name": "stdout",
          "text": [
            "/content\n"
          ]
        }
      ]
    },
    {
      "cell_type": "markdown",
      "id": "c0afdc8e-57f5-4388-a914-1150d846d5da",
      "metadata": {
        "id": "c0afdc8e-57f5-4388-a914-1150d846d5da"
      },
      "source": [
        "## 50. 単語ベクトルの読み込みと表示\n",
        "\n",
        "Google Newsデータセット（約1,000億単語）での[学習済み単語ベクトル](https://drive.google.com/file/d/0B7XkCwpI5KDYNlNUTTlSS21pQmM/edit?usp=sharing)（300万単語・フレーズ、300次元）をダウンロードし、\"United States\"の単語ベクトルを表示せよ。ただし、\"United States\"は内部的には\"United_States\"と表現されていることに注意せよ。"
      ]
    },
    {
      "cell_type": "code",
      "source": [
        "!pip install gensim"
      ],
      "metadata": {
        "collapsed": true,
        "colab": {
          "base_uri": "https://localhost:8080/"
        },
        "id": "rsV5qa4-atid",
        "outputId": "a9e83ea2-8ccf-437e-c886-5db90713a915"
      },
      "id": "rsV5qa4-atid",
      "execution_count": 1,
      "outputs": [
        {
          "output_type": "stream",
          "name": "stdout",
          "text": [
            "Requirement already satisfied: gensim in /usr/local/lib/python3.11/dist-packages (4.3.3)\n",
            "Requirement already satisfied: numpy<2.0,>=1.18.5 in /usr/local/lib/python3.11/dist-packages (from gensim) (1.26.4)\n",
            "Requirement already satisfied: scipy<1.14.0,>=1.7.0 in /usr/local/lib/python3.11/dist-packages (from gensim) (1.13.1)\n",
            "Requirement already satisfied: smart-open>=1.8.1 in /usr/local/lib/python3.11/dist-packages (from gensim) (7.1.0)\n",
            "Requirement already satisfied: wrapt in /usr/local/lib/python3.11/dist-packages (from smart-open>=1.8.1->gensim) (1.17.2)\n"
          ]
        }
      ]
    },
    {
      "cell_type": "code",
      "source": [
        "import gensim.downloader as api\n",
        "\n",
        "# Google Newsの学習済み単語ベクトルをダウンロード・ロード\n",
        "wv = api.load('word2vec-google-news-300')\n",
        "\n",
        "# \"United_States\" の単語ベクトルを表示\n",
        "if \"United_States\" in wv:\n",
        "    print(wv[\"United_States\"])\n",
        "else:\n",
        "    print(\"単語 'United_States' はボキャブラリに含まれていません。\")"
      ],
      "metadata": {
        "colab": {
          "base_uri": "https://localhost:8080/"
        },
        "id": "KjAC-_ZXas1o",
        "outputId": "0ada6ca0-f129-4692-b83e-230a297501cf"
      },
      "id": "KjAC-_ZXas1o",
      "execution_count": 2,
      "outputs": [
        {
          "output_type": "stream",
          "name": "stdout",
          "text": [
            "[==================================================] 100.0% 1662.8/1662.8MB downloaded\n",
            "[-3.61328125e-02 -4.83398438e-02  2.35351562e-01  1.74804688e-01\n",
            " -1.46484375e-01 -7.42187500e-02 -1.01562500e-01 -7.71484375e-02\n",
            "  1.09375000e-01 -5.71289062e-02 -1.48437500e-01 -6.00585938e-02\n",
            "  1.74804688e-01 -7.71484375e-02  2.58789062e-02 -7.66601562e-02\n",
            " -3.80859375e-02  1.35742188e-01  3.75976562e-02 -4.19921875e-02\n",
            " -3.56445312e-02  5.34667969e-02  3.68118286e-04 -1.66992188e-01\n",
            " -1.17187500e-01  1.41601562e-01 -1.69921875e-01 -6.49414062e-02\n",
            " -1.66992188e-01  1.00585938e-01  1.15722656e-01 -2.18750000e-01\n",
            " -9.86328125e-02 -2.56347656e-02  1.23046875e-01 -3.54003906e-02\n",
            " -1.58203125e-01 -1.60156250e-01  2.94189453e-02  8.15429688e-02\n",
            "  6.88476562e-02  1.87500000e-01  6.49414062e-02  1.15234375e-01\n",
            " -2.27050781e-02  3.32031250e-01 -3.27148438e-02  1.77734375e-01\n",
            " -2.08007812e-01  4.54101562e-02 -1.23901367e-02  1.19628906e-01\n",
            "  7.44628906e-03 -9.03320312e-03  1.14257812e-01  1.69921875e-01\n",
            " -2.38281250e-01 -2.79541016e-02 -1.21093750e-01  2.47802734e-02\n",
            "  7.71484375e-02 -2.81982422e-02 -4.71191406e-02  1.78222656e-02\n",
            " -1.23046875e-01 -5.32226562e-02  2.68554688e-02 -3.11279297e-02\n",
            " -5.59082031e-02 -5.00488281e-02 -3.73535156e-02  1.25976562e-01\n",
            "  5.61523438e-02  1.51367188e-01  4.29687500e-02 -2.08007812e-01\n",
            " -4.78515625e-02  2.78320312e-02  1.81640625e-01  2.20703125e-01\n",
            " -3.61328125e-02 -8.39843750e-02 -3.69548798e-05 -9.52148438e-02\n",
            " -1.25000000e-01 -1.95312500e-01 -1.50390625e-01 -4.15039062e-02\n",
            "  1.31835938e-01  1.17675781e-01  1.91650391e-02  5.51757812e-02\n",
            " -9.42382812e-02 -1.08886719e-01  7.32421875e-02 -1.15234375e-01\n",
            "  8.93554688e-02 -1.40625000e-01  1.45507812e-01  4.49218750e-02\n",
            " -1.10473633e-02 -1.62353516e-02  4.05883789e-03  3.75976562e-02\n",
            " -6.98242188e-02 -5.46875000e-02  2.17285156e-02 -9.47265625e-02\n",
            "  4.24804688e-02  1.81884766e-02 -1.73339844e-02  4.63867188e-02\n",
            " -1.42578125e-01  1.99218750e-01  1.10839844e-01  2.58789062e-02\n",
            " -7.08007812e-02 -5.54199219e-02  3.45703125e-01  1.61132812e-01\n",
            " -2.44140625e-01 -2.59765625e-01 -9.71679688e-02  8.00781250e-02\n",
            " -8.78906250e-02 -7.22656250e-02  1.42578125e-01 -8.54492188e-02\n",
            " -3.18359375e-01  8.30078125e-02  6.34765625e-02  1.64062500e-01\n",
            " -1.92382812e-01 -1.17675781e-01 -5.41992188e-02 -1.56250000e-01\n",
            " -1.21582031e-01 -4.95605469e-02  1.20117188e-01 -3.83300781e-02\n",
            "  5.51757812e-02 -8.97216797e-03  4.32128906e-02  6.93359375e-02\n",
            "  8.93554688e-02  2.53906250e-01  1.65039062e-01  1.64062500e-01\n",
            " -1.41601562e-01  4.58984375e-02  1.97265625e-01 -8.98437500e-02\n",
            "  3.90625000e-02 -1.51367188e-01 -8.60595703e-03 -1.17675781e-01\n",
            " -1.97265625e-01 -1.12792969e-01  1.29882812e-01  1.96289062e-01\n",
            "  1.56402588e-03  3.93066406e-02  2.17773438e-01 -1.43554688e-01\n",
            "  6.03027344e-02 -1.35742188e-01  1.16210938e-01 -1.59912109e-02\n",
            "  2.79296875e-01  1.46484375e-01 -1.19628906e-01  1.76757812e-01\n",
            "  1.28906250e-01 -1.49414062e-01  6.93359375e-02 -1.72851562e-01\n",
            "  9.22851562e-02  1.33056641e-02 -2.00195312e-01 -9.76562500e-02\n",
            " -1.65039062e-01 -2.46093750e-01 -2.35595703e-02 -2.11914062e-01\n",
            "  1.84570312e-01 -1.85546875e-02  2.16796875e-01  5.05371094e-02\n",
            "  2.02636719e-02  4.25781250e-01  1.28906250e-01 -2.77099609e-02\n",
            "  1.29882812e-01 -1.15722656e-01 -2.05078125e-02  1.49414062e-01\n",
            "  7.81250000e-03 -2.05078125e-01 -8.05664062e-02 -2.67578125e-01\n",
            " -2.29492188e-02 -8.20312500e-02  8.64257812e-02  7.61718750e-02\n",
            " -3.66210938e-02  5.22460938e-02 -1.22070312e-01 -1.44042969e-02\n",
            " -2.69531250e-01  8.44726562e-02 -2.52685547e-02 -2.96630859e-02\n",
            " -1.68945312e-01  1.93359375e-01 -1.08398438e-01  1.94091797e-02\n",
            " -1.80664062e-01  1.93359375e-01 -7.08007812e-02  5.85937500e-02\n",
            " -1.01562500e-01 -1.31835938e-01  7.51953125e-02 -7.66601562e-02\n",
            "  3.37219238e-03 -8.59375000e-02  1.25000000e-01  2.92968750e-02\n",
            "  1.70898438e-01 -9.37500000e-02 -1.09375000e-01 -2.50244141e-02\n",
            "  2.11914062e-01 -4.44335938e-02  6.12792969e-02  2.62451172e-02\n",
            " -1.77734375e-01  1.23046875e-01 -7.42187500e-02 -1.67968750e-01\n",
            " -1.08886719e-01 -9.04083252e-04 -7.37304688e-02  5.49316406e-02\n",
            "  6.03027344e-02  8.39843750e-02  9.17968750e-02 -1.32812500e-01\n",
            "  1.22070312e-01 -8.78906250e-03  1.19140625e-01 -1.94335938e-01\n",
            " -6.64062500e-02 -2.07031250e-01  7.37304688e-02  8.93554688e-02\n",
            "  1.81884766e-02 -1.20605469e-01 -2.61230469e-02  2.67333984e-02\n",
            "  7.76367188e-02 -8.30078125e-02  6.78710938e-02 -3.54003906e-02\n",
            "  3.10546875e-01 -2.42919922e-02 -1.41601562e-01 -2.08007812e-01\n",
            " -4.57763672e-03 -6.54296875e-02 -4.95605469e-02  2.22656250e-01\n",
            "  1.53320312e-01 -1.38671875e-01 -5.24902344e-02  4.24804688e-02\n",
            " -2.38281250e-01  1.56250000e-01  5.83648682e-04 -1.20605469e-01\n",
            " -9.22851562e-02 -4.44335938e-02  3.61328125e-02 -1.86767578e-02\n",
            " -8.25195312e-02 -8.25195312e-02 -4.05273438e-02  1.19018555e-02\n",
            "  1.69921875e-01 -2.80761719e-02  3.03649902e-03  9.32617188e-02\n",
            " -8.49609375e-02  1.57470703e-02  7.03125000e-02  1.62353516e-02\n",
            " -2.27050781e-02  3.51562500e-02  2.47070312e-01 -2.67333984e-02]\n"
          ]
        }
      ]
    },
    {
      "cell_type": "markdown",
      "id": "c4e3bb10-c37f-4395-9397-ac71e36bf4ed",
      "metadata": {
        "id": "c4e3bb10-c37f-4395-9397-ac71e36bf4ed"
      },
      "source": [
        "## 51. 単語の類似度\n",
        "\n",
        "\"United States\"と\"U.S.\"のコサイン類似度を計算せよ。"
      ]
    },
    {
      "cell_type": "code",
      "source": [
        "import gensim.downloader as api\n",
        "from gensim.models import KeyedVectors\n",
        "import numpy as np\n",
        "from sklearn.metrics.pairwise import cosine_similarity\n",
        "\n",
        "# Google Newsの学習済み単語ベクトルをロード (すでにロード済みであればスキップ)\n",
        "try:\n",
        "    wv\n",
        "except NameError:\n",
        "    wv = api.load('word2vec-google-news-300')\n",
        "\n",
        "# 単語が存在するか確認し、ベクトルを取得\n",
        "if \"United_States\" in wv and \"U.S.\" in wv:\n",
        "    vector_us = wv[\"United_States\"]\n",
        "    vector_us_short = wv[\"U.S.\"]\n",
        "\n",
        "    # コサイン類似度を計算 (scikit-learnを使用)\n",
        "    similarity = cosine_similarity([vector_us], [vector_us_short])[0][0]\n",
        "    print(f'\"United States\"と\"U.S.\"のコサイン類似度: {similarity}')\n",
        "\n",
        "else:\n",
        "    print(\"指定された単語のいずれか、または両方がボキャブラリに含まれていません。\")"
      ],
      "metadata": {
        "id": "DPySwTAcfPRY",
        "outputId": "db63251e-5f2d-4c94-88e2-eb8386ab6983",
        "colab": {
          "base_uri": "https://localhost:8080/"
        }
      },
      "id": "DPySwTAcfPRY",
      "execution_count": 3,
      "outputs": [
        {
          "output_type": "stream",
          "name": "stdout",
          "text": [
            "\"United States\"と\"U.S.\"のコサイン類似度: 0.7310774922370911\n"
          ]
        }
      ]
    },
    {
      "cell_type": "markdown",
      "id": "36314a02-d3d8-4121-b310-e800b2d1ce3e",
      "metadata": {
        "id": "36314a02-d3d8-4121-b310-e800b2d1ce3e"
      },
      "source": [
        "## 52. 類似度の高い単語10件\n",
        "\n",
        "\"United States\"とコサイン類似度が高い10語と、その類似度を出力せよ。"
      ]
    },
    {
      "cell_type": "code",
      "source": [
        "import gensim.downloader as api\n",
        "from gensim.models import KeyedVectors\n",
        "\n",
        "# Google Newsの学習済み単語ベクトルをロード (すでにロード済みであればスキップ)\n",
        "try:\n",
        "    wv\n",
        "except NameError:\n",
        "    wv = api.load('word2vec-google-news-300')\n",
        "\n",
        "# 単語が存在するか確認\n",
        "if \"United_States\" in wv:\n",
        "    # \"United_States\" との類似度が高い上位10語を取得\n",
        "    similar_words = wv.most_similar(\"United_States\", topn=10)\n",
        "\n",
        "    print('\"United States\"とコサイン類似度が高い上位10語:')\n",
        "    for word, similarity in similar_words:\n",
        "        print(f'{word}: {similarity:.4f}')\n",
        "else:\n",
        "    print(\"単語 'United_States' はボキャブラリに含まれていません。\")"
      ],
      "metadata": {
        "id": "Pj4V9ZL6fYc0",
        "outputId": "2b035d0a-92c3-4d94-a82a-93f2aa52c0cf",
        "colab": {
          "base_uri": "https://localhost:8080/"
        }
      },
      "id": "Pj4V9ZL6fYc0",
      "execution_count": 4,
      "outputs": [
        {
          "output_type": "stream",
          "name": "stdout",
          "text": [
            "\"United States\"とコサイン類似度が高い上位10語:\n",
            "Unites_States: 0.7877\n",
            "Untied_States: 0.7541\n",
            "United_Sates: 0.7401\n",
            "U.S.: 0.7311\n",
            "theUnited_States: 0.6404\n",
            "America: 0.6178\n",
            "UnitedStates: 0.6167\n",
            "Europe: 0.6133\n",
            "countries: 0.6045\n",
            "Canada: 0.6019\n"
          ]
        }
      ]
    },
    {
      "cell_type": "markdown",
      "id": "6de3ff5c-5285-4e96-b8d7-4f995635d146",
      "metadata": {
        "id": "6de3ff5c-5285-4e96-b8d7-4f995635d146"
      },
      "source": [
        "## 53. 加法構成性によるアナロジー\n",
        "\n",
        "\"Spain\"の単語ベクトルから\"Madrid\"のベクトルを引き、\"Athens\"のベクトルを足したベクトルを計算し、そのベクトルと類似度の高い10語とその類似度を出力せよ。"
      ]
    },
    {
      "cell_type": "code",
      "source": [
        "import gensim.downloader as api\n",
        "from gensim.models import KeyedVectors\n",
        "import numpy as np\n",
        "\n",
        "# Google Newsの学習済み単語ベクトルをロード (すでにロード済みであればスキップ)\n",
        "try:\n",
        "    wv\n",
        "except NameError:\n",
        "    wv = api.load('word2vec-google-news-300')\n",
        "\n",
        "# 関連する単語がボキャブラリに存在するか確認\n",
        "if \"Spain\" in wv and \"Madrid\" in wv and \"Athens\" in wv:\n",
        "    # ベクトルの演算: Spain - Madrid + Athens\n",
        "    vector_result = wv[\"Spain\"] - wv[\"Madrid\"] + wv[\"Athens\"]\n",
        "\n",
        "    # 結果ベクトルと類似度が高い上位10語を取得\n",
        "    similar_words = wv.most_similar(positive=[vector_result], topn=10)\n",
        "\n",
        "    print('\"Spain\" - \"Madrid\" + \"Athens\" のベクトルとコサイン類似度が高い上位10語:')\n",
        "    for word, similarity in similar_words:\n",
        "        print(f'{word}: {similarity:.4f}')\n",
        "else:\n",
        "    print(\"指定された単語の一部、または全てがボキャブラリに含まれていません。\")"
      ],
      "metadata": {
        "id": "TVC_Y9q1fqfm",
        "outputId": "0861f07b-315e-4cc5-93d4-9840f281c1f6",
        "colab": {
          "base_uri": "https://localhost:8080/"
        }
      },
      "id": "TVC_Y9q1fqfm",
      "execution_count": 5,
      "outputs": [
        {
          "output_type": "stream",
          "name": "stdout",
          "text": [
            "\"Spain\" - \"Madrid\" + \"Athens\" のベクトルとコサイン類似度が高い上位10語:\n",
            "Athens: 0.7528\n",
            "Greece: 0.6685\n",
            "Aristeidis_Grigoriadis: 0.5496\n",
            "Ioannis_Drymonakos: 0.5361\n",
            "Greeks: 0.5352\n",
            "Ioannis_Christou: 0.5330\n",
            "Hrysopiyi_Devetzi: 0.5088\n",
            "Iraklion: 0.5059\n",
            "Greek: 0.5041\n",
            "Athens_Greece: 0.5034\n"
          ]
        }
      ]
    },
    {
      "cell_type": "markdown",
      "id": "d5db38ad-b7f4-40b2-a068-0dea071d23e7",
      "metadata": {
        "id": "d5db38ad-b7f4-40b2-a068-0dea071d23e7"
      },
      "source": [
        "## 54. アナロジーデータでの実験\n",
        "\n",
        "[単語アナロジーの評価データ](http://download.tensorflow.org/data/questions-words.txt)をダウンロードし、国と首都に関する事例（`: capital-common-countries`セクション）に対して、vec(2列目の単語) - vec(1列目の単語) + vec(3列目の単語)を計算し、そのベクトルと類似度が最も高い単語と、その類似度を求めよ。求めた単語と類似度は、各事例と一緒に記録せよ。"
      ]
    },
    {
      "cell_type": "code",
      "source": [],
      "metadata": {
        "id": "k-F0v6VKf_RL"
      },
      "id": "k-F0v6VKf_RL",
      "execution_count": null,
      "outputs": []
    },
    {
      "cell_type": "markdown",
      "id": "dbc1fcff-5555-44da-8b4c-12d97ede10e8",
      "metadata": {
        "id": "dbc1fcff-5555-44da-8b4c-12d97ede10e8"
      },
      "source": [
        "## 55. アナロジータスクでの正解率\n",
        "\n",
        "54の実行結果を用い、意味的アナロジー（semantic analogy）と文法的アナロジー（syntactic analogy）の正解率を測定せよ。"
      ]
    },
    {
      "cell_type": "markdown",
      "id": "b62a9077-45e9-4cf2-8546-5e5b226b4cb6",
      "metadata": {
        "id": "b62a9077-45e9-4cf2-8546-5e5b226b4cb6"
      },
      "source": [
        "## 56. WordSimilarity-353での評価\n",
        "\n",
        "[The WordSimilarity-353 Test Collection](http://www.gabrilovich.com/resources/data/wordsim353/wordsim353.html)の評価データをダウンロードし、単語ベクトルにより計算される類似度のランキングと、人間の類似度判定のランキングの間のスピアマン相関係数を計算せよ。"
      ]
    },
    {
      "cell_type": "markdown",
      "id": "4e45f26a-5896-453b-a11b-a97ef3b3900c",
      "metadata": {
        "id": "4e45f26a-5896-453b-a11b-a97ef3b3900c"
      },
      "source": [
        "## 57. k-meansクラスタリング\n",
        "\n",
        "国名に関する単語ベクトルを抽出し、k-meansクラスタリングをクラスタ数k=5として実行せよ。"
      ]
    },
    {
      "cell_type": "markdown",
      "id": "c63cb16e-7cbe-49e8-8f66-d703600128fa",
      "metadata": {
        "id": "c63cb16e-7cbe-49e8-8f66-d703600128fa"
      },
      "source": [
        "## 58. Ward法によるクラスタリング\n",
        "\n",
        "国名に関する単語ベクトルに対し、Ward法による階層型クラスタリングを実行せよ。さらに、クラスタリング結果をデンドログラムとして可視化せよ。"
      ]
    },
    {
      "cell_type": "markdown",
      "id": "epeDPNhuFoEY",
      "metadata": {
        "id": "epeDPNhuFoEY"
      },
      "source": [
        "## 59. t-SNEによる可視化\n",
        "\n",
        "ベクトル空間上の国名に関する単語ベクトルをt-SNEで可視化せよ。"
      ]
    }
  ],
  "metadata": {
    "colab": {
      "provenance": []
    },
    "kernelspec": {
      "display_name": "Python 3 (ipykernel)",
      "language": "python",
      "name": "python3"
    },
    "language_info": {
      "codemirror_mode": {
        "name": "ipython",
        "version": 3
      },
      "file_extension": ".py",
      "mimetype": "text/x-python",
      "name": "python",
      "nbconvert_exporter": "python",
      "pygments_lexer": "ipython3",
      "version": "3.12.3"
    }
  },
  "nbformat": 4,
  "nbformat_minor": 5
}