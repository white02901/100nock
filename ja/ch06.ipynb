{
  "cells": [
    {
      "cell_type": "markdown",
      "id": "8df29512-a5c0-4e06-8c53-91eaab143762",
      "metadata": {
        "editable": true,
        "id": "8df29512-a5c0-4e06-8c53-91eaab143762",
        "tags": []
      },
      "source": [
        "# 第6章: 単語ベクトル"
      ]
    },
    {
      "cell_type": "markdown",
      "id": "b05585fe-de49-4474-b2f9-57888e067319",
      "metadata": {
        "id": "b05585fe-de49-4474-b2f9-57888e067319"
      },
      "source": [
        "単語の意味を実ベクトルで表現する単語ベクトル（単語埋め込み）に関して、以下の処理を行うプログラムを作成せよ。"
      ]
    },
    {
      "cell_type": "markdown",
      "id": "c0afdc8e-57f5-4388-a914-1150d846d5da",
      "metadata": {
        "id": "c0afdc8e-57f5-4388-a914-1150d846d5da"
      },
      "source": [
        "## 50. 単語ベクトルの読み込みと表示\n",
        "\n",
        "Google Newsデータセット（約1,000億単語）での[学習済み単語ベクトル](https://drive.google.com/file/d/0B7XkCwpI5KDYNlNUTTlSS21pQmM/edit?usp=sharing)（300万単語・フレーズ、300次元）をダウンロードし、\"United States\"の単語ベクトルを表示せよ。ただし、\"United States\"は内部的には\"United_States\"と表現されていることに注意せよ。"
      ]
    },
    {
      "cell_type": "markdown",
      "id": "c4e3bb10-c37f-4395-9397-ac71e36bf4ed",
      "metadata": {
        "id": "c4e3bb10-c37f-4395-9397-ac71e36bf4ed"
      },
      "source": [
        "## 51. 単語の類似度\n",
        "\n",
        "\"United States\"と\"U.S.\"のコサイン類似度を計算せよ。"
      ]
    },
    {
      "cell_type": "markdown",
      "id": "36314a02-d3d8-4121-b310-e800b2d1ce3e",
      "metadata": {
        "id": "36314a02-d3d8-4121-b310-e800b2d1ce3e"
      },
      "source": [
        "## 52. 類似度の高い単語10件\n",
        "\n",
        "\"United States\"とコサイン類似度が高い10語と、その類似度を出力せよ。"
      ]
    },
    {
      "cell_type": "markdown",
      "id": "6de3ff5c-5285-4e96-b8d7-4f995635d146",
      "metadata": {
        "id": "6de3ff5c-5285-4e96-b8d7-4f995635d146"
      },
      "source": [
        "## 53. 加法構成性によるアナロジー\n",
        "\n",
        "\"Spain\"の単語ベクトルから\"Madrid\"のベクトルを引き、\"Athens\"のベクトルを足したベクトルを計算し、そのベクトルと類似度の高い10語とその類似度を出力せよ。"
      ]
    },
    {
      "cell_type": "markdown",
      "id": "d5db38ad-b7f4-40b2-a068-0dea071d23e7",
      "metadata": {
        "id": "d5db38ad-b7f4-40b2-a068-0dea071d23e7"
      },
      "source": [
        "## 54. アナロジーデータでの実験\n",
        "\n",
        "[単語アナロジーの評価データ](http://download.tensorflow.org/data/questions-words.txt)をダウンロードし、国と首都に関する事例（`: capital-common-countries`セクション）に対して、vec(2列目の単語) - vec(1列目の単語) + vec(3列目の単語)を計算し、そのベクトルと類似度が最も高い単語と、その類似度を求めよ。求めた単語と類似度は、各事例と一緒に記録せよ。"
      ]
    },
    {
      "cell_type": "markdown",
      "id": "dbc1fcff-5555-44da-8b4c-12d97ede10e8",
      "metadata": {
        "id": "dbc1fcff-5555-44da-8b4c-12d97ede10e8"
      },
      "source": [
        "## 55. アナロジータスクでの正解率\n",
        "\n",
        "54の実行結果を用い、意味的アナロジー（semantic analogy）と文法的アナロジー（syntactic analogy）の正解率を測定せよ。"
      ]
    },
    {
      "cell_type": "markdown",
      "id": "b62a9077-45e9-4cf2-8546-5e5b226b4cb6",
      "metadata": {
        "id": "b62a9077-45e9-4cf2-8546-5e5b226b4cb6"
      },
      "source": [
        "## 56. WordSimilarity-353での評価\n",
        "\n",
        "[The WordSimilarity-353 Test Collection](http://www.gabrilovich.com/resources/data/wordsim353/wordsim353.html)の評価データをダウンロードし、単語ベクトルにより計算される類似度のランキングと、人間の類似度判定のランキングの間のスピアマン相関係数を計算せよ。"
      ]
    },
    {
      "cell_type": "markdown",
      "id": "4e45f26a-5896-453b-a11b-a97ef3b3900c",
      "metadata": {
        "id": "4e45f26a-5896-453b-a11b-a97ef3b3900c"
      },
      "source": [
        "## 57. k-meansクラスタリング\n",
        "\n",
        "国名に関する単語ベクトルを抽出し、k-meansクラスタリングをクラスタ数k=5として実行せよ。"
      ]
    },
    {
      "cell_type": "markdown",
      "id": "c63cb16e-7cbe-49e8-8f66-d703600128fa",
      "metadata": {
        "id": "c63cb16e-7cbe-49e8-8f66-d703600128fa"
      },
      "source": [
        "## 58. Ward法によるクラスタリング\n",
        "\n",
        "国名に関する単語ベクトルに対し、Ward法による階層型クラスタリングを実行せよ。さらに、クラスタリング結果をデンドログラムとして可視化せよ。"
      ]
    },
    {
      "cell_type": "markdown",
      "id": "epeDPNhuFoEY",
      "metadata": {
        "id": "epeDPNhuFoEY"
      },
      "source": [
        "## 59. t-SNEによる可視化\n",
        "\n",
        "ベクトル空間上の国名に関する単語ベクトルをt-SNEで可視化せよ。"
      ]
    }
  ],
  "metadata": {
    "colab": {
      "provenance": []
    },
    "kernelspec": {
      "display_name": "Python 3 (ipykernel)",
      "language": "python",
      "name": "python3"
    },
    "language_info": {
      "codemirror_mode": {
        "name": "ipython",
        "version": 3
      },
      "file_extension": ".py",
      "mimetype": "text/x-python",
      "name": "python",
      "nbconvert_exporter": "python",
      "pygments_lexer": "ipython3",
      "version": "3.12.3"
    }
  },
  "nbformat": 4,
  "nbformat_minor": 5
}