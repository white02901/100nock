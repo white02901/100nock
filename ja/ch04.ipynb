{
  "cells": [
    {
      "cell_type": "markdown",
      "id": "4d5cd462-0ddc-48c0-848c-bc46be0af9fd",
      "metadata": {
        "editable": true,
        "id": "4d5cd462-0ddc-48c0-848c-bc46be0af9fd",
        "tags": []
      },
      "source": [
        "# 第4章: 言語解析\n",
        "\n",
        "問題30から問題35までは、以下の文章`text`（太宰治の『走れメロス』の冒頭部分）に対して、言語解析を実施せよ。問題36から問題39までは、国家を説明した文書群（日本語版ウィキペディア記事から抽出したテキスト群）をコーパスとして、言語解析を実施せよ。"
      ]
    },
    {
      "cell_type": "code",
      "source": [
        "!pip install mecab-python3\n",
        "!pip install ipadic"
      ],
      "metadata": {
        "colab": {
          "base_uri": "https://localhost:8080/"
        },
        "id": "SYmAmHn_ZCtM",
        "outputId": "a929564f-98d9-43bf-d185-43b461b623b6"
      },
      "id": "SYmAmHn_ZCtM",
      "execution_count": 9,
      "outputs": [
        {
          "output_type": "stream",
          "name": "stdout",
          "text": [
            "Requirement already satisfied: mecab-python3 in /usr/local/lib/python3.11/dist-packages (1.0.10)\n",
            "Collecting ipadic\n",
            "  Downloading ipadic-1.0.0.tar.gz (13.4 MB)\n",
            "\u001b[2K     \u001b[90m━━━━━━━━━━━━━━━━━━━━━━━━━━━━━━━━━━━━━━━━\u001b[0m \u001b[32m13.4/13.4 MB\u001b[0m \u001b[31m80.2 MB/s\u001b[0m eta \u001b[36m0:00:00\u001b[0m\n",
            "\u001b[?25h  Preparing metadata (setup.py) ... \u001b[?25l\u001b[?25hdone\n",
            "Building wheels for collected packages: ipadic\n",
            "  Building wheel for ipadic (setup.py) ... \u001b[?25l\u001b[?25hdone\n",
            "  Created wheel for ipadic: filename=ipadic-1.0.0-py3-none-any.whl size=13556704 sha256=cb166d956f58a712d916250c6a02e1c440678dbaea37ed1eeedb83f02618c1fe\n",
            "  Stored in directory: /root/.cache/pip/wheels/44/56/37/f543963822b85260c9f948df8fac8c20169c80dc71b24dc407\n",
            "Successfully built ipadic\n",
            "Installing collected packages: ipadic\n",
            "Successfully installed ipadic-1.0.0\n"
          ]
        }
      ]
    },
    {
      "cell_type": "code",
      "execution_count": 5,
      "id": "7e6766b0-630b-4b78-8312-27e6f8104e7b",
      "metadata": {
        "editable": true,
        "id": "7e6766b0-630b-4b78-8312-27e6f8104e7b",
        "tags": []
      },
      "outputs": [],
      "source": [
        "text = \"\"\"\n",
        "メロスは激怒した。\n",
        "必ず、かの邪智暴虐の王を除かなければならぬと決意した。\n",
        "メロスには政治がわからぬ。\n",
        "メロスは、村の牧人である。\n",
        "笛を吹き、羊と遊んで暮して来た。\n",
        "けれども邪悪に対しては、人一倍に敏感であった。\n",
        "\"\"\""
      ]
    },
    {
      "cell_type": "markdown",
      "id": "80e3790d-077d-453a-b981-964f609fc4be",
      "metadata": {
        "id": "80e3790d-077d-453a-b981-964f609fc4be"
      },
      "source": [
        "## 30. 動詞\n",
        "文章`text`に含まれる動詞をすべて表示せよ。"
      ]
    },
    {
      "cell_type": "code",
      "source": [
        "!mecab -v"
      ],
      "metadata": {
        "colab": {
          "base_uri": "https://localhost:8080/"
        },
        "id": "F-kz0k-VoUSO",
        "outputId": "b02f33b0-37db-4a46-9b8f-df571bb5b500"
      },
      "id": "F-kz0k-VoUSO",
      "execution_count": 8,
      "outputs": [
        {
          "output_type": "stream",
          "name": "stdout",
          "text": [
            "/bin/bash: line 1: mecab: command not found\n"
          ]
        }
      ]
    },
    {
      "cell_type": "code",
      "source": [
        "import MeCab\n",
        "import ipadic\n",
        "\n",
        "mecab = MeCab.Tagger(ipadic.MECAB_ARGS)\n",
        "parsed = mecab.parse(text)\n",
        "verbs = []\n",
        "for line in parsed.splitlines():\n",
        "    if line == 'EOS':\n",
        "        break\n",
        "    parts = line.split('\\t')\n",
        "    if len(parts) >= 2:\n",
        "        word = parts[0]\n",
        "        part = parts[1].split(',')[0]\n",
        "        if part == '動詞':\n",
        "            verbs.append(word)\n",
        "\n",
        "for verb in verbs:\n",
        "    print(verb)"
      ],
      "metadata": {
        "colab": {
          "base_uri": "https://localhost:8080/"
        },
        "id": "FBHxPNqCZIq8",
        "outputId": "11f968a9-8069-4b37-a352-37cfb7249f3b"
      },
      "id": "FBHxPNqCZIq8",
      "execution_count": 15,
      "outputs": [
        {
          "output_type": "stream",
          "name": "stdout",
          "text": [
            "し\n",
            "除か\n",
            "なら\n",
            "し\n",
            "わから\n",
            "吹き\n",
            "遊ん\n",
            "暮し\n",
            "来\n"
          ]
        }
      ]
    },
    {
      "cell_type": "markdown",
      "id": "5fd1d613-8375-4837-b534-a01451eddf98",
      "metadata": {
        "id": "5fd1d613-8375-4837-b534-a01451eddf98"
      },
      "source": [
        "## 31. 動詞の原型\n",
        "文章`text`に含まれる動詞と、その原型をすべて表示せよ。"
      ]
    },
    {
      "cell_type": "code",
      "source": [
        "print(parsed)"
      ],
      "metadata": {
        "collapsed": true,
        "colab": {
          "base_uri": "https://localhost:8080/"
        },
        "id": "GedyvwLSuBuR",
        "outputId": "b76bbda0-75d7-4aca-e64e-085faaf4719a"
      },
      "id": "GedyvwLSuBuR",
      "execution_count": 18,
      "outputs": [
        {
          "output_type": "stream",
          "name": "stdout",
          "text": [
            "メロス\t名詞,一般,*,*,*,*,*\n",
            "は\t助詞,係助詞,*,*,*,*,は,ハ,ワ\n",
            "激怒\t名詞,サ変接続,*,*,*,*,激怒,ゲキド,ゲキド\n",
            "し\t動詞,自立,*,*,サ変・スル,連用形,する,シ,シ\n",
            "た\t助動詞,*,*,*,特殊・タ,基本形,た,タ,タ\n",
            "。\t記号,句点,*,*,*,*,。,。,。\n",
            "必ず\t副詞,助詞類接続,*,*,*,*,必ず,カナラズ,カナラズ\n",
            "、\t記号,読点,*,*,*,*,、,、,、\n",
            "かの\t連体詞,*,*,*,*,*,かの,カノ,カノ\n",
            "邪智\t名詞,一般,*,*,*,*,邪智,ジャチ,ジャチ\n",
            "暴虐\t名詞,一般,*,*,*,*,暴虐,ボウギャク,ボーギャク\n",
            "の\t助詞,連体化,*,*,*,*,の,ノ,ノ\n",
            "王\t名詞,一般,*,*,*,*,王,オウ,オー\n",
            "を\t助詞,格助詞,一般,*,*,*,を,ヲ,ヲ\n",
            "除か\t動詞,自立,*,*,五段・カ行イ音便,未然形,除く,ノゾカ,ノゾカ\n",
            "なけれ\t助動詞,*,*,*,特殊・ナイ,仮定形,ない,ナケレ,ナケレ\n",
            "ば\t助詞,接続助詞,*,*,*,*,ば,バ,バ\n",
            "なら\t動詞,非自立,*,*,五段・ラ行,未然形,なる,ナラ,ナラ\n",
            "ぬ\t助動詞,*,*,*,特殊・ヌ,基本形,ぬ,ヌ,ヌ\n",
            "と\t助詞,格助詞,引用,*,*,*,と,ト,ト\n",
            "決意\t名詞,サ変接続,*,*,*,*,決意,ケツイ,ケツイ\n",
            "し\t動詞,自立,*,*,サ変・スル,連用形,する,シ,シ\n",
            "た\t助動詞,*,*,*,特殊・タ,基本形,た,タ,タ\n",
            "。\t記号,句点,*,*,*,*,。,。,。\n",
            "メロス\t名詞,一般,*,*,*,*,*\n",
            "に\t助詞,格助詞,一般,*,*,*,に,ニ,ニ\n",
            "は\t助詞,係助詞,*,*,*,*,は,ハ,ワ\n",
            "政治\t名詞,一般,*,*,*,*,政治,セイジ,セイジ\n",
            "が\t助詞,格助詞,一般,*,*,*,が,ガ,ガ\n",
            "わから\t動詞,自立,*,*,五段・ラ行,未然形,わかる,ワカラ,ワカラ\n",
            "ぬ\t助動詞,*,*,*,特殊・ヌ,基本形,ぬ,ヌ,ヌ\n",
            "。\t記号,句点,*,*,*,*,。,。,。\n",
            "メロス\t名詞,一般,*,*,*,*,*\n",
            "は\t助詞,係助詞,*,*,*,*,は,ハ,ワ\n",
            "、\t記号,読点,*,*,*,*,、,、,、\n",
            "村\t名詞,一般,*,*,*,*,村,ムラ,ムラ\n",
            "の\t助詞,連体化,*,*,*,*,の,ノ,ノ\n",
            "牧人\t名詞,一般,*,*,*,*,牧人,ボクジン,ボクジン\n",
            "で\t助動詞,*,*,*,特殊・ダ,連用形,だ,デ,デ\n",
            "ある\t助動詞,*,*,*,五段・ラ行アル,基本形,ある,アル,アル\n",
            "。\t記号,句点,*,*,*,*,。,。,。\n",
            "笛\t名詞,一般,*,*,*,*,笛,フエ,フエ\n",
            "を\t助詞,格助詞,一般,*,*,*,を,ヲ,ヲ\n",
            "吹き\t動詞,自立,*,*,五段・カ行イ音便,連用形,吹く,フキ,フキ\n",
            "、\t記号,読点,*,*,*,*,、,、,、\n",
            "羊\t名詞,一般,*,*,*,*,羊,ヒツジ,ヒツジ\n",
            "と\t助詞,格助詞,一般,*,*,*,と,ト,ト\n",
            "遊ん\t動詞,自立,*,*,五段・バ行,連用タ接続,遊ぶ,アソン,アソン\n",
            "で\t助詞,接続助詞,*,*,*,*,で,デ,デ\n",
            "暮し\t動詞,自立,*,*,五段・サ行,連用形,暮す,クラシ,クラシ\n",
            "て\t助詞,接続助詞,*,*,*,*,て,テ,テ\n",
            "来\t動詞,非自立,*,*,カ変・来ル,連用形,来る,キ,キ\n",
            "た\t助動詞,*,*,*,特殊・タ,基本形,た,タ,タ\n",
            "。\t記号,句点,*,*,*,*,。,。,。\n",
            "けれども\t接続詞,*,*,*,*,*,けれども,ケレドモ,ケレドモ\n",
            "邪悪\t名詞,形容動詞語幹,*,*,*,*,邪悪,ジャアク,ジャアク\n",
            "に対して\t助詞,格助詞,連語,*,*,*,に対して,ニタイシテ,ニタイシテ\n",
            "は\t助詞,係助詞,*,*,*,*,は,ハ,ワ\n",
            "、\t記号,読点,*,*,*,*,、,、,、\n",
            "人一倍\t名詞,形容動詞語幹,*,*,*,*,人一倍,ヒトイチバイ,ヒトイチバイ\n",
            "に\t助詞,副詞化,*,*,*,*,に,ニ,ニ\n",
            "敏感\t名詞,形容動詞語幹,*,*,*,*,敏感,ビンカン,ビンカン\n",
            "で\t助動詞,*,*,*,特殊・ダ,連用形,だ,デ,デ\n",
            "あっ\t助動詞,*,*,*,五段・ラ行アル,連用タ接続,ある,アッ,アッ\n",
            "た\t助動詞,*,*,*,特殊・タ,基本形,た,タ,タ\n",
            "。\t記号,句点,*,*,*,*,。,。,。\n",
            "EOS\n",
            "\n"
          ]
        }
      ]
    },
    {
      "cell_type": "code",
      "source": [
        "import MeCab\n",
        "import ipadic\n",
        "\n",
        "mecab = MeCab.Tagger(ipadic.MECAB_ARGS)\n",
        "parsed = mecab.parse(text)\n",
        "verbs_base_form = []\n",
        "for line in parsed.splitlines():\n",
        "    if line == 'EOS':\n",
        "        break\n",
        "    parts = line.split('\\t')\n",
        "    if len(parts) >= 2:\n",
        "        word = parts[0]\n",
        "        part_info = parts[1].split(',')\n",
        "        part = part_info[0]\n",
        "        base_form = part_info[6]\n",
        "        if part == '動詞':\n",
        "            verbs_base_form.append((word, base_form))\n",
        "\n",
        "for verb, base in verbs_base_form:\n",
        "    print(f'動詞:{verb}, 原型:{base}')"
      ],
      "metadata": {
        "colab": {
          "base_uri": "https://localhost:8080/"
        },
        "id": "-oAOawlgq_Sq",
        "outputId": "b5e67f87-5b2a-4522-9aad-e135828facad"
      },
      "id": "-oAOawlgq_Sq",
      "execution_count": 22,
      "outputs": [
        {
          "output_type": "stream",
          "name": "stdout",
          "text": [
            "動詞:し, 原型:する\n",
            "動詞:除か, 原型:除く\n",
            "動詞:なら, 原型:なる\n",
            "動詞:し, 原型:する\n",
            "動詞:わから, 原型:わかる\n",
            "動詞:吹き, 原型:吹く\n",
            "動詞:遊ん, 原型:遊ぶ\n",
            "動詞:暮し, 原型:暮す\n",
            "動詞:来, 原型:来る\n"
          ]
        }
      ]
    },
    {
      "cell_type": "markdown",
      "id": "34558343-a286-429b-b3ee-b1e6b3ca4561",
      "metadata": {
        "id": "34558343-a286-429b-b3ee-b1e6b3ca4561"
      },
      "source": [
        "## 32. 「AのB」\n",
        "文章`text`において、2つの名詞が「の」で連結されている名詞句をすべて抽出せよ。"
      ]
    },
    {
      "cell_type": "code",
      "source": [
        "import MeCab\n",
        "import ipadic\n",
        "\n",
        "mecab = MeCab.Tagger(ipadic.MECAB_ARGS)\n",
        "parsed = mecab.parse(text)\n",
        "\n",
        "noun_phrases = []\n",
        "tokens = []\n",
        "verbs_base_form = []\n",
        "for line in parsed.splitlines():\n",
        "    if line == 'EOS':\n",
        "        break\n",
        "    parts = line.split('\\t')\n",
        "    if len(parts) >= 2:\n",
        "        word = parts[0]\n",
        "        part_info = parts[1].split(',')\n",
        "        part = part_info[0]\n",
        "        tokens.append((word, part))\n",
        "\n",
        "for i in range(len(tokens) - 2):\n",
        "  word1, pos1 = tokens[i]\n",
        "  word2, pos2 = tokens[i+1]\n",
        "  word3, pos3 = tokens[i+2]\n",
        "\n",
        "  if pos1 == '名詞' and pos2 == '助詞' and word2 == 'の' and pos3 == '名詞':\n",
        "    noun_phrases.append(word1 + 'の' + word3)\n",
        "\n",
        "for phrase in noun_phrases:\n",
        "    print(phrase)"
      ],
      "metadata": {
        "colab": {
          "base_uri": "https://localhost:8080/"
        },
        "id": "2Hhu3jOrxJEr",
        "outputId": "581f2457-d824-4896-c984-0225e42a00b3"
      },
      "id": "2Hhu3jOrxJEr",
      "execution_count": 26,
      "outputs": [
        {
          "output_type": "stream",
          "name": "stdout",
          "text": [
            "暴虐の王\n",
            "村の牧人\n"
          ]
        }
      ]
    },
    {
      "cell_type": "markdown",
      "id": "7cac9c74-cd83-42d3-8cde-a4a0f4200094",
      "metadata": {
        "id": "7cac9c74-cd83-42d3-8cde-a4a0f4200094"
      },
      "source": [
        "## 33. 係り受け解析\n",
        "\n",
        "文章`text`に係り受け解析を適用し、係り元と係り先のトークン（形態素や文節などの単位）をタブ区切り形式ですべて抽出せよ。"
      ]
    },
    {
      "cell_type": "code",
      "source": [],
      "metadata": {
        "id": "K5RrR9ZnxfEb"
      },
      "id": "K5RrR9ZnxfEb",
      "execution_count": null,
      "outputs": []
    },
    {
      "cell_type": "markdown",
      "id": "eb49b4d2-9869-4f43-9cd8-9e79e0c1b40f",
      "metadata": {
        "id": "eb49b4d2-9869-4f43-9cd8-9e79e0c1b40f"
      },
      "source": [
        "## 34. 主述の関係\n",
        "文章`text`において、「メロス」が主語であるときの述語を抽出せよ。"
      ]
    },
    {
      "cell_type": "markdown",
      "id": "ec8ba153-85e7-4cbe-bcc0-bb659409d494",
      "metadata": {
        "id": "ec8ba153-85e7-4cbe-bcc0-bb659409d494"
      },
      "source": [
        "## 35. 係り受け木\n",
        "「メロスは激怒した。」の係り受け木を可視化せよ。"
      ]
    },
    {
      "cell_type": "markdown",
      "id": "b880d760-ea6c-4722-9a65-5b97a02ed192",
      "metadata": {
        "id": "b880d760-ea6c-4722-9a65-5b97a02ed192"
      },
      "source": [
        "## 36. 単語の出現頻度\n",
        "\n",
        "問題36から39までは、Wikipediaの記事を以下のフォーマットで書き出したファイル[jawiki-country.json.gz](/data/jawiki-country.json.gz)をコーパスと見なし、統計的な分析を行う。\n",
        "\n",
        "* 1行に1記事の情報がJSON形式で格納される\n",
        "* 各行には記事名が\"title\"キーに、記事本文が\"text\"キーの辞書オブジェクトに格納され、そのオブジェクトがJSON形式で書き出される\n",
        "* ファイル全体はgzipで圧縮される\n",
        "\n",
        "まず、第3章の処理内容を参考に、Wikipedia記事からマークアップを除去し、各記事のテキストを抽出せよ。そして、コーパスにおける単語（形態素）の出現頻度を求め、出現頻度の高い20語とその出現頻度を表示せよ。"
      ]
    },
    {
      "cell_type": "markdown",
      "id": "e38bd27c-0644-4468-8b4d-99318b91c0cb",
      "metadata": {
        "id": "e38bd27c-0644-4468-8b4d-99318b91c0cb"
      },
      "source": [
        "## 37. 名詞の出現頻度\n",
        "コーパスにおける名詞の出現頻度を求め、出現頻度の高い20語とその出現頻度を表示せよ。"
      ]
    },
    {
      "cell_type": "markdown",
      "id": "8a64fda0-5ee3-48ad-9071-f37f805951d3",
      "metadata": {
        "id": "8a64fda0-5ee3-48ad-9071-f37f805951d3"
      },
      "source": [
        "## 38. TF・IDF\n",
        "日本に関する記事における名詞のTF・IDFスコアを求め、TF・IDFスコア上位20語とそのTF, IDF, TF・IDFを表示せよ。"
      ]
    },
    {
      "cell_type": "markdown",
      "id": "5f3b60e9-5d8e-4c2e-a68d-385c91713113",
      "metadata": {
        "id": "5f3b60e9-5d8e-4c2e-a68d-385c91713113"
      },
      "source": [
        "## 39. Zipfの法則\n",
        "コーパスにおける単語の出現頻度順位を横軸、その出現頻度を縦軸として、両対数グラフをプロットせよ。"
      ]
    }
  ],
  "metadata": {
    "colab": {
      "provenance": []
    },
    "kernelspec": {
      "display_name": "Python 3 (ipykernel)",
      "language": "python",
      "name": "python3"
    },
    "language_info": {
      "codemirror_mode": {
        "name": "ipython",
        "version": 3
      },
      "file_extension": ".py",
      "mimetype": "text/x-python",
      "name": "python",
      "nbconvert_exporter": "python",
      "pygments_lexer": "ipython3",
      "version": "3.12.3"
    }
  },
  "nbformat": 4,
  "nbformat_minor": 5
}