{
  "cells": [
    {
      "cell_type": "markdown",
      "id": "4d5cd462-0ddc-48c0-848c-bc46be0af9fd",
      "metadata": {
        "editable": true,
        "id": "4d5cd462-0ddc-48c0-848c-bc46be0af9fd",
        "tags": []
      },
      "source": [
        "# 第4章: 言語解析\n",
        "\n",
        "問題30から問題35までは、以下の文章`text`（太宰治の『走れメロス』の冒頭部分）に対して、言語解析を実施せよ。問題36から問題39までは、国家を説明した文書群（日本語版ウィキペディア記事から抽出したテキスト群）をコーパスとして、言語解析を実施せよ。"
      ]
    },
    {
      "cell_type": "code",
      "source": [
        "!pip install mecab-python3\n",
        "!pip install ipadic"
      ],
      "metadata": {
        "colab": {
          "base_uri": "https://localhost:8080/"
        },
        "id": "SYmAmHn_ZCtM",
        "outputId": "6055709c-7754-44d0-9b65-eea71afaa5b6"
      },
      "id": "SYmAmHn_ZCtM",
      "execution_count": 50,
      "outputs": [
        {
          "output_type": "stream",
          "name": "stdout",
          "text": [
            "Requirement already satisfied: mecab-python3 in /usr/local/lib/python3.11/dist-packages (1.0.10)\n",
            "Requirement already satisfied: ipadic in /usr/local/lib/python3.11/dist-packages (1.0.0)\n"
          ]
        }
      ]
    },
    {
      "cell_type": "code",
      "execution_count": 5,
      "id": "7e6766b0-630b-4b78-8312-27e6f8104e7b",
      "metadata": {
        "editable": true,
        "id": "7e6766b0-630b-4b78-8312-27e6f8104e7b",
        "tags": []
      },
      "outputs": [],
      "source": [
        "text = \"\"\"\n",
        "メロスは激怒した。\n",
        "必ず、かの邪智暴虐の王を除かなければならぬと決意した。\n",
        "メロスには政治がわからぬ。\n",
        "メロスは、村の牧人である。\n",
        "笛を吹き、羊と遊んで暮して来た。\n",
        "けれども邪悪に対しては、人一倍に敏感であった。\n",
        "\"\"\""
      ]
    },
    {
      "cell_type": "markdown",
      "id": "80e3790d-077d-453a-b981-964f609fc4be",
      "metadata": {
        "id": "80e3790d-077d-453a-b981-964f609fc4be"
      },
      "source": [
        "## 30. 動詞\n",
        "文章`text`に含まれる動詞をすべて表示せよ。"
      ]
    },
    {
      "cell_type": "code",
      "source": [
        "import MeCab\n",
        "import ipadic\n",
        "\n",
        "mecab = MeCab.Tagger(ipadic.MECAB_ARGS)\n",
        "parsed = mecab.parse(text)\n",
        "verbs = []\n",
        "for line in parsed.splitlines():\n",
        "    if line == 'EOS':\n",
        "        break\n",
        "    parts = line.split('\\t')\n",
        "    if len(parts) >= 2:\n",
        "        word = parts[0]\n",
        "        part = parts[1].split(',')[0]\n",
        "        if part == '動詞':\n",
        "            verbs.append(word)\n",
        "\n",
        "for verb in verbs:\n",
        "    print(verb)"
      ],
      "metadata": {
        "colab": {
          "base_uri": "https://localhost:8080/"
        },
        "id": "FBHxPNqCZIq8",
        "outputId": "3ad6af74-2899-4f33-e333-7ea532396c8a"
      },
      "id": "FBHxPNqCZIq8",
      "execution_count": 6,
      "outputs": [
        {
          "output_type": "stream",
          "name": "stdout",
          "text": [
            "し\n",
            "除か\n",
            "なら\n",
            "し\n",
            "わから\n",
            "吹き\n",
            "遊ん\n",
            "暮し\n",
            "来\n"
          ]
        }
      ]
    },
    {
      "cell_type": "markdown",
      "id": "5fd1d613-8375-4837-b534-a01451eddf98",
      "metadata": {
        "id": "5fd1d613-8375-4837-b534-a01451eddf98"
      },
      "source": [
        "## 31. 動詞の原型\n",
        "文章`text`に含まれる動詞と、その原型をすべて表示せよ。"
      ]
    },
    {
      "cell_type": "code",
      "source": [
        "print(parsed)"
      ],
      "metadata": {
        "collapsed": true,
        "colab": {
          "base_uri": "https://localhost:8080/"
        },
        "id": "GedyvwLSuBuR",
        "outputId": "a08d3525-2904-4a22-fe98-0a0f8ae93744"
      },
      "id": "GedyvwLSuBuR",
      "execution_count": 7,
      "outputs": [
        {
          "output_type": "stream",
          "name": "stdout",
          "text": [
            "メロス\t名詞,一般,*,*,*,*,*\n",
            "は\t助詞,係助詞,*,*,*,*,は,ハ,ワ\n",
            "激怒\t名詞,サ変接続,*,*,*,*,激怒,ゲキド,ゲキド\n",
            "し\t動詞,自立,*,*,サ変・スル,連用形,する,シ,シ\n",
            "た\t助動詞,*,*,*,特殊・タ,基本形,た,タ,タ\n",
            "。\t記号,句点,*,*,*,*,。,。,。\n",
            "必ず\t副詞,助詞類接続,*,*,*,*,必ず,カナラズ,カナラズ\n",
            "、\t記号,読点,*,*,*,*,、,、,、\n",
            "かの\t連体詞,*,*,*,*,*,かの,カノ,カノ\n",
            "邪智\t名詞,一般,*,*,*,*,邪智,ジャチ,ジャチ\n",
            "暴虐\t名詞,一般,*,*,*,*,暴虐,ボウギャク,ボーギャク\n",
            "の\t助詞,連体化,*,*,*,*,の,ノ,ノ\n",
            "王\t名詞,一般,*,*,*,*,王,オウ,オー\n",
            "を\t助詞,格助詞,一般,*,*,*,を,ヲ,ヲ\n",
            "除か\t動詞,自立,*,*,五段・カ行イ音便,未然形,除く,ノゾカ,ノゾカ\n",
            "なけれ\t助動詞,*,*,*,特殊・ナイ,仮定形,ない,ナケレ,ナケレ\n",
            "ば\t助詞,接続助詞,*,*,*,*,ば,バ,バ\n",
            "なら\t動詞,非自立,*,*,五段・ラ行,未然形,なる,ナラ,ナラ\n",
            "ぬ\t助動詞,*,*,*,特殊・ヌ,基本形,ぬ,ヌ,ヌ\n",
            "と\t助詞,格助詞,引用,*,*,*,と,ト,ト\n",
            "決意\t名詞,サ変接続,*,*,*,*,決意,ケツイ,ケツイ\n",
            "し\t動詞,自立,*,*,サ変・スル,連用形,する,シ,シ\n",
            "た\t助動詞,*,*,*,特殊・タ,基本形,た,タ,タ\n",
            "。\t記号,句点,*,*,*,*,。,。,。\n",
            "メロス\t名詞,一般,*,*,*,*,*\n",
            "に\t助詞,格助詞,一般,*,*,*,に,ニ,ニ\n",
            "は\t助詞,係助詞,*,*,*,*,は,ハ,ワ\n",
            "政治\t名詞,一般,*,*,*,*,政治,セイジ,セイジ\n",
            "が\t助詞,格助詞,一般,*,*,*,が,ガ,ガ\n",
            "わから\t動詞,自立,*,*,五段・ラ行,未然形,わかる,ワカラ,ワカラ\n",
            "ぬ\t助動詞,*,*,*,特殊・ヌ,基本形,ぬ,ヌ,ヌ\n",
            "。\t記号,句点,*,*,*,*,。,。,。\n",
            "メロス\t名詞,一般,*,*,*,*,*\n",
            "は\t助詞,係助詞,*,*,*,*,は,ハ,ワ\n",
            "、\t記号,読点,*,*,*,*,、,、,、\n",
            "村\t名詞,一般,*,*,*,*,村,ムラ,ムラ\n",
            "の\t助詞,連体化,*,*,*,*,の,ノ,ノ\n",
            "牧人\t名詞,一般,*,*,*,*,牧人,ボクジン,ボクジン\n",
            "で\t助動詞,*,*,*,特殊・ダ,連用形,だ,デ,デ\n",
            "ある\t助動詞,*,*,*,五段・ラ行アル,基本形,ある,アル,アル\n",
            "。\t記号,句点,*,*,*,*,。,。,。\n",
            "笛\t名詞,一般,*,*,*,*,笛,フエ,フエ\n",
            "を\t助詞,格助詞,一般,*,*,*,を,ヲ,ヲ\n",
            "吹き\t動詞,自立,*,*,五段・カ行イ音便,連用形,吹く,フキ,フキ\n",
            "、\t記号,読点,*,*,*,*,、,、,、\n",
            "羊\t名詞,一般,*,*,*,*,羊,ヒツジ,ヒツジ\n",
            "と\t助詞,格助詞,一般,*,*,*,と,ト,ト\n",
            "遊ん\t動詞,自立,*,*,五段・バ行,連用タ接続,遊ぶ,アソン,アソン\n",
            "で\t助詞,接続助詞,*,*,*,*,で,デ,デ\n",
            "暮し\t動詞,自立,*,*,五段・サ行,連用形,暮す,クラシ,クラシ\n",
            "て\t助詞,接続助詞,*,*,*,*,て,テ,テ\n",
            "来\t動詞,非自立,*,*,カ変・来ル,連用形,来る,キ,キ\n",
            "た\t助動詞,*,*,*,特殊・タ,基本形,た,タ,タ\n",
            "。\t記号,句点,*,*,*,*,。,。,。\n",
            "けれども\t接続詞,*,*,*,*,*,けれども,ケレドモ,ケレドモ\n",
            "邪悪\t名詞,形容動詞語幹,*,*,*,*,邪悪,ジャアク,ジャアク\n",
            "に対して\t助詞,格助詞,連語,*,*,*,に対して,ニタイシテ,ニタイシテ\n",
            "は\t助詞,係助詞,*,*,*,*,は,ハ,ワ\n",
            "、\t記号,読点,*,*,*,*,、,、,、\n",
            "人一倍\t名詞,形容動詞語幹,*,*,*,*,人一倍,ヒトイチバイ,ヒトイチバイ\n",
            "に\t助詞,副詞化,*,*,*,*,に,ニ,ニ\n",
            "敏感\t名詞,形容動詞語幹,*,*,*,*,敏感,ビンカン,ビンカン\n",
            "で\t助動詞,*,*,*,特殊・ダ,連用形,だ,デ,デ\n",
            "あっ\t助動詞,*,*,*,五段・ラ行アル,連用タ接続,ある,アッ,アッ\n",
            "た\t助動詞,*,*,*,特殊・タ,基本形,た,タ,タ\n",
            "。\t記号,句点,*,*,*,*,。,。,。\n",
            "EOS\n",
            "\n"
          ]
        }
      ]
    },
    {
      "cell_type": "code",
      "source": [
        "import MeCab\n",
        "import ipadic\n",
        "\n",
        "mecab = MeCab.Tagger(ipadic.MECAB_ARGS)\n",
        "parsed = mecab.parse(text)\n",
        "verbs_base_form = []\n",
        "for line in parsed.splitlines():\n",
        "    if line == 'EOS':\n",
        "        break\n",
        "    parts = line.split('\\t')\n",
        "    if len(parts) >= 2:\n",
        "        word = parts[0]\n",
        "        part_info = parts[1].split(',')\n",
        "        part = part_info[0]\n",
        "        base_form = part_info[6]\n",
        "        if part == '動詞':\n",
        "            verbs_base_form.append((word, base_form))\n",
        "\n",
        "for verb, base in verbs_base_form:\n",
        "    print(f'動詞:{verb}, 原型:{base}')"
      ],
      "metadata": {
        "colab": {
          "base_uri": "https://localhost:8080/"
        },
        "id": "-oAOawlgq_Sq",
        "outputId": "b6c93ae2-8856-441d-8d98-3d4ee00b63d5"
      },
      "id": "-oAOawlgq_Sq",
      "execution_count": 8,
      "outputs": [
        {
          "output_type": "stream",
          "name": "stdout",
          "text": [
            "動詞:し, 原型:する\n",
            "動詞:除か, 原型:除く\n",
            "動詞:なら, 原型:なる\n",
            "動詞:し, 原型:する\n",
            "動詞:わから, 原型:わかる\n",
            "動詞:吹き, 原型:吹く\n",
            "動詞:遊ん, 原型:遊ぶ\n",
            "動詞:暮し, 原型:暮す\n",
            "動詞:来, 原型:来る\n"
          ]
        }
      ]
    },
    {
      "cell_type": "markdown",
      "id": "34558343-a286-429b-b3ee-b1e6b3ca4561",
      "metadata": {
        "id": "34558343-a286-429b-b3ee-b1e6b3ca4561"
      },
      "source": [
        "## 32. 「AのB」\n",
        "文章`text`において、2つの名詞が「の」で連結されている名詞句をすべて抽出せよ。"
      ]
    },
    {
      "cell_type": "code",
      "source": [
        "import MeCab\n",
        "import ipadic\n",
        "\n",
        "mecab = MeCab.Tagger(ipadic.MECAB_ARGS)\n",
        "parsed = mecab.parse(text)\n",
        "\n",
        "noun_phrases = []\n",
        "tokens = []\n",
        "verbs_base_form = []\n",
        "for line in parsed.splitlines():\n",
        "    if line == 'EOS':\n",
        "        break\n",
        "    parts = line.split('\\t')\n",
        "    if len(parts) >= 2:\n",
        "        word = parts[0]\n",
        "        part_info = parts[1].split(',')\n",
        "        part = part_info[0]\n",
        "        tokens.append((word, part))\n",
        "\n",
        "for i in range(len(tokens) - 2):\n",
        "  word1, pos1 = tokens[i]\n",
        "  word2, pos2 = tokens[i+1]\n",
        "  word3, pos3 = tokens[i+2]\n",
        "\n",
        "  if pos1 == '名詞' and pos2 == '助詞' and word2 == 'の' and pos3 == '名詞':\n",
        "    noun_phrases.append(word1 + 'の' + word3)\n",
        "\n",
        "for phrase in noun_phrases:\n",
        "    print(phrase)"
      ],
      "metadata": {
        "colab": {
          "base_uri": "https://localhost:8080/"
        },
        "id": "2Hhu3jOrxJEr",
        "outputId": "27d5db8a-1350-4bc6-b220-2b0a389334cb"
      },
      "id": "2Hhu3jOrxJEr",
      "execution_count": 9,
      "outputs": [
        {
          "output_type": "stream",
          "name": "stdout",
          "text": [
            "暴虐の王\n",
            "村の牧人\n"
          ]
        }
      ]
    },
    {
      "cell_type": "markdown",
      "id": "7cac9c74-cd83-42d3-8cde-a4a0f4200094",
      "metadata": {
        "id": "7cac9c74-cd83-42d3-8cde-a4a0f4200094"
      },
      "source": [
        "## 33. 係り受け解析\n",
        "\n",
        "文章`text`に係り受け解析を適用し、係り元と係り先のトークン（形態素や文節などの単位）をタブ区切り形式ですべて抽出せよ。"
      ]
    },
    {
      "cell_type": "code",
      "source": [
        "!python -m spacy download ja_core_news_sm"
      ],
      "metadata": {
        "collapsed": true,
        "colab": {
          "base_uri": "https://localhost:8080/"
        },
        "id": "as1yfbZ15mCM",
        "outputId": "b990ef9e-08c7-4660-c746-b0ab6d6a1b1a"
      },
      "id": "as1yfbZ15mCM",
      "execution_count": 3,
      "outputs": [
        {
          "output_type": "stream",
          "name": "stdout",
          "text": [
            "Collecting ja-core-news-sm==3.8.0\n",
            "  Downloading https://github.com/explosion/spacy-models/releases/download/ja_core_news_sm-3.8.0/ja_core_news_sm-3.8.0-py3-none-any.whl (12.1 MB)\n",
            "\u001b[2K     \u001b[90m━━━━━━━━━━━━━━━━━━━━━━━━━━━━━━━━━━━━━━━━\u001b[0m \u001b[32m12.1/12.1 MB\u001b[0m \u001b[31m26.5 MB/s\u001b[0m eta \u001b[36m0:00:00\u001b[0m\n",
            "\u001b[?25hCollecting sudachipy!=0.6.1,>=0.5.2 (from ja-core-news-sm==3.8.0)\n",
            "  Downloading SudachiPy-0.6.10-cp311-cp311-manylinux_2_17_x86_64.manylinux2014_x86_64.whl.metadata (12 kB)\n",
            "Collecting sudachidict-core>=20211220 (from ja-core-news-sm==3.8.0)\n",
            "  Downloading SudachiDict_core-20250129-py3-none-any.whl.metadata (2.5 kB)\n",
            "Downloading SudachiDict_core-20250129-py3-none-any.whl (72.1 MB)\n",
            "\u001b[2K   \u001b[90m━━━━━━━━━━━━━━━━━━━━━━━━━━━━━━━━━━━━━━━━\u001b[0m \u001b[32m72.1/72.1 MB\u001b[0m \u001b[31m9.5 MB/s\u001b[0m eta \u001b[36m0:00:00\u001b[0m\n",
            "\u001b[?25hDownloading SudachiPy-0.6.10-cp311-cp311-manylinux_2_17_x86_64.manylinux2014_x86_64.whl (1.7 MB)\n",
            "\u001b[2K   \u001b[90m━━━━━━━━━━━━━━━━━━━━━━━━━━━━━━━━━━━━━━━━\u001b[0m \u001b[32m1.7/1.7 MB\u001b[0m \u001b[31m68.5 MB/s\u001b[0m eta \u001b[36m0:00:00\u001b[0m\n",
            "\u001b[?25hInstalling collected packages: sudachipy, sudachidict-core, ja-core-news-sm\n",
            "Successfully installed ja-core-news-sm-3.8.0 sudachidict-core-20250129 sudachipy-0.6.10\n",
            "\u001b[38;5;2m✔ Download and installation successful\u001b[0m\n",
            "You can now load the package via spacy.load('ja_core_news_sm')\n",
            "\u001b[38;5;3m⚠ Restart to reload dependencies\u001b[0m\n",
            "If you are in a Jupyter or Colab notebook, you may need to restart Python in\n",
            "order to load all the package's dependencies. You can do this by selecting the\n",
            "'Restart kernel' or 'Restart runtime' option.\n"
          ]
        }
      ]
    },
    {
      "cell_type": "code",
      "source": [
        "import spacy\n",
        "\n",
        "nlp = spacy.load(\"ja_core_news_sm\")\n",
        "\n",
        "doc = nlp(text)\n",
        "\n",
        "print(\"係り元\\t係り先\")\n",
        "print(\"-------\\t-------\")\n",
        "for token in doc:\n",
        "  if token.head != token:\n",
        "    print(f\"{token.text}\\t{token.head.text}\")"
      ],
      "metadata": {
        "colab": {
          "base_uri": "https://localhost:8080/"
        },
        "collapsed": true,
        "id": "K5RrR9ZnxfEb",
        "outputId": "f222b545-234b-4773-eb5a-96665c6849a4"
      },
      "id": "K5RrR9ZnxfEb",
      "execution_count": 11,
      "outputs": [
        {
          "output_type": "stream",
          "name": "stdout",
          "text": [
            "係り元\t係り先\n",
            "-------\t-------\n",
            "メロス\t激怒\n",
            "は\tメロス\n",
            "し\t激怒\n",
            "た\t激怒\n",
            "。\t激怒\n",
            "\n",
            "\t。\n",
            "必ず\t決意\n",
            "、\t必ず\n",
            "かの\t除か\n",
            "邪智\t暴虐\n",
            "暴虐\t王\n",
            "の\t暴虐\n",
            "王\t除か\n",
            "を\t王\n",
            "除か\t決意\n",
            "なけれ\t除か\n",
            "ば\tなけれ\n",
            "なら\tなけれ\n",
            "ぬ\tなけれ\n",
            "と\t除か\n",
            "し\t決意\n",
            "た\t決意\n",
            "。\t決意\n",
            "\n",
            "\t。\n",
            "メロス\tわから\n",
            "に\tメロス\n",
            "は\tメロス\n",
            "政治\tわから\n",
            "が\t政治\n",
            "ぬ\tわから\n",
            "。\tわから\n",
            "\n",
            "\t。\n",
            "メロス\t牧人\n",
            "は\tメロス\n",
            "、\tメロス\n",
            "村\t牧人\n",
            "の\t村\n",
            "で\t牧人\n",
            "ある\tで\n",
            "。\t牧人\n",
            "\n",
            "\t。\n",
            "笛\t吹き\n",
            "を\t笛\n",
            "吹き\t暮し\n",
            "、\t吹き\n",
            "羊\t暮し\n",
            "と\t羊\n",
            "遊ん\t暮し\n",
            "で\t遊ん\n",
            "て\t暮し\n",
            "来\t暮し\n",
            "た\t暮し\n",
            "。\t暮し\n",
            "邪悪\t敏感\n",
            "に\t邪悪\n",
            "対し\tに\n",
            "ては\tに\n",
            "、\t邪悪\n",
            "人\t倍\n",
            "一\t倍\n",
            "倍\t敏感\n",
            "に\t倍\n",
            "で\t敏感\n",
            "あっ\tで\n",
            "た\t敏感\n",
            "。\t敏感\n"
          ]
        }
      ]
    },
    {
      "cell_type": "markdown",
      "id": "eb49b4d2-9869-4f43-9cd8-9e79e0c1b40f",
      "metadata": {
        "id": "eb49b4d2-9869-4f43-9cd8-9e79e0c1b40f"
      },
      "source": [
        "## 34. 主述の関係\n",
        "文章`text`において、「メロス」が主語であるときの述語を抽出せよ。"
      ]
    },
    {
      "cell_type": "markdown",
      "id": "ec8ba153-85e7-4cbe-bcc0-bb659409d494",
      "metadata": {
        "id": "ec8ba153-85e7-4cbe-bcc0-bb659409d494"
      },
      "source": [
        "## 35. 係り受け木\n",
        "「メロスは激怒した。」の係り受け木を可視化せよ。"
      ]
    },
    {
      "cell_type": "markdown",
      "id": "b880d760-ea6c-4722-9a65-5b97a02ed192",
      "metadata": {
        "id": "b880d760-ea6c-4722-9a65-5b97a02ed192"
      },
      "source": [
        "## 36. 単語の出現頻度\n",
        "\n",
        "問題36から39までは、Wikipediaの記事を以下のフォーマットで書き出したファイル[jawiki-country.json.gz](/data/jawiki-country.json.gz)をコーパスと見なし、統計的な分析を行う。\n",
        "\n",
        "* 1行に1記事の情報がJSON形式で格納される\n",
        "* 各行には記事名が\"title\"キーに、記事本文が\"text\"キーの辞書オブジェクトに格納され、そのオブジェクトがJSON形式で書き出される\n",
        "* ファイル全体はgzipで圧縮される\n",
        "\n",
        "まず、第3章の処理内容を参考に、Wikipedia記事からマークアップを除去し、各記事のテキストを抽出せよ。そして、コーパスにおける単語（形態素）の出現頻度を求め、出現頻度の高い20語とその出現頻度を表示せよ。"
      ]
    },
    {
      "cell_type": "code",
      "source": [
        "import gzip\n",
        "import json\n",
        "\n",
        "path = 'jawiki-country.json.gz'\n",
        "all_text = ''\n",
        "with gzip.open(path, 'rt', encoding='utf-8') as f:\n",
        "  for line in f:\n",
        "    all_text += json.loads(line)['text']"
      ],
      "metadata": {
        "collapsed": true,
        "id": "idqAodkbCkdz"
      },
      "id": "idqAodkbCkdz",
      "execution_count": 42,
      "outputs": []
    },
    {
      "cell_type": "code",
      "source": [
        "import gzip\n",
        "import json\n",
        "from collections import Counter\n",
        "import MeCab\n",
        "import ipadic\n",
        "\n",
        "path = 'jawiki-country.json.gz'\n",
        "all_text = ''\n",
        "with gzip.open(path, 'rt', encoding='utf-8') as f:\n",
        "    for line in f:\n",
        "      if(json.loads(line)['title'] == '日本'):\n",
        "        all_text += json.loads(line)['text']\n",
        "# MeCabの初期化 (Owakatiなし)\n",
        "mecab = MeCab.Tagger(ipadic.MECAB_ARGS)\n",
        "\n",
        "# テキストを形態素解析\n",
        "node = mecab.parseToNode(all_text)\n",
        "words = []\n",
        "while node:\n",
        "    words.append(node.surface)\n",
        "    node = node.next\n",
        "\n",
        "# 出現頻度をカウント\n",
        "word_counts = Counter(words)\n",
        "\n",
        "# 出現頻度の高い上位20語を取得\n",
        "top_20 = word_counts.most_common(20)\n",
        "\n",
        "# 結果を表示\n",
        "print(\"出現頻度の高い上位20語:\")\n",
        "for word, count in top_20:\n",
        "    print(f\"{word}: {count}\")"
      ],
      "metadata": {
        "id": "5CZLF9tSKbSd",
        "outputId": "a003cf9b-51ca-49e5-e109-0f066a26a8d6",
        "colab": {
          "base_uri": "https://localhost:8080/"
        }
      },
      "id": "5CZLF9tSKbSd",
      "execution_count": 83,
      "outputs": [
        {
          "output_type": "stream",
          "name": "stdout",
          "text": [
            "出現頻度の高い上位20語:\n",
            "の: 3397\n",
            "、: 2842\n",
            "[[: 2310\n",
            "]]: 2193\n",
            ".: 1730\n",
            "|: 1685\n",
            "に: 1665\n",
            "は: 1516\n",
            "が: 1509\n",
            "を: 1399\n",
            "。: 1339\n",
            "/: 1194\n",
            "と: 1085\n",
            "た: 1083\n",
            "で: 1063\n",
            "日本: 981\n",
            "て: 901\n",
            "し: 880\n",
            "年: 871\n",
            "=: 863\n"
          ]
        }
      ]
    },
    {
      "cell_type": "markdown",
      "id": "e38bd27c-0644-4468-8b4d-99318b91c0cb",
      "metadata": {
        "id": "e38bd27c-0644-4468-8b4d-99318b91c0cb"
      },
      "source": [
        "## 37. 名詞の出現頻度\n",
        "コーパスにおける名詞の出現頻度を求め、出現頻度の高い20語とその出現頻度を表示せよ。"
      ]
    },
    {
      "cell_type": "code",
      "source": [
        "import gzip\n",
        "import json\n",
        "from collections import Counter\n",
        "import MeCab\n",
        "import ipadic\n",
        "\n",
        "path = 'jawiki-country.json.gz'\n",
        "all_text = ''\n",
        "with gzip.open(path, 'rt', encoding='utf-8') as f:\n",
        "    for line in f:\n",
        "      if(json.loads(line)['title'] == '日本'):\n",
        "        all_text += json.loads(line)['text']\n",
        "# MeCabの初期化 (Owakatiなし)\n",
        "mecab = MeCab.Tagger(ipadic.MECAB_ARGS)\n",
        "\n",
        "# テキストを形態素解析\n",
        "node = mecab.parseToNode(all_text)\n",
        "words = []\n",
        "while node:\n",
        "    # 名詞であるかをチェック\n",
        "    if node.feature.split(',')[0] == '名詞':\n",
        "        words.append(node.surface)\n",
        "    node = node.next\n",
        "\n",
        "# 出現頻度をカウント\n",
        "word_counts = Counter(words)\n",
        "\n",
        "# 出現頻度の高い上位20語を取得\n",
        "top_20 = word_counts.most_common(20)\n",
        "\n",
        "# 結果を表示\n",
        "print(\"出現頻度の高い名詞上位20語:\")\n",
        "for word, count in top_20:\n",
        "    print(f\"{word}: {count}\")"
      ],
      "metadata": {
        "id": "Qdd5T-hMNYLa",
        "outputId": "f918f977-e56f-46e6-b5db-0b29e3e5ec55",
        "colab": {
          "base_uri": "https://localhost:8080/"
        }
      },
      "id": "Qdd5T-hMNYLa",
      "execution_count": 82,
      "outputs": [
        {
          "output_type": "stream",
          "name": "stdout",
          "text": [
            "出現頻度の高い名詞上位20語:\n",
            "日本: 981\n",
            "年: 871\n",
            "ref: 815\n",
            "日: 349\n",
            "月: 337\n",
            "2: 334\n",
            "E: 280\n",
            "国: 276\n",
            "3: 275\n",
            "1: 242\n",
            "的: 231\n",
            "https: 221\n",
            "jp: 220\n",
            "px: 205\n",
            "web: 194\n",
            "www: 192\n",
            "県: 191\n",
            "人: 184\n",
            "世界: 181\n",
            "7: 176\n"
          ]
        }
      ]
    },
    {
      "cell_type": "markdown",
      "id": "8a64fda0-5ee3-48ad-9071-f37f805951d3",
      "metadata": {
        "id": "8a64fda0-5ee3-48ad-9071-f37f805951d3"
      },
      "source": [
        "## 38. TF・IDF\n",
        "日本に関する記事における名詞のTF・IDFスコアを求め、TF・IDFスコア上位20語とそのTF, IDF, TF・IDFを表示せよ。"
      ]
    },
    {
      "cell_type": "code",
      "source": [
        "import gzip\n",
        "import json\n",
        "from collections import Counter\n",
        "import MeCab\n",
        "import ipadic\n",
        "import math\n",
        "\n",
        "path = 'jawiki-country.json.gz'\n",
        "documents = []\n",
        "with gzip.open(path, 'rt', encoding='utf-8') as f:\n",
        "    for line in f:\n",
        "      if(json.loads(line)['title'] == '日本'):\n",
        "        documents.append(json.loads(line)['text'])\n",
        "\n",
        "# MeCabの初期化 (Owakatiなし)\n",
        "mecab = MeCab.Tagger(ipadic.MECAB_ARGS)\n",
        "\n",
        "# 各文書から名詞を抽出\n",
        "noun_documents = []\n",
        "for doc in documents:\n",
        "    node = mecab.parseToNode(doc)\n",
        "    nouns = []\n",
        "    while node:\n",
        "        if node.feature.split(',')[0] == '名詞':\n",
        "            nouns.append(node.surface)\n",
        "        node = node.next\n",
        "    noun_documents.append(nouns)\n",
        "\n",
        "# TFの算出\n",
        "tf = Counter(nouns)\n",
        "\n",
        "# IDFの設定 (単一文書なので、ここでは簡略化)\n",
        "idf = 1\n",
        "\n",
        "# TF-IDFの算出\n",
        "tfidf_scores = {}\n",
        "for term, freq in tf.items():\n",
        "    tfidf_scores[term] = freq * idf\n",
        "\n",
        "# TF-IDFスコアでソートし、上位20語を表示\n",
        "sorted_tfidf = sorted(tfidf_scores.items(), key=lambda item: item[1], reverse=True)\n",
        "top_20_tfidf = sorted_tfidf[:20]\n",
        "\n",
        "print(\"「日本」の記事における名詞のTF-IDFスコア上位20語:\")\n",
        "for term, tfidf in top_20_tfidf:\n",
        "    term_freq = tf[term]\n",
        "    print(f\"単語: {term}, TF: {term_freq}, IDF: {idf:.4f}, TF-IDF: {tfidf:.4f}\")"
      ],
      "metadata": {
        "id": "bMi0wNp5NtiS",
        "outputId": "114b02fe-1830-43b5-d1fe-6511c9b1b5e1",
        "colab": {
          "base_uri": "https://localhost:8080/"
        }
      },
      "id": "bMi0wNp5NtiS",
      "execution_count": 81,
      "outputs": [
        {
          "output_type": "stream",
          "name": "stdout",
          "text": [
            "「日本」の記事における名詞のTF-IDFスコア上位20語:\n",
            "単語: 日本, TF: 981, IDF: 1.0000, TF-IDF: 981.0000\n",
            "単語: 年, TF: 871, IDF: 1.0000, TF-IDF: 871.0000\n",
            "単語: ref, TF: 815, IDF: 1.0000, TF-IDF: 815.0000\n",
            "単語: 日, TF: 349, IDF: 1.0000, TF-IDF: 349.0000\n",
            "単語: 月, TF: 337, IDF: 1.0000, TF-IDF: 337.0000\n",
            "単語: 2, TF: 334, IDF: 1.0000, TF-IDF: 334.0000\n",
            "単語: E, TF: 280, IDF: 1.0000, TF-IDF: 280.0000\n",
            "単語: 国, TF: 276, IDF: 1.0000, TF-IDF: 276.0000\n",
            "単語: 3, TF: 275, IDF: 1.0000, TF-IDF: 275.0000\n",
            "単語: 1, TF: 242, IDF: 1.0000, TF-IDF: 242.0000\n",
            "単語: 的, TF: 231, IDF: 1.0000, TF-IDF: 231.0000\n",
            "単語: https, TF: 221, IDF: 1.0000, TF-IDF: 221.0000\n",
            "単語: jp, TF: 220, IDF: 1.0000, TF-IDF: 220.0000\n",
            "単語: px, TF: 205, IDF: 1.0000, TF-IDF: 205.0000\n",
            "単語: web, TF: 194, IDF: 1.0000, TF-IDF: 194.0000\n",
            "単語: www, TF: 192, IDF: 1.0000, TF-IDF: 192.0000\n",
            "単語: 県, TF: 191, IDF: 1.0000, TF-IDF: 191.0000\n",
            "単語: 人, TF: 184, IDF: 1.0000, TF-IDF: 184.0000\n",
            "単語: 世界, TF: 181, IDF: 1.0000, TF-IDF: 181.0000\n",
            "単語: 7, TF: 176, IDF: 1.0000, TF-IDF: 176.0000\n"
          ]
        }
      ]
    },
    {
      "cell_type": "markdown",
      "id": "5f3b60e9-5d8e-4c2e-a68d-385c91713113",
      "metadata": {
        "id": "5f3b60e9-5d8e-4c2e-a68d-385c91713113"
      },
      "source": [
        "## 39. Zipfの法則\n",
        "コーパスにおける単語の出現頻度順位を横軸、その出現頻度を縦軸として、両対数グラフをプロットせよ。"
      ]
    },
    {
      "cell_type": "code",
      "source": [
        "import gzip\n",
        "import json\n",
        "from collections import Counter\n",
        "import MeCab\n",
        "import ipadic\n",
        "import math\n",
        "import numpy as np\n",
        "import matplotlib.pyplot as plt\n",
        "\n",
        "path = 'jawiki-country.json.gz'\n",
        "all_text = ''\n",
        "with gzip.open(path, 'rt', encoding='utf-8') as f:\n",
        "    for line in f:\n",
        "      if(json.loads(line)['title'] == '日本'):\n",
        "        all_text += json.loads(line)['text']\n",
        "\n",
        "# MeCabの初期化 (Owakatiなし)\n",
        "mecab = MeCab.Tagger(ipadic.MECAB_ARGS)\n",
        "\n",
        "# テキストを形態素解析し、単語リストを取得\n",
        "words = mecab.parse(all_text).split()\n",
        "\n",
        "# 単語の出現頻度を計算\n",
        "word_counts = Counter(words)\n",
        "\n",
        "# 出現頻度で降順にソート\n",
        "sorted_word_counts = sorted(word_counts.items(), key=lambda item: item[1], reverse=True)\n",
        "\n",
        "# 順位と出現頻度のリストを作成\n",
        "ranks = np.arange(1, len(sorted_word_counts) + 1)\n",
        "frequencies = [count for word, count in sorted_word_counts]\n",
        "\n",
        "# 両対数プロット\n",
        "plt.figure(figsize=(10, 6))\n",
        "plt.loglog(ranks, frequencies, marker='.', linestyle='-', color='blue')\n",
        "plt.xlabel('Frequency Rank')\n",
        "plt.ylabel('Frequency')\n",
        "plt.title('Word Frequency Distribution (Log-Log Scale)')\n",
        "plt.grid(True)\n",
        "plt.show()"
      ],
      "metadata": {
        "id": "87JH4WmlPde3",
        "outputId": "a4b32c1f-fb89-46b6-ab4a-f77ee73f51ba",
        "colab": {
          "base_uri": "https://localhost:8080/",
          "height": 426
        }
      },
      "id": "87JH4WmlPde3",
      "execution_count": 87,
      "outputs": [
        {
          "output_type": "display_data",
          "data": {
            "text/plain": [
              "<Figure size 1000x600 with 1 Axes>"
            ],
            "image/png": "[encoded data removed]"
          },
          "metadata": {}
        }
      ]
    }
  ],
  "metadata": {
    "colab": {
      "provenance": []
    },
    "kernelspec": {
      "display_name": "Python 3 (ipykernel)",
      "language": "python",
      "name": "python3"
    },
    "language_info": {
      "codemirror_mode": {
        "name": "ipython",
        "version": 3
      },
      "file_extension": ".py",
      "mimetype": "text/x-python",
      "name": "python",
      "nbconvert_exporter": "python",
      "pygments_lexer": "ipython3",
      "version": "3.12.3"
    }
  },
  "nbformat": 4,
  "nbformat_minor": 5
}