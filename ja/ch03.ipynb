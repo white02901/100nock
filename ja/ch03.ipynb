{
  "cells": [
    {
      "cell_type": "markdown",
      "id": "05cf051f-1e6c-43d5-aa9e-532489d8385b",
      "metadata": {
        "editable": true,
        "id": "05cf051f-1e6c-43d5-aa9e-532489d8385b",
        "tags": []
      },
      "source": [
        "# 第3章: 正規表現\n",
        "Wikipediaの記事を以下のフォーマットで書き出したファイル[jawiki-country.json.gz](/data/jawiki-country.json.gz)がある。\n",
        "\n",
        "* 1行に1記事の情報がJSON形式で格納される\n",
        "* 各行には記事名が\"title\"キーに、記事本文が\"text\"キーの辞書オブジェクトに格納され、そのオブジェクトがJSON形式で書き出される\n",
        "* ファイル全体はgzipで圧縮される\n",
        "\n",
        "以下の処理を行うプログラムを作成せよ。"
      ]
    },
    {
      "cell_type": "markdown",
      "id": "cef3c6a5-ec91-4cb6-ae4b-c53c9ac02172",
      "metadata": {
        "id": "cef3c6a5-ec91-4cb6-ae4b-c53c9ac02172"
      },
      "source": [
        "## 20. JSONデータの読み込み\n",
        "Wikipedia記事のJSONファイルを読み込み、「イギリス」に関する記事本文を表示せよ。問題21-29では、ここで抽出した記事本文に対して実行せよ。"
      ]
    },
    {
      "cell_type": "code",
      "source": [
        "import gzip\n",
        "import json\n",
        "\n",
        "path = 'jawiki-country.json.gz'\n",
        "\n",
        "with open(path, 'r') as f:\n",
        "  for line in f:\n",
        "    if json.loads(line)['title'] == 'イギリス':\n",
        "      data = json.loads(line)['text']\n",
        "      break\n",
        "    else:\n",
        "      continue\n",
        "\n",
        "print(data)"
      ],
      "metadata": {
        "id": "tW-aIGb_crXt"
      },
      "id": "tW-aIGb_crXt",
      "execution_count": null,
      "outputs": []
    },
    {
      "cell_type": "markdown",
      "id": "fe1f40f4-4d5c-4061-82f3-f6aae9170363",
      "metadata": {
        "id": "fe1f40f4-4d5c-4061-82f3-f6aae9170363"
      },
      "source": [
        "## 21. カテゴリ名を含む行を抽出\n",
        "記事中でカテゴリ名を宣言している行を抽出せよ。"
      ]
    },
    {
      "cell_type": "code",
      "source": [],
      "metadata": {
        "id": "tDbFTd__ab2U"
      },
      "id": "tDbFTd__ab2U",
      "execution_count": null,
      "outputs": []
    },
    {
      "cell_type": "markdown",
      "id": "6f7060b3-c64d-4006-aa4d-8c0705abcb3c",
      "metadata": {
        "id": "6f7060b3-c64d-4006-aa4d-8c0705abcb3c"
      },
      "source": [
        "## 22. カテゴリ名の抽出\n",
        "記事のカテゴリ名を（行単位ではなく名前で）抽出せよ。"
      ]
    },
    {
      "cell_type": "markdown",
      "id": "618c7cdb-2e7f-4e2b-9dca-38d813777c69",
      "metadata": {
        "id": "618c7cdb-2e7f-4e2b-9dca-38d813777c69"
      },
      "source": [
        "## 23. セクション構造\n",
        "記事中に含まれるセクション名とそのレベル（例えば\"== セクション名 ==\"なら1）を表示せよ。"
      ]
    },
    {
      "cell_type": "markdown",
      "id": "362543a4-19a1-4d28-9a44-052b81caa9b6",
      "metadata": {
        "id": "362543a4-19a1-4d28-9a44-052b81caa9b6"
      },
      "source": [
        "## 24. ファイル参照の抽出\n",
        "記事から参照されているメディアファイルをすべて抜き出せ。"
      ]
    },
    {
      "cell_type": "markdown",
      "id": "1e9d76c9-3a2b-47b5-86a8-f3e547c079fa",
      "metadata": {
        "editable": true,
        "id": "1e9d76c9-3a2b-47b5-86a8-f3e547c079fa",
        "tags": []
      },
      "source": [
        "## 25. テンプレートの抽出\n",
        "記事中に含まれる「基礎情報」テンプレートのフィールド名と値を抽出し、辞書オブジェクトとして格納せよ。"
      ]
    },
    {
      "cell_type": "markdown",
      "id": "89f1d9a2-9c9c-486f-b22d-4569cf0e76e7",
      "metadata": {
        "id": "89f1d9a2-9c9c-486f-b22d-4569cf0e76e7"
      },
      "source": [
        "## 26. 強調マークアップの除去\n",
        "25の処理時に、テンプレートの値からMediaWikiの強調マークアップ（弱い強調、強調、強い強調のすべて）を除去してテキストに変換せよ（参考: [マークアップ早見表](http://ja.wikipedia.org/wiki/Help:%E6%97%A9%E8%A6%8B%E8%A1%A8)）。"
      ]
    },
    {
      "cell_type": "markdown",
      "id": "0f8c7cf4-572a-4161-a764-175a241de203",
      "metadata": {
        "id": "0f8c7cf4-572a-4161-a764-175a241de203"
      },
      "source": [
        "## 27. 内部リンクの除去\n",
        "26の処理に加えて、テンプレートの値からMediaWikiの内部リンクマークアップを除去し、テキストに変換せよ（参考: [マークアップ早見表](http://ja.wikipedia.org/wiki/Help:%E6%97%A9%E8%A6%8B%E8%A1%A8)）。"
      ]
    },
    {
      "cell_type": "markdown",
      "id": "ab7fc267-c9dc-47a5-977c-b0d1e417202c",
      "metadata": {
        "id": "ab7fc267-c9dc-47a5-977c-b0d1e417202c"
      },
      "source": [
        "## 28. MediaWikiマークアップの除去\n",
        "27の処理に加えて、テンプレートの値からMediaWikiマークアップを可能な限り除去し、国の基本情報を整形せよ。"
      ]
    },
    {
      "cell_type": "markdown",
      "id": "c41ec5b6-d9c3-40c7-bfba-d745526b2641",
      "metadata": {
        "id": "c41ec5b6-d9c3-40c7-bfba-d745526b2641"
      },
      "source": [
        "## 29. 国旗画像のURLを取得する\n",
        "テンプレートの内容を利用し、国旗画像のURLを取得せよ。（ヒント: [MediaWiki API](http://www.mediawiki.org/wiki/API:Main_page/ja)の[imageinfo](https://www.mediawiki.org/wiki/API:Imageinfo)を呼び出して、ファイル参照をURLに変換すればよい）"
      ]
    }
  ],
  "metadata": {
    "colab": {
      "provenance": []
    },
    "kernelspec": {
      "display_name": "Python 3 (ipykernel)",
      "language": "python",
      "name": "python3"
    },
    "language_info": {
      "codemirror_mode": {
        "name": "ipython",
        "version": 3
      },
      "file_extension": ".py",
      "mimetype": "text/x-python",
      "name": "python",
      "nbconvert_exporter": "python",
      "pygments_lexer": "ipython3",
      "version": "3.12.3"
    }
  },
  "nbformat": 4,
  "nbformat_minor": 5
}