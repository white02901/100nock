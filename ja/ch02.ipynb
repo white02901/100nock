{
  "cells": [
    {
      "cell_type": "markdown",
      "id": "38daedde-589c-4cac-bf43-2b13485898cb",
      "metadata": {
        "editable": true,
        "id": "38daedde-589c-4cac-bf43-2b13485898cb",
        "tags": []
      },
      "source": [
        "# 第2章: UNIXコマンド\n",
        "\n",
        "[popular-names.txt](/data/popular-names.txt)は、アメリカで生まれた赤ちゃんの「名前」「性別」「人数」「年」をタブ区切り形式で格納したファイルである。以下の処理を行うプログラムを作成し、[popular-names.txt](/data/popular-names.txt)を入力ファイルとして実行せよ。さらに、同様の処理をUNIXコマンドでも実行し、プログラムの実行結果を確認せよ。"
      ]
    },
    {
      "cell_type": "markdown",
      "id": "d0cd8b46-ec72-459e-8cd4-285ac3601172",
      "metadata": {
        "editable": true,
        "id": "d0cd8b46-ec72-459e-8cd4-285ac3601172",
        "tags": []
      },
      "source": [
        "## 10. 行数のカウント\n",
        "ファイルの行数をカウントせよ。確認にはwcコマンドを用いよ。"
      ]
    },
    {
      "cell_type": "code",
      "source": [
        "def count_lines(path):\n",
        "  try:\n",
        "    with open(path, 'r') as f:\n",
        "      line_count = 0\n",
        "      for line in f:\n",
        "        line_count += 1\n",
        "      return line_count\n",
        "  except FileNotFoundError:\n",
        "    print(f\"エラー：ファイル '{path}' が見つかりません。\")\n",
        "    return -1\n",
        "\n",
        "path = 'popular-names.txt'\n",
        "num_lines = count_lines(path)\n",
        "if num_lines != -1:\n",
        "  print(num_lines)"
      ],
      "metadata": {
        "id": "5UWBNZcy2DsV",
        "outputId": "fe5df37d-6c5c-444c-ff1c-950b87943124",
        "colab": {
          "base_uri": "https://localhost:8080/"
        }
      },
      "id": "5UWBNZcy2DsV",
      "execution_count": null,
      "outputs": [
        {
          "output_type": "stream",
          "name": "stdout",
          "text": [
            "2780\n"
          ]
        }
      ]
    },
    {
      "cell_type": "code",
      "source": [
        "!wc -l popular-names.txt"
      ],
      "metadata": {
        "id": "S67VU4jq1A87",
        "outputId": "8d2b4f8c-4d50-4841-c280-a82f1113cbec",
        "colab": {
          "base_uri": "https://localhost:8080/"
        }
      },
      "id": "S67VU4jq1A87",
      "execution_count": null,
      "outputs": [
        {
          "output_type": "stream",
          "name": "stdout",
          "text": [
            "2780 popular-names.txt\n"
          ]
        }
      ]
    },
    {
      "cell_type": "markdown",
      "id": "275b8ac0-17a1-4df2-9287-efae1f0c6740",
      "metadata": {
        "id": "275b8ac0-17a1-4df2-9287-efae1f0c6740"
      },
      "source": [
        "## 11. 先頭からN行を出力\n",
        "ファイルの先頭N行だけを表示せよ。例えば、N=10として先頭10行を表示せよ。確認にはheadコマンドを用いよ。"
      ]
    },
    {
      "cell_type": "markdown",
      "id": "b7606710-56c9-4aea-90c8-48e57c3c73df",
      "metadata": {
        "id": "b7606710-56c9-4aea-90c8-48e57c3c73df"
      },
      "source": [
        "## 12. 末尾のN行を出力\n",
        "ファイルの末尾N行だけを表示せよ。例えば、N=10として末尾10行を表示せよ。確認にはtailコマンドを用いよ。"
      ]
    },
    {
      "cell_type": "markdown",
      "id": "6ce5a4f0-b73a-43a0-be8c-c78142882e5c",
      "metadata": {
        "id": "6ce5a4f0-b73a-43a0-be8c-c78142882e5c"
      },
      "source": [
        "## 13. タブをスペースに置換\n",
        "ファイルの先頭10行に対して、タブ1文字につきスペース1文字に置換して出力せよ。確認にはsedコマンド、trコマンド、もしくはexpandコマンドなどを用いよ。"
      ]
    },
    {
      "cell_type": "code",
      "source": [
        "def replace_tab_space(path,line_num):\n",
        "  try:\n",
        "    with open(path, 'r') as f:\n",
        "      for i,line in enumerate(f):\n",
        "        if i < line_num:\n",
        "          modified_line = line.replace('\\t',' ')\n",
        "          print(modified_line, end = ' ')\n",
        "  except FileNotFoundError:\n",
        "    print(f\"エラー：ファイル '{path}' が見つかりません。\")\n",
        "\n",
        "path = 'popular-names.txt'\n",
        "num_lines = replace_tab_space(path, 10)"
      ],
      "metadata": {
        "id": "2n1j9wh35SrO",
        "colab": {
          "base_uri": "https://localhost:8080/"
        },
        "outputId": "860b2329-3a44-420c-bb52-dc67199ec1fc"
      },
      "id": "2n1j9wh35SrO",
      "execution_count": 19,
      "outputs": [
        {
          "output_type": "stream",
          "name": "stdout",
          "text": [
            "Mary F 7065 1880\n",
            " Anna F 2604 1880\n",
            " Emma F 2003 1880\n",
            " Elizabeth F 1939 1880\n",
            " Minnie F 1746 1880\n",
            " Margaret F 1578 1880\n",
            " Ida F 1472 1880\n",
            " Alice F 1414 1880\n",
            " Bertha F 1320 1880\n",
            " Sarah F 1288 1880\n",
            " "
          ]
        }
      ]
    },
    {
      "cell_type": "code",
      "source": [
        "!head -n 10 popular-names.txt | sed 's/\\t/ /g'"
      ],
      "metadata": {
        "colab": {
          "base_uri": "https://localhost:8080/"
        },
        "id": "aeg-Mg5m3_yR",
        "outputId": "004710f9-10d7-479e-e806-8660de8fdd99"
      },
      "id": "aeg-Mg5m3_yR",
      "execution_count": 20,
      "outputs": [
        {
          "output_type": "stream",
          "name": "stdout",
          "text": [
            "Mary F 7065 1880\r\n",
            "Anna F 2604 1880\r\n",
            "Emma F 2003 1880\r\n",
            "Elizabeth F 1939 1880\r\n",
            "Minnie F 1746 1880\r\n",
            "Margaret F 1578 1880\r\n",
            "Ida F 1472 1880\r\n",
            "Alice F 1414 1880\r\n",
            "Bertha F 1320 1880\r\n",
            "Sarah F 1288 1880\r\n"
          ]
        }
      ]
    },
    {
      "cell_type": "markdown",
      "id": "eaef4ffb-c436-41ab-a649-e4d5fd385a76",
      "metadata": {
        "id": "eaef4ffb-c436-41ab-a649-e4d5fd385a76"
      },
      "source": [
        "## 14. 1列目を出力\n",
        "ファイルの先頭10行に対して、各行の1列目だけを抜き出して表示せよ。確認にはcutコマンドなどを用いよ。"
      ]
    },
    {
      "cell_type": "markdown",
      "id": "00c76a76-98bc-4ccc-918d-459b8d7954cf",
      "metadata": {
        "id": "00c76a76-98bc-4ccc-918d-459b8d7954cf"
      },
      "source": [
        "## 15. ファイルをN分割する\n",
        "ファイルを行単位でN分割し、別のファイルに格納せよ。例えば、N=10としてファイルを10分割せよ。同様の処理をsplitコマンドで実現せよ。"
      ]
    },
    {
      "cell_type": "markdown",
      "id": "bc88859b-8a4d-4028-9aa4-684ab5ad9797",
      "metadata": {
        "id": "bc88859b-8a4d-4028-9aa4-684ab5ad9797"
      },
      "source": [
        "## 16. ランダムに各行を並び替える\n",
        "ファイルを行単位でランダムに並び替えよ（注意: 各行の内容は変更せずに並び替えよ）。同様の処理をshufコマンドで実現せよ。"
      ]
    },
    {
      "cell_type": "markdown",
      "id": "1041d23d-1a44-49c3-b95a-223fa9e3d3ae",
      "metadata": {
        "id": "1041d23d-1a44-49c3-b95a-223fa9e3d3ae"
      },
      "source": [
        "## 17. １列目の文字列の異なり\n",
        "1列目の文字列の異なり（文字列の種類）を求めよ。確認にはcut, sort, uniqコマンドを用いよ。"
      ]
    },
    {
      "cell_type": "code",
      "source": [
        "def first_string(path):\n",
        "  unique_strings = set()\n",
        "  try:\n",
        "    with open(path, 'r') as f:\n",
        "      for line in f:\n",
        "        first_column = line.split()[0]\n",
        "        unique_strings.add(first_column)\n",
        "      print(len(unique_strings))\n",
        "  except FileNotFoundError:\n",
        "    print(f\"エラー：ファイル '{path}' が見つかりません。\")\n",
        "\n",
        "path = 'popular-names.txt'\n",
        "first_string(path)"
      ],
      "metadata": {
        "id": "V-hf_-845UsI",
        "colab": {
          "base_uri": "https://localhost:8080/"
        },
        "outputId": "8603e54f-6d72-4ccd-be12-c11e814fab28"
      },
      "id": "V-hf_-845UsI",
      "execution_count": 13,
      "outputs": [
        {
          "output_type": "stream",
          "name": "stdout",
          "text": [
            "136\n"
          ]
        }
      ]
    },
    {
      "cell_type": "code",
      "source": [
        "!cut -f 1 popular-names.txt | sort | uniq | wc -l"
      ],
      "metadata": {
        "colab": {
          "base_uri": "https://localhost:8080/"
        },
        "id": "Dz_J7fnT_NID",
        "outputId": "418ddd08-2d19-49b5-d0f7-05a85a344099"
      },
      "id": "Dz_J7fnT_NID",
      "execution_count": 18,
      "outputs": [
        {
          "output_type": "stream",
          "name": "stdout",
          "text": [
            "136\n"
          ]
        }
      ]
    },
    {
      "cell_type": "markdown",
      "id": "3f5363e2-d751-40cc-958c-86d8b185089d",
      "metadata": {
        "id": "3f5363e2-d751-40cc-958c-86d8b185089d"
      },
      "source": [
        "## 18. 各行の1列目の文字列の出現頻度を求め、出現頻度の高い順に並べる\n",
        "1列目の文字列の出現頻度を求め、出現頻度と名前を出現頻度の多い順に並べて表示せよ。確認にはcut, uniq, sortコマンドを用いよ。"
      ]
    },
    {
      "cell_type": "markdown",
      "id": "5ea1c928-6748-4f02-9e65-2110655b30d8",
      "metadata": {
        "id": "5ea1c928-6748-4f02-9e65-2110655b30d8"
      },
      "source": [
        "## 19. 3列目の数値の降順に各行を並び替える\n",
        "3列目の数値の逆順でファイルの各行を整列せよ（注意: 各行の内容は変更せずに並び替えよ）。同様の処理をsortコマンドで実現せよ。"
      ]
    }
  ],
  "metadata": {
    "colab": {
      "provenance": []
    },
    "kernelspec": {
      "display_name": "Python 3 (ipykernel)",
      "language": "python",
      "name": "python3"
    },
    "language_info": {
      "codemirror_mode": {
        "name": "ipython",
        "version": 3
      },
      "file_extension": ".py",
      "mimetype": "text/x-python",
      "name": "python",
      "nbconvert_exporter": "python",
      "pygments_lexer": "ipython3",
      "version": "3.12.3"
    }
  },
  "nbformat": 4,
  "nbformat_minor": 5
}