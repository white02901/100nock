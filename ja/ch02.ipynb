{
  "cells": [
    {
      "cell_type": "markdown",
      "id": "38daedde-589c-4cac-bf43-2b13485898cb",
      "metadata": {
        "editable": true,
        "id": "38daedde-589c-4cac-bf43-2b13485898cb",
        "tags": []
      },
      "source": [
        "# 第2章: UNIXコマンド\n",
        "\n",
        "[popular-names.txt](/data/popular-names.txt)は、アメリカで生まれた赤ちゃんの「名前」「性別」「人数」「年」をタブ区切り形式で格納したファイルである。以下の処理を行うプログラムを作成し、[popular-names.txt](/data/popular-names.txt)を入力ファイルとして実行せよ。さらに、同様の処理をUNIXコマンドでも実行し、プログラムの実行結果を確認せよ。"
      ]
    },
    {
      "cell_type": "markdown",
      "id": "d0cd8b46-ec72-459e-8cd4-285ac3601172",
      "metadata": {
        "editable": true,
        "id": "d0cd8b46-ec72-459e-8cd4-285ac3601172",
        "tags": []
      },
      "source": [
        "## 10. 行数のカウント\n",
        "ファイルの行数をカウントせよ。確認にはwcコマンドを用いよ。"
      ]
    },
    {
      "cell_type": "code",
      "source": [
        "def count_lines(path):\n",
        "  try:\n",
        "    with open(path, 'r') as f:\n",
        "      line_count = 0\n",
        "      for line in f:\n",
        "        line_count += 1\n",
        "      return line_count\n",
        "  except FileNotFoundError:\n",
        "    print(f\"エラー：ファイル '{path}' が見つかりません。\")\n",
        "    return -1\n",
        "\n",
        "path = 'popular-names.txt'\n",
        "print(count_lines(path))"
      ],
      "metadata": {
        "id": "5UWBNZcy2DsV",
        "outputId": "b1820643-d079-43cd-a6db-ec6e6529fe67",
        "colab": {
          "base_uri": "https://localhost:8080/"
        }
      },
      "id": "5UWBNZcy2DsV",
      "execution_count": null,
      "outputs": [
        {
          "output_type": "stream",
          "name": "stdout",
          "text": [
            "2780\n"
          ]
        }
      ]
    },
    {
      "cell_type": "code",
      "source": [
        "def count_lines_2(path):\n",
        "  try:\n",
        "    with open(path, 'r') as f:\n",
        "      lines = f.readlines()\n",
        "      line_count = len(lines)\n",
        "      return line_count\n",
        "  except FileNotFoundError:\n",
        "    print(f\"エラー：ファイル '{path}' が見つかりません。\")\n",
        "    return -1\n",
        "\n",
        "path = 'popular-names.txt'\n",
        "print(count_lines_2(path))"
      ],
      "metadata": {
        "id": "YZgnbo8cMKm9",
        "outputId": "a6d1b911-4ece-4cb5-ba57-38119ff920a9",
        "colab": {
          "base_uri": "https://localhost:8080/"
        }
      },
      "id": "YZgnbo8cMKm9",
      "execution_count": null,
      "outputs": [
        {
          "output_type": "stream",
          "name": "stdout",
          "text": [
            "2780\n"
          ]
        }
      ]
    },
    {
      "cell_type": "code",
      "source": [
        "!wc -l popular-names.txt"
      ],
      "metadata": {
        "id": "S67VU4jq1A87",
        "outputId": "59d121cb-2bdb-49f8-d393-53ab5b78af7d",
        "colab": {
          "base_uri": "https://localhost:8080/"
        }
      },
      "id": "S67VU4jq1A87",
      "execution_count": null,
      "outputs": [
        {
          "output_type": "stream",
          "name": "stdout",
          "text": [
            "2780 popular-names.txt\n"
          ]
        }
      ]
    },
    {
      "cell_type": "markdown",
      "id": "275b8ac0-17a1-4df2-9287-efae1f0c6740",
      "metadata": {
        "id": "275b8ac0-17a1-4df2-9287-efae1f0c6740"
      },
      "source": [
        "## 11. 先頭からN行を出力\n",
        "ファイルの先頭N行だけを表示せよ。例えば、N=10として先頭10行を表示せよ。確認にはheadコマンドを用いよ。"
      ]
    },
    {
      "cell_type": "code",
      "source": [
        "def print_head_n_lines(path, n):\n",
        "  try:\n",
        "    with open(path, 'r') as f:\n",
        "      for i,line in enumerate(f):\n",
        "        if i < n:\n",
        "          print(line, end = ' ')\n",
        "  except FileNotFoundError:\n",
        "    print(f\"エラー：ファイル '{path}' が見つかりません。\")\n",
        "\n",
        "path = 'popular-names.txt'\n",
        "print_head_n_lines(path, 10)"
      ],
      "metadata": {
        "id": "CvEjueTrugSB",
        "outputId": "69e36776-56ce-49bd-9c46-ca93b5b65d06",
        "colab": {
          "base_uri": "https://localhost:8080/"
        }
      },
      "id": "CvEjueTrugSB",
      "execution_count": null,
      "outputs": [
        {
          "output_type": "stream",
          "name": "stdout",
          "text": [
            "Mary\tF\t7065\t1880\n",
            " Anna\tF\t2604\t1880\n",
            " Emma\tF\t2003\t1880\n",
            " Elizabeth\tF\t1939\t1880\n",
            " Minnie\tF\t1746\t1880\n",
            " Margaret\tF\t1578\t1880\n",
            " Ida\tF\t1472\t1880\n",
            " Alice\tF\t1414\t1880\n",
            " Bertha\tF\t1320\t1880\n",
            " Sarah\tF\t1288\t1880\n",
            " "
          ]
        }
      ]
    },
    {
      "cell_type": "code",
      "source": [
        "!head -n 10 popular-names.txt"
      ],
      "metadata": {
        "id": "cvTgQA40BRzC",
        "outputId": "54f3a122-b3b0-404d-c5c8-eac257b240aa",
        "colab": {
          "base_uri": "https://localhost:8080/"
        }
      },
      "id": "cvTgQA40BRzC",
      "execution_count": null,
      "outputs": [
        {
          "output_type": "stream",
          "name": "stdout",
          "text": [
            "Mary\tF\t7065\t1880\n",
            "Anna\tF\t2604\t1880\n",
            "Emma\tF\t2003\t1880\n",
            "Elizabeth\tF\t1939\t1880\n",
            "Minnie\tF\t1746\t1880\n",
            "Margaret\tF\t1578\t1880\n",
            "Ida\tF\t1472\t1880\n",
            "Alice\tF\t1414\t1880\n",
            "Bertha\tF\t1320\t1880\n",
            "Sarah\tF\t1288\t1880\n"
          ]
        }
      ]
    },
    {
      "cell_type": "markdown",
      "id": "b7606710-56c9-4aea-90c8-48e57c3c73df",
      "metadata": {
        "id": "b7606710-56c9-4aea-90c8-48e57c3c73df"
      },
      "source": [
        "## 12. 末尾のN行を出力\n",
        "ファイルの末尾N行だけを表示せよ。例えば、N=10として末尾10行を表示せよ。確認にはtailコマンドを用いよ。"
      ]
    },
    {
      "cell_type": "code",
      "source": [
        "def print_tail_n_lines(path, n):\n",
        "  try:\n",
        "    with open(path, 'r') as f:\n",
        "      lines = f.readlines()\n",
        "      n_lines = lines[-n:] #リスト\n",
        "      for line in n_lines:\n",
        "        print(line, end = ' ')\n",
        "  except FileNotFoundError:\n",
        "    print(f\"エラー：ファイル '{path}' が見つかりません。\")\n",
        "\n",
        "path = 'popular-names.txt'\n",
        "print_tail_n_lines(path, 10)"
      ],
      "metadata": {
        "id": "ia9hxV7k9cTe",
        "outputId": "0d048de8-f8c4-4fca-eeb2-4524d6e0fdc5",
        "colab": {
          "base_uri": "https://localhost:8080/"
        }
      },
      "id": "ia9hxV7k9cTe",
      "execution_count": null,
      "outputs": [
        {
          "output_type": "stream",
          "name": "stdout",
          "text": [
            "Liam\tM\t19837\t2018\n",
            " Noah\tM\t18267\t2018\n",
            " William\tM\t14516\t2018\n",
            " James\tM\t13525\t2018\n",
            " Oliver\tM\t13389\t2018\n",
            " Benjamin\tM\t13381\t2018\n",
            " Elijah\tM\t12886\t2018\n",
            " Lucas\tM\t12585\t2018\n",
            " Mason\tM\t12435\t2018\n",
            " Logan\tM\t12352\t2018\n",
            " "
          ]
        }
      ]
    },
    {
      "cell_type": "code",
      "source": [
        "!tail -n 10 popular-names.txt"
      ],
      "metadata": {
        "id": "cmlJoAJ5BQt9",
        "outputId": "6cf6b5ca-e3c5-44f0-8b11-e31302b22e98",
        "colab": {
          "base_uri": "https://localhost:8080/"
        }
      },
      "id": "cmlJoAJ5BQt9",
      "execution_count": null,
      "outputs": [
        {
          "output_type": "stream",
          "name": "stdout",
          "text": [
            "Liam\tM\t19837\t2018\n",
            "Noah\tM\t18267\t2018\n",
            "William\tM\t14516\t2018\n",
            "James\tM\t13525\t2018\n",
            "Oliver\tM\t13389\t2018\n",
            "Benjamin\tM\t13381\t2018\n",
            "Elijah\tM\t12886\t2018\n",
            "Lucas\tM\t12585\t2018\n",
            "Mason\tM\t12435\t2018\n",
            "Logan\tM\t12352\t2018\n"
          ]
        }
      ]
    },
    {
      "cell_type": "markdown",
      "id": "6ce5a4f0-b73a-43a0-be8c-c78142882e5c",
      "metadata": {
        "id": "6ce5a4f0-b73a-43a0-be8c-c78142882e5c"
      },
      "source": [
        "## 13. タブをスペースに置換\n",
        "ファイルの先頭10行に対して、タブ1文字につきスペース1文字に置換して出力せよ。確認にはsedコマンド、trコマンド、もしくはexpandコマンドなどを用いよ。"
      ]
    },
    {
      "cell_type": "code",
      "source": [
        "def replace_tab_space(path,n):\n",
        "  try:\n",
        "    with open(path, 'r') as f:\n",
        "      for i,line in enumerate(f):\n",
        "        if i < n:\n",
        "          modified_line = line.replace('\\t',' ')\n",
        "          print(modified_line, end = ' ')\n",
        "        else:\n",
        "          break\n",
        "  except FileNotFoundError:\n",
        "    print(f\"エラー：ファイル '{path}' が見つかりません。\")\n",
        "\n",
        "path = 'popular-names.txt'\n",
        "replace_tab_space(path, 10)"
      ],
      "metadata": {
        "id": "2n1j9wh35SrO",
        "colab": {
          "base_uri": "https://localhost:8080/"
        },
        "outputId": "d6c6d6a2-13cc-41c7-93af-3f247e5606ef"
      },
      "id": "2n1j9wh35SrO",
      "execution_count": null,
      "outputs": [
        {
          "output_type": "stream",
          "name": "stdout",
          "text": [
            "Mary F 7065 1880\n",
            " Anna F 2604 1880\n",
            " Emma F 2003 1880\n",
            " Elizabeth F 1939 1880\n",
            " Minnie F 1746 1880\n",
            " Margaret F 1578 1880\n",
            " Ida F 1472 1880\n",
            " Alice F 1414 1880\n",
            " Bertha F 1320 1880\n",
            " Sarah F 1288 1880\n",
            " "
          ]
        }
      ]
    },
    {
      "cell_type": "code",
      "source": [
        "!head -n 10 popular-names.txt | sed 's/\\t/ /g'"
      ],
      "metadata": {
        "colab": {
          "base_uri": "https://localhost:8080/"
        },
        "id": "aeg-Mg5m3_yR",
        "outputId": "edb28584-4f9e-48a6-887a-978ed6f17d39"
      },
      "id": "aeg-Mg5m3_yR",
      "execution_count": null,
      "outputs": [
        {
          "output_type": "stream",
          "name": "stdout",
          "text": [
            "Mary F 7065 1880\n",
            "Anna F 2604 1880\n",
            "Emma F 2003 1880\n",
            "Elizabeth F 1939 1880\n",
            "Minnie F 1746 1880\n",
            "Margaret F 1578 1880\n",
            "Ida F 1472 1880\n",
            "Alice F 1414 1880\n",
            "Bertha F 1320 1880\n",
            "Sarah F 1288 1880\n"
          ]
        }
      ]
    },
    {
      "cell_type": "markdown",
      "id": "eaef4ffb-c436-41ab-a649-e4d5fd385a76",
      "metadata": {
        "id": "eaef4ffb-c436-41ab-a649-e4d5fd385a76"
      },
      "source": [
        "## 14. 1列目を出力\n",
        "ファイルの先頭10行に対して、各行の1列目だけを抜き出して表示せよ。確認にはcutコマンドなどを用いよ。"
      ]
    },
    {
      "cell_type": "code",
      "source": [
        "def print_first_column(path,n):\n",
        "  try:\n",
        "    with open(path, 'r') as f:\n",
        "      for i,line in enumerate(f):\n",
        "        if i < n:\n",
        "          first_column = line.split()[0]\n",
        "          print(first_column)\n",
        "        else:\n",
        "          break\n",
        "  except FileNotFoundError:\n",
        "    print(f\"エラー：ファイル '{path}' が見つかりません。\")\n",
        "\n",
        "path = 'popular-names.txt'\n",
        "print_first_column(path, 10)"
      ],
      "metadata": {
        "id": "e6kR8nfvDYrY",
        "outputId": "2e66e5df-759e-4229-f61e-d56a28b6f6d5",
        "colab": {
          "base_uri": "https://localhost:8080/"
        }
      },
      "id": "e6kR8nfvDYrY",
      "execution_count": 29,
      "outputs": [
        {
          "output_type": "stream",
          "name": "stdout",
          "text": [
            "Mary\n",
            "Anna\n",
            "Emma\n",
            "Elizabeth\n",
            "Minnie\n",
            "Margaret\n",
            "Ida\n",
            "Alice\n",
            "Bertha\n",
            "Sarah\n"
          ]
        }
      ]
    },
    {
      "cell_type": "code",
      "source": [
        "!head -n 10 popular-names.txt | cut -f 1"
      ],
      "metadata": {
        "id": "-tDIhYnKGhl7",
        "outputId": "fc78f985-3324-409d-9eca-26f4ffb431e5",
        "colab": {
          "base_uri": "https://localhost:8080/"
        }
      },
      "id": "-tDIhYnKGhl7",
      "execution_count": null,
      "outputs": [
        {
          "output_type": "stream",
          "name": "stdout",
          "text": [
            "Mary\n",
            "Anna\n",
            "Emma\n",
            "Elizabeth\n",
            "Minnie\n",
            "Margaret\n",
            "Ida\n",
            "Alice\n",
            "Bertha\n",
            "Sarah\n"
          ]
        }
      ]
    },
    {
      "cell_type": "markdown",
      "id": "00c76a76-98bc-4ccc-918d-459b8d7954cf",
      "metadata": {
        "id": "00c76a76-98bc-4ccc-918d-459b8d7954cf"
      },
      "source": [
        "## 15. ファイルをN分割する\n",
        "ファイルを行単位でN分割し、別のファイルに格納せよ。例えば、N=10としてファイルを10分割せよ。同様の処理をsplitコマンドで実現せよ。"
      ]
    },
    {
      "cell_type": "code",
      "source": [
        "import os\n",
        "\n",
        "def split_file_by_lines(input_path, n):\n",
        "  try:\n",
        "    with open(input_path, 'r') as infile:\n",
        "      lines = infile.readlines()\n",
        "      total_lines = len(lines)\n",
        "      lines_per_split = (total_lines + n - 1) // n\n",
        "      base_name, ext = os.path.splitext(input_path)\n",
        "\n",
        "      for i in range(n):\n",
        "        start_index = i * lines_per_split\n",
        "        end_index = min((i + 1) * lines_per_split, total_lines)\n",
        "        output_path = f\"{base_name}_part{i+1}{ext}\"\n",
        "\n",
        "        with open(output_path, 'w') as outfile:\n",
        "          outfile.writelines(lines[start_index:end_index])\n",
        "\n",
        "        print(f\"ファイル'{output_path}'を作成しました（行数：{end_index - start_index}）\")\n",
        "  except FileNotFoundError:\n",
        "    print(f\"エラー：ファイル '{input_path}' が見つかりません。\")\n",
        "\n",
        "\n",
        "input_path = 'popular-names.txt'\n",
        "split_file_by_lines(input_path, 10)"
      ],
      "metadata": {
        "id": "UYoJrKfdHJbw",
        "outputId": "cb0b20d3-eac1-44a1-e6f8-65c1ad4cc99a",
        "colab": {
          "base_uri": "https://localhost:8080/"
        }
      },
      "id": "UYoJrKfdHJbw",
      "execution_count": 12,
      "outputs": [
        {
          "output_type": "stream",
          "name": "stdout",
          "text": [
            "ファイル'popular-names_part1.txt'を作成しました（行数：278）\n",
            "ファイル'popular-names_part2.txt'を作成しました（行数：278）\n",
            "ファイル'popular-names_part3.txt'を作成しました（行数：278）\n",
            "ファイル'popular-names_part4.txt'を作成しました（行数：278）\n",
            "ファイル'popular-names_part5.txt'を作成しました（行数：278）\n",
            "ファイル'popular-names_part6.txt'を作成しました（行数：278）\n",
            "ファイル'popular-names_part7.txt'を作成しました（行数：278）\n",
            "ファイル'popular-names_part8.txt'を作成しました（行数：278）\n",
            "ファイル'popular-names_part9.txt'を作成しました（行数：278）\n",
            "ファイル'popular-names_part10.txt'を作成しました（行数：278）\n"
          ]
        }
      ]
    },
    {
      "cell_type": "code",
      "source": [
        "!split -l $(($(wc -l < popular-names.txt) / 10 )) popular-names.txt popular-names_part"
      ],
      "metadata": {
        "id": "bAXe4OQULEWF"
      },
      "id": "bAXe4OQULEWF",
      "execution_count": 11,
      "outputs": []
    },
    {
      "cell_type": "markdown",
      "id": "bc88859b-8a4d-4028-9aa4-684ab5ad9797",
      "metadata": {
        "id": "bc88859b-8a4d-4028-9aa4-684ab5ad9797"
      },
      "source": [
        "## 16. ランダムに各行を並び替える\n",
        "ファイルを行単位でランダムに並び替えよ（注意: 各行の内容は変更せずに並び替えよ）。同様の処理をshufコマンドで実現せよ。"
      ]
    },
    {
      "cell_type": "code",
      "source": [
        "import random\n",
        "\n",
        "def shuffle_lines(path):\n",
        "  try:\n",
        "    with open(path, 'r') as f:\n",
        "      lines = f.readlines()\n",
        "      random.shuffle(lines)\n",
        "      for line in lines[:10]:\n",
        "        print(line, end = '')\n",
        "  except FileNotFoundError:\n",
        "    print(f\"エラー：ファイル '{path}' が見つかりません。\")\n",
        "\n",
        "path = 'popular-names.txt'\n",
        "shuffle_lines(path)"
      ],
      "metadata": {
        "id": "b7TiBUOENWiv",
        "outputId": "bc94e600-d9d4-44f7-c916-c3e165960755",
        "colab": {
          "base_uri": "https://localhost:8080/"
        }
      },
      "id": "b7TiBUOENWiv",
      "execution_count": 23,
      "outputs": [
        {
          "output_type": "stream",
          "name": "stdout",
          "text": [
            "Frances\tF\t15053\t1922\n",
            "Robert\tM\t81717\t1957\n",
            "Helen\tF\t6488\t1904\n",
            "Richard\tM\t43585\t1942\n",
            "Tracy\tF\t18468\t1970\n",
            "Charles\tM\t4319\t1892\n",
            "James\tM\t84863\t1956\n",
            "Susan\tF\t37521\t1961\n",
            "Barbara\tF\t39279\t1938\n",
            "Donna\tF\t19698\t1965\n"
          ]
        }
      ]
    },
    {
      "cell_type": "code",
      "source": [
        "!shuf popular-names.txt | head -n 10"
      ],
      "metadata": {
        "id": "-rlop8ljQler",
        "outputId": "fd8cac7e-7f5a-4be8-b3e3-b2b461e14444",
        "colab": {
          "base_uri": "https://localhost:8080/"
        }
      },
      "id": "-rlop8ljQler",
      "execution_count": 26,
      "outputs": [
        {
          "output_type": "stream",
          "name": "stdout",
          "text": [
            "Joshua\tM\t27258\t1999\n",
            "John\tM\t8060\t1905\n",
            "John\tM\t83138\t1952\n",
            "Michael\tM\t68696\t1980\n",
            "Clara\tF\t1910\t1885\n",
            "James\tM\t60693\t1968\n",
            "Brittany\tF\t16476\t1995\n",
            "Anna\tF\t5233\t1890\n",
            "Ruth\tF\t6180\t1908\n",
            "Bessie\tF\t2278\t1888\n"
          ]
        }
      ]
    },
    {
      "cell_type": "markdown",
      "id": "1041d23d-1a44-49c3-b95a-223fa9e3d3ae",
      "metadata": {
        "id": "1041d23d-1a44-49c3-b95a-223fa9e3d3ae"
      },
      "source": [
        "## 17. １列目の文字列の異なり\n",
        "1列目の文字列の異なり（文字列の種類）を求めよ。確認にはcut, sort, uniqコマンドを用いよ。"
      ]
    },
    {
      "cell_type": "code",
      "source": [
        "def first_column_diff(path):\n",
        "  unique_strings = set()\n",
        "  try:\n",
        "    with open(path, 'r') as f:\n",
        "      for line in f:\n",
        "        first_column = line.split()[0]\n",
        "        unique_strings.add(first_column)\n",
        "      print(len(unique_strings))\n",
        "  except FileNotFoundError:\n",
        "    print(f\"エラー：ファイル '{path}' が見つかりません。\")\n",
        "\n",
        "path = 'popular-names.txt'\n",
        "first_column_diff(path)"
      ],
      "metadata": {
        "id": "V-hf_-845UsI",
        "colab": {
          "base_uri": "https://localhost:8080/"
        },
        "outputId": "87c4a91b-005e-4e1a-9ae8-91a37d032933"
      },
      "id": "V-hf_-845UsI",
      "execution_count": 27,
      "outputs": [
        {
          "output_type": "stream",
          "name": "stdout",
          "text": [
            "136\n"
          ]
        }
      ]
    },
    {
      "cell_type": "code",
      "source": [
        "!cut -f 1 popular-names.txt | sort | uniq | wc -l"
      ],
      "metadata": {
        "colab": {
          "base_uri": "https://localhost:8080/"
        },
        "id": "Dz_J7fnT_NID",
        "outputId": "418ddd08-2d19-49b5-d0f7-05a85a344099"
      },
      "id": "Dz_J7fnT_NID",
      "execution_count": null,
      "outputs": [
        {
          "output_type": "stream",
          "name": "stdout",
          "text": [
            "136\n"
          ]
        }
      ]
    },
    {
      "cell_type": "markdown",
      "id": "3f5363e2-d751-40cc-958c-86d8b185089d",
      "metadata": {
        "id": "3f5363e2-d751-40cc-958c-86d8b185089d"
      },
      "source": [
        "## 18. 各行の1列目の文字列の出現頻度を求め、出現頻度の高い順に並べる\n",
        "1列目の文字列の出現頻度を求め、出現頻度と名前を出現頻度の多い順に並べて表示せよ。確認にはcut, uniq, sortコマンドを用いよ。"
      ]
    },
    {
      "cell_type": "code",
      "source": [
        "def first_column_freq(path):\n",
        "  columns = []\n",
        "  try:\n",
        "    with open(path, 'r') as f:\n",
        "      for line in f:\n",
        "        first_column = line.split()[0]\n",
        "        columns.append(first_column)\n",
        "      print(columns)\n",
        "  except FileNotFoundError:\n",
        "    print(f\"エラー：ファイル '{path}' が見つかりません。\")\n",
        "\n",
        "path = 'popular-names.txt'\n",
        "first_column_freq(path)"
      ],
      "metadata": {
        "id": "4BEieJbMSllv",
        "outputId": "700e8181-a714-4274-dc46-07be58aceb55",
        "colab": {
          "base_uri": "https://localhost:8080/"
        }
      },
      "id": "4BEieJbMSllv",
      "execution_count": 32,
      "outputs": [
        {
          "output_type": "stream",
          "name": "stdout",
          "text": [
            "['Mary', 'Anna', 'Emma', 'Elizabeth', 'Minnie', 'Margaret', 'Ida', 'Alice', 'Bertha', 'Sarah', 'John', 'William', 'James', 'Charles', 'George', 'Frank', 'Joseph', 'Thomas', 'Henry', 'Robert', 'Mary', 'Anna', 'Emma', 'Elizabeth', 'Margaret', 'Minnie', 'Ida', 'Annie', 'Bertha', 'Alice', 'John', 'William', 'James', 'George', 'Charles', 'Frank', 'Joseph', 'Henry', 'Thomas', 'Edward', 'Mary', 'Anna', 'Emma', 'Elizabeth', 'Minnie', 'Margaret', 'Ida', 'Alice', 'Bertha', 'Annie', 'John', 'William', 'James', 'George', 'Charles', 'Frank', 'Joseph', 'Thomas', 'Henry', 'Robert', 'Mary', 'Anna', 'Emma', 'Elizabeth', 'Minnie', 'Margaret', 'Bertha', 'Ida', 'Annie', 'Clara', 'John', 'William', 'James', 'Charles', 'George', 'Frank', 'Joseph', 'Henry', 'Robert', 'Thomas', 'Mary', 'Anna', 'Emma', 'Elizabeth', 'Minnie', 'Margaret', 'Ida', 'Clara', 'Bertha', 'Annie', 'John', 'William', 'James', 'George', 'Charles', 'Frank', 'Joseph', 'Thomas', 'Henry', 'Robert', 'Mary', 'Anna', 'Emma', 'Elizabeth', 'Margaret', 'Minnie', 'Clara', 'Bertha', 'Ida', 'Annie', 'John', 'William', 'James', 'George', 'Charles', 'Frank', 'Joseph', 'Henry', 'Robert', 'Thomas', 'Mary', 'Anna', 'Emma', 'Elizabeth', 'Minnie', 'Margaret', 'Ida', 'Bertha', 'Clara', 'Florence', 'John', 'William', 'James', 'George', 'Charles', 'Frank', 'Joseph', 'Robert', 'Henry', 'Thomas', 'Mary', 'Anna', 'Elizabeth', 'Emma', 'Margaret', 'Minnie', 'Bertha', 'Clara', 'Florence', 'Ida', 'John', 'William', 'James', 'George', 'Charles', 'Frank', 'Joseph', 'Henry', 'Thomas', 'Edward', 'Mary', 'Anna', 'Elizabeth', 'Emma', 'Margaret', 'Minnie', 'Bertha', 'Florence', 'Ethel', 'Bessie', 'John', 'William', 'James', 'George', 'Charles', 'Frank', 'Joseph', 'Robert', 'Harry', 'Henry', 'Mary', 'Anna', 'Elizabeth', 'Margaret', 'Emma', 'Minnie', 'Florence', 'Ethel', 'Bessie', 'Clara', 'John', 'William', 'James', 'George', 'Charles', 'Frank', 'Joseph', 'Harry', 'Robert', 'Edward', 'Mary', 'Anna', 'Elizabeth', 'Margaret', 'Emma', 'Florence', 'Ethel', 'Minnie', 'Clara', 'Bertha', 'John', 'William', 'James', 'George', 'Charles', 'Frank', 'Joseph', 'Robert', 'Henry', 'Harry', 'Mary', 'Anna', 'Margaret', 'Elizabeth', 'Emma', 'Florence', 'Ethel', 'Minnie', 'Helen', 'Bertha', 'John', 'William', 'James', 'George', 'Charles', 'Frank', 'Joseph', 'Robert', 'Harry', 'Henry', 'Mary', 'Anna', 'Elizabeth', 'Margaret', 'Ruth', 'Florence', 'Emma', 'Ethel', 'Helen', 'Clara', 'John', 'William', 'James', 'George', 'Charles', 'Frank', 'Joseph', 'Robert', 'Harry', 'Henry', 'Mary', 'Anna', 'Ruth', 'Margaret', 'Elizabeth', 'Helen', 'Florence', 'Ethel', 'Emma', 'Bertha', 'John', 'William', 'James', 'George', 'Charles', 'Joseph', 'Frank', 'Robert', 'Edward', 'Harry', 'Mary', 'Anna', 'Margaret', 'Helen', 'Elizabeth', 'Ruth', 'Ethel', 'Florence', 'Emma', 'Marie', 'John', 'William', 'James', 'George', 'Charles', 'Joseph', 'Frank', 'Robert', 'Henry', 'Harry', 'Mary', 'Anna', 'Helen', 'Margaret', 'Elizabeth', 'Ruth', 'Florence', 'Ethel', 'Marie', 'Emma', 'John', 'William', 'James', 'George', 'Charles', 'Frank', 'Joseph', 'Robert', 'Henry', 'Edward', 'Mary', 'Anna', 'Helen', 'Margaret', 'Ruth', 'Ethel', 'Elizabeth', 'Florence', 'Marie', 'Emma', 'John', 'William', 'James', 'George', 'Charles', 'Joseph', 'Frank', 'Robert', 'Edward', 'Henry', 'Mary', 'Anna', 'Helen', 'Margaret', 'Ruth', 'Elizabeth', 'Florence', 'Ethel', 'Marie', 'Emma', 'John', 'William', 'James', 'George', 'Charles', 'Joseph', 'Frank', 'Robert', 'Edward', 'Henry', 'Mary', 'Anna', 'Helen', 'Margaret', 'Ruth', 'Florence', 'Elizabeth', 'Ethel', 'Marie', 'Lillian', 'John', 'William', 'James', 'George', 'Charles', 'Joseph', 'Robert', 'Frank', 'Edward', 'Thomas', 'Mary', 'Anna', 'Helen', 'Margaret', 'Ruth', 'Florence', 'Elizabeth', 'Marie', 'Ethel', 'Lillian', 'John', 'William', 'James', 'George', 'Charles', 'Joseph', 'Robert', 'Frank', 'Edward', 'Henry', 'Mary', 'Helen', 'Anna', 'Margaret', 'Ruth', 'Elizabeth', 'Florence', 'Ethel', 'Marie', 'Lillian', 'John', 'William', 'James', 'George', 'Charles', 'Robert', 'Joseph', 'Frank', 'Edward', 'Henry', 'Mary', 'Helen', 'Anna', 'Margaret', 'Ruth', 'Elizabeth', 'Marie', 'Florence', 'Ethel', 'Lillian', 'John', 'William', 'James', 'George', 'Charles', 'Joseph', 'Robert', 'Frank', 'Edward', 'Henry', 'Mary', 'Helen', 'Anna', 'Margaret', 'Ruth', 'Elizabeth', 'Florence', 'Marie', 'Ethel', 'Alice', 'John', 'William', 'James', 'George', 'Charles', 'Robert', 'Joseph', 'Frank', 'Edward', 'Henry', 'Mary', 'Helen', 'Anna', 'Margaret', 'Ruth', 'Elizabeth', 'Marie', 'Florence', 'Ethel', 'Mildred', 'John', 'William', 'James', 'George', 'Charles', 'Joseph', 'Robert', 'Frank', 'Edward', 'Thomas', 'Mary', 'Helen', 'Anna', 'Margaret', 'Ruth', 'Elizabeth', 'Marie', 'Florence', 'Mildred', 'Dorothy', 'John', 'William', 'James', 'George', 'Robert', 'Charles', 'Joseph', 'Frank', 'Edward', 'Henry', 'Mary', 'Helen', 'Margaret', 'Anna', 'Ruth', 'Elizabeth', 'Dorothy', 'Mildred', 'Marie', 'Alice', 'John', 'William', 'James', 'George', 'Charles', 'Robert', 'Joseph', 'Frank', 'Edward', 'Thomas', 'Mary', 'Helen', 'Margaret', 'Anna', 'Ruth', 'Dorothy', 'Elizabeth', 'Alice', 'Mildred', 'Florence', 'John', 'William', 'James', 'George', 'Robert', 'Charles', 'Joseph', 'Frank', 'Edward', 'Thomas', 'Mary', 'Helen', 'Margaret', 'Anna', 'Ruth', 'Dorothy', 'Elizabeth', 'Mildred', 'Alice', 'Marie', 'John', 'William', 'James', 'George', 'Robert', 'Charles', 'Joseph', 'Frank', 'Edward', 'Henry', 'Mary', 'Helen', 'Margaret', 'Ruth', 'Anna', 'Dorothy', 'Elizabeth', 'Mildred', 'Alice', 'Marie', 'John', 'William', 'James', 'George', 'Robert', 'Joseph', 'Charles', 'Frank', 'Edward', 'Thomas', 'Mary', 'Helen', 'Margaret', 'Ruth', 'Dorothy', 'Anna', 'Elizabeth', 'Mildred', 'Marie', 'Alice', 'John', 'William', 'James', 'George', 'Robert', 'Joseph', 'Charles', 'Frank', 'Edward', 'Thomas', 'Mary', 'Helen', 'Margaret', 'Dorothy', 'Ruth', 'Anna', 'Elizabeth', 'Mildred', 'Marie', 'Alice', 'John', 'James', 'William', 'Robert', 'George', 'Joseph', 'Charles', 'Frank', 'Edward', 'Henry', 'Mary', 'Helen', 'Margaret', 'Dorothy', 'Ruth', 'Anna', 'Elizabeth', 'Mildred', 'Marie', 'Frances', 'John', 'William', 'James', 'George', 'Robert', 'Joseph', 'Charles', 'Frank', 'Edward', 'Thomas', 'Mary', 'Helen', 'Dorothy', 'Margaret', 'Ruth', 'Mildred', 'Anna', 'Elizabeth', 'Frances', 'Marie', 'John', 'William', 'James', 'Robert', 'Joseph', 'George', 'Charles', 'Edward', 'Frank', 'Thomas', 'Mary', 'Helen', 'Dorothy', 'Margaret', 'Ruth', 'Mildred', 'Anna', 'Elizabeth', 'Frances', 'Marie', 'John', 'William', 'James', 'Robert', 'Joseph', 'George', 'Charles', 'Edward', 'Frank', 'Thomas', 'Mary', 'Helen', 'Dorothy', 'Margaret', 'Ruth', 'Anna', 'Mildred', 'Elizabeth', 'Frances', 'Marie', 'John', 'William', 'James', 'Robert', 'Joseph', 'George', 'Charles', 'Edward', 'Frank', 'Walter', 'Mary', 'Helen', 'Dorothy', 'Margaret', 'Ruth', 'Mildred', 'Anna', 'Elizabeth', 'Frances', 'Evelyn', 'John', 'William', 'James', 'Robert', 'Joseph', 'George', 'Charles', 'Edward', 'Frank', 'Thomas', 'Mary', 'Helen', 'Dorothy', 'Margaret', 'Ruth', 'Mildred', 'Anna', 'Elizabeth', 'Frances', 'Virginia', 'John', 'William', 'James', 'Robert', 'Joseph', 'Charles', 'George', 'Edward', 'Frank', 'Thomas', 'Mary', 'Helen', 'Dorothy', 'Margaret', 'Ruth', 'Mildred', 'Anna', 'Elizabeth', 'Frances', 'Virginia', 'John', 'William', 'James', 'Robert', 'Joseph', 'George', 'Charles', 'Edward', 'Frank', 'Thomas', 'Mary', 'Helen', 'Dorothy', 'Margaret', 'Ruth', 'Mildred', 'Virginia', 'Frances', 'Elizabeth', 'Anna', 'John', 'William', 'James', 'Robert', 'Charles', 'George', 'Joseph', 'Edward', 'Frank', 'Thomas', 'Mary', 'Helen', 'Dorothy', 'Margaret', 'Ruth', 'Mildred', 'Virginia', 'Elizabeth', 'Frances', 'Anna', 'John', 'William', 'James', 'Robert', 'Charles', 'George', 'Joseph', 'Edward', 'Frank', 'Thomas', 'Mary', 'Dorothy', 'Helen', 'Margaret', 'Ruth', 'Mildred', 'Virginia', 'Elizabeth', 'Frances', 'Anna', 'John', 'William', 'Robert', 'James', 'Charles', 'George', 'Joseph', 'Edward', 'Frank', 'Richard', 'Mary', 'Dorothy', 'Helen', 'Margaret', 'Ruth', 'Virginia', 'Mildred', 'Betty', 'Frances', 'Elizabeth', 'John', 'Robert', 'William', 'James', 'Charles', 'George', 'Joseph', 'Edward', 'Frank', 'Richard', 'Mary', 'Dorothy', 'Helen', 'Margaret', 'Ruth', 'Betty', 'Virginia', 'Mildred', 'Elizabeth', 'Frances', 'John', 'Robert', 'William', 'James', 'Charles', 'George', 'Joseph', 'Edward', 'Richard', 'Frank', 'Mary', 'Dorothy', 'Helen', 'Margaret', 'Betty', 'Ruth', 'Virginia', 'Mildred', 'Elizabeth', 'Frances', 'John', 'Robert', 'William', 'James', 'Charles', 'George', 'Joseph', 'Edward', 'Richard', 'Donald', 'Mary', 'Dorothy', 'Helen', 'Betty', 'Margaret', 'Ruth', 'Virginia', 'Mildred', 'Doris', 'Frances', 'Robert', 'John', 'William', 'James', 'Charles', 'George', 'Joseph', 'Richard', 'Edward', 'Donald', 'Mary', 'Dorothy', 'Betty', 'Helen', 'Margaret', 'Ruth', 'Virginia', 'Doris', 'Mildred', 'Elizabeth', 'Robert', 'John', 'William', 'James', 'Charles', 'George', 'Joseph', 'Richard', 'Edward', 'Donald', 'Mary', 'Dorothy', 'Betty', 'Helen', 'Margaret', 'Ruth', 'Doris', 'Virginia', 'Mildred', 'Frances', 'Robert', 'John', 'James', 'William', 'Charles', 'George', 'Richard', 'Joseph', 'Donald', 'Edward', 'Mary', 'Dorothy', 'Betty', 'Helen', 'Margaret', 'Ruth', 'Doris', 'Virginia', 'Shirley', 'Barbara', 'Robert', 'John', 'James', 'William', 'Charles', 'Richard', 'George', 'Donald', 'Joseph', 'Edward', 'Mary', 'Betty', 'Dorothy', 'Helen', 'Margaret', 'Ruth', 'Doris', 'Barbara', 'Virginia', 'Shirley', 'Robert', 'John', 'James', 'William', 'Charles', 'Richard', 'Donald', 'George', 'Joseph', 'Edward', 'Mary', 'Betty', 'Dorothy', 'Helen', 'Margaret', 'Doris', 'Barbara', 'Ruth', 'Shirley', 'Patricia', 'Robert', 'James', 'John', 'William', 'Charles', 'Richard', 'Donald', 'George', 'Joseph', 'Edward', 'Mary', 'Betty', 'Dorothy', 'Helen', 'Margaret', 'Barbara', 'Patricia', 'Joan', 'Doris', 'Ruth', 'Robert', 'James', 'John', 'William', 'Richard', 'Charles', 'Donald', 'George', 'Joseph', 'Edward', 'Mary', 'Betty', 'Dorothy', 'Barbara', 'Joan', 'Helen', 'Margaret', 'Patricia', 'Shirley', 'Doris', 'Robert', 'James', 'John', 'William', 'Richard', 'Charles', 'Donald', 'George', 'Joseph', 'Thomas', 'Mary', 'Betty', 'Barbara', 'Dorothy', 'Joan', 'Patricia', 'Margaret', 'Helen', 'Shirley', 'Doris', 'Robert', 'James', 'John', 'William', 'Richard', 'Charles', 'Donald', 'George', 'Joseph', 'Thomas', 'Mary', 'Betty', 'Barbara', 'Dorothy', 'Joan', 'Patricia', 'Margaret', 'Helen', 'Shirley', 'Doris', 'Robert', 'James', 'John', 'William', 'Richard', 'Charles', 'Donald', 'George', 'Joseph', 'Thomas', 'Mary', 'Betty', 'Barbara', 'Shirley', 'Dorothy', 'Patricia', 'Joan', 'Margaret', 'Helen', 'Nancy', 'Robert', 'James', 'John', 'William', 'Richard', 'Donald', 'Charles', 'George', 'Thomas', 'Joseph', 'Mary', 'Shirley', 'Barbara', 'Betty', 'Patricia', 'Dorothy', 'Joan', 'Margaret', 'Nancy', 'Helen', 'Robert', 'James', 'John', 'William', 'Richard', 'Charles', 'Donald', 'George', 'Thomas', 'Joseph', 'Mary', 'Shirley', 'Barbara', 'Betty', 'Patricia', 'Dorothy', 'Joan', 'Nancy', 'Margaret', 'Carol', 'Robert', 'James', 'John', 'William', 'Richard', 'Charles', 'Donald', 'Thomas', 'George', 'David', 'Mary', 'Barbara', 'Patricia', 'Shirley', 'Betty', 'Carol', 'Nancy', 'Dorothy', 'Joan', 'Margaret', 'Robert', 'James', 'John', 'William', 'Richard', 'Charles', 'Donald', 'David', 'Thomas', 'George', 'Mary', 'Barbara', 'Patricia', 'Betty', 'Shirley', 'Carol', 'Nancy', 'Dorothy', 'Margaret', 'Joan', 'Robert', 'James', 'John', 'William', 'Richard', 'Charles', 'Donald', 'David', 'Thomas', 'Ronald', 'Mary', 'Barbara', 'Patricia', 'Betty', 'Shirley', 'Carol', 'Nancy', 'Judith', 'Dorothy', 'Margaret', 'Robert', 'James', 'John', 'William', 'Richard', 'Charles', 'David', 'Donald', 'Thomas', 'Ronald', 'Mary', 'Barbara', 'Patricia', 'Judith', 'Betty', 'Carol', 'Nancy', 'Linda', 'Shirley', 'Sandra', 'James', 'Robert', 'John', 'William', 'Richard', 'Charles', 'David', 'Thomas', 'Donald', 'Ronald', 'Mary', 'Barbara', 'Patricia', 'Carol', 'Linda', 'Judith', 'Betty', 'Nancy', 'Sandra', 'Shirley', 'James', 'Robert', 'John', 'William', 'Richard', 'Charles', 'David', 'Thomas', 'Ronald', 'Donald', 'Mary', 'Barbara', 'Patricia', 'Linda', 'Carol', 'Sandra', 'Judith', 'Nancy', 'Betty', 'Carolyn', 'James', 'Robert', 'John', 'William', 'Richard', 'David', 'Charles', 'Thomas', 'Ronald', 'Donald', 'Mary', 'Barbara', 'Patricia', 'Linda', 'Carol', 'Sandra', 'Judith', 'Sharon', 'Nancy', 'Betty', 'James', 'Robert', 'John', 'William', 'Richard', 'David', 'Charles', 'Thomas', 'Ronald', 'Michael', 'Mary', 'Barbara', 'Linda', 'Patricia', 'Carol', 'Sandra', 'Nancy', 'Judith', 'Sharon', 'Betty', 'James', 'Robert', 'John', 'William', 'Richard', 'David', 'Charles', 'Thomas', 'Michael', 'Ronald', 'Mary', 'Linda', 'Barbara', 'Patricia', 'Carol', 'Sandra', 'Nancy', 'Sharon', 'Judith', 'Susan', 'James', 'Robert', 'John', 'William', 'Richard', 'David', 'Charles', 'Thomas', 'Michael', 'Ronald', 'Mary', 'Linda', 'Patricia', 'Barbara', 'Carol', 'Sandra', 'Nancy', 'Susan', 'Sharon', 'Judith', 'James', 'Robert', 'John', 'William', 'Richard', 'David', 'Michael', 'Thomas', 'Charles', 'Ronald', 'Linda', 'Mary', 'Patricia', 'Barbara', 'Sandra', 'Carol', 'Nancy', 'Susan', 'Sharon', 'Donna', 'James', 'Robert', 'John', 'William', 'Richard', 'David', 'Michael', 'Thomas', 'Charles', 'Larry', 'Linda', 'Mary', 'Barbara', 'Patricia', 'Susan', 'Sandra', 'Nancy', 'Carol', 'Sharon', 'Kathleen', 'James', 'Robert', 'John', 'William', 'David', 'Michael', 'Richard', 'Thomas', 'Charles', 'Ronald', 'Linda', 'Mary', 'Patricia', 'Barbara', 'Susan', 'Sandra', 'Nancy', 'Carol', 'Kathleen', 'Sharon', 'James', 'Robert', 'John', 'William', 'Michael', 'David', 'Richard', 'Thomas', 'Charles', 'Larry', 'Linda', 'Mary', 'Patricia', 'Barbara', 'Susan', 'Nancy', 'Deborah', 'Sandra', 'Carol', 'Kathleen', 'James', 'Robert', 'John', 'Michael', 'David', 'William', 'Richard', 'Thomas', 'Charles', 'Gary', 'Linda', 'Mary', 'Patricia', 'Deborah', 'Barbara', 'Susan', 'Nancy', 'Karen', 'Sandra', 'Kathleen', 'James', 'Robert', 'John', 'Michael', 'David', 'William', 'Richard', 'Thomas', 'Charles', 'Gary', 'Linda', 'Mary', 'Patricia', 'Deborah', 'Susan', 'Barbara', 'Nancy', 'Karen', 'Debra', 'Sandra', 'James', 'Robert', 'John', 'Michael', 'David', 'William', 'Richard', 'Thomas', 'Charles', 'Gary', 'Mary', 'Linda', 'Deborah', 'Patricia', 'Susan', 'Barbara', 'Debra', 'Nancy', 'Karen', 'Pamela', 'Robert', 'James', 'Michael', 'John', 'David', 'William', 'Richard', 'Thomas', 'Charles', 'Gary', 'Mary', 'Linda', 'Deborah', 'Patricia', 'Susan', 'Debra', 'Barbara', 'Karen', 'Nancy', 'Cynthia', 'Michael', 'Robert', 'James', 'John', 'David', 'William', 'Richard', 'Thomas', 'Gary', 'Charles', 'Mary', 'Deborah', 'Linda', 'Debra', 'Susan', 'Patricia', 'Barbara', 'Karen', 'Nancy', 'Donna', 'Michael', 'David', 'James', 'Robert', 'John', 'William', 'Richard', 'Thomas', 'Mark', 'Steven', 'Mary', 'Debra', 'Linda', 'Deborah', 'Susan', 'Patricia', 'Karen', 'Cynthia', 'Barbara', 'Donna', 'Michael', 'James', 'Robert', 'David', 'John', 'William', 'Richard', 'Mark', 'Thomas', 'Steven', 'Mary', 'Susan', 'Linda', 'Debra', 'Karen', 'Deborah', 'Cynthia', 'Patricia', 'Barbara', 'Donna', 'Michael', 'James', 'David', 'Robert', 'John', 'William', 'Mark', 'Richard', 'Thomas', 'Steven', 'Mary', 'Susan', 'Linda', 'Karen', 'Patricia', 'Debra', 'Deborah', 'Cynthia', 'Barbara', 'Donna', 'Michael', 'David', 'James', 'Robert', 'John', 'William', 'Mark', 'Richard', 'Thomas', 'Steven', 'Mary', 'Susan', 'Linda', 'Karen', 'Donna', 'Patricia', 'Debra', 'Cynthia', 'Deborah', 'Lisa', 'Michael', 'David', 'James', 'John', 'Robert', 'Mark', 'William', 'Richard', 'Thomas', 'Steven', 'Mary', 'Susan', 'Linda', 'Karen', 'Donna', 'Lisa', 'Patricia', 'Debra', 'Cynthia', 'Deborah', 'David', 'Michael', 'James', 'John', 'Robert', 'Mark', 'William', 'Richard', 'Thomas', 'Steven', 'Mary', 'Lisa', 'Susan', 'Linda', 'Karen', 'Patricia', 'Donna', 'Cynthia', 'Sandra', 'Deborah', 'Michael', 'David', 'John', 'James', 'Robert', 'Mark', 'William', 'Richard', 'Thomas', 'Steven', 'Lisa', 'Mary', 'Susan', 'Karen', 'Linda', 'Patricia', 'Donna', 'Cynthia', 'Deborah', 'Sandra', 'Michael', 'David', 'John', 'James', 'Robert', 'Mark', 'William', 'Richard', 'Thomas', 'Jeffrey', 'Lisa', 'Mary', 'Susan', 'Karen', 'Linda', 'Donna', 'Patricia', 'Lori', 'Sandra', 'Cynthia', 'Michael', 'John', 'David', 'James', 'Robert', 'Mark', 'William', 'Richard', 'Thomas', 'Jeffrey', 'Lisa', 'Mary', 'Susan', 'Karen', 'Patricia', 'Kimberly', 'Donna', 'Linda', 'Cynthia', 'Tammy', 'Michael', 'John', 'David', 'James', 'Robert', 'Mark', 'William', 'Richard', 'Thomas', 'Jeffrey', 'Lisa', 'Mary', 'Karen', 'Kimberly', 'Susan', 'Patricia', 'Donna', 'Linda', 'Cynthia', 'Angela', 'Michael', 'John', 'David', 'James', 'Robert', 'William', 'Mark', 'Richard', 'Thomas', 'Jeffrey', 'Lisa', 'Kimberly', 'Mary', 'Michelle', 'Karen', 'Susan', 'Patricia', 'Tammy', 'Angela', 'Jennifer', 'Michael', 'David', 'James', 'John', 'Robert', 'William', 'Mark', 'Richard', 'Jeffrey', 'Thomas', 'Lisa', 'Kimberly', 'Michelle', 'Mary', 'Susan', 'Karen', 'Angela', 'Tammy', 'Melissa', 'Jennifer', 'Michael', 'David', 'James', 'John', 'Robert', 'William', 'Mark', 'Richard', 'Christopher', 'Brian', 'Lisa', 'Michelle', 'Kimberly', 'Jennifer', 'Melissa', 'Mary', 'Angela', 'Tammy', 'Karen', 'Susan', 'Michael', 'David', 'John', 'James', 'Robert', 'William', 'Mark', 'Richard', 'Christopher', 'Brian', 'Lisa', 'Michelle', 'Jennifer', 'Kimberly', 'Melissa', 'Amy', 'Angela', 'Mary', 'Tammy', 'Laura', 'Michael', 'David', 'James', 'John', 'Robert', 'William', 'Christopher', 'Mark', 'Brian', 'Richard', 'Jennifer', 'Lisa', 'Kimberly', 'Michelle', 'Amy', 'Angela', 'Melissa', 'Tammy', 'Mary', 'Tracy', 'Michael', 'James', 'David', 'John', 'Robert', 'Christopher', 'William', 'Brian', 'Mark', 'Richard', 'Jennifer', 'Michelle', 'Lisa', 'Kimberly', 'Amy', 'Angela', 'Melissa', 'Tammy', 'Mary', 'Julie', 'Michael', 'James', 'David', 'John', 'Robert', 'Christopher', 'William', 'Jason', 'Brian', 'Scott', 'Jennifer', 'Michelle', 'Lisa', 'Kimberly', 'Amy', 'Angela', 'Melissa', 'Stephanie', 'Heather', 'Nicole', 'Michael', 'Christopher', 'James', 'David', 'John', 'Robert', 'Jason', 'Brian', 'William', 'Matthew', 'Jennifer', 'Amy', 'Michelle', 'Kimberly', 'Lisa', 'Melissa', 'Angela', 'Heather', 'Stephanie', 'Rebecca', 'Michael', 'Christopher', 'Jason', 'James', 'David', 'John', 'Robert', 'Brian', 'William', 'Matthew', 'Jennifer', 'Amy', 'Michelle', 'Heather', 'Angela', 'Kimberly', 'Melissa', 'Lisa', 'Stephanie', 'Rebecca', 'Michael', 'Jason', 'Christopher', 'David', 'James', 'John', 'Robert', 'Brian', 'Matthew', 'William', 'Jennifer', 'Amy', 'Heather', 'Melissa', 'Angela', 'Michelle', 'Kimberly', 'Lisa', 'Stephanie', 'Nicole', 'Michael', 'Jason', 'Christopher', 'James', 'David', 'Robert', 'John', 'Brian', 'Matthew', 'William', 'Jennifer', 'Amy', 'Melissa', 'Heather', 'Angela', 'Michelle', 'Kimberly', 'Jessica', 'Lisa', 'Amanda', 'Michael', 'Jason', 'Christopher', 'David', 'James', 'John', 'Robert', 'Brian', 'Matthew', 'Daniel', 'Jennifer', 'Melissa', 'Amy', 'Jessica', 'Heather', 'Angela', 'Michelle', 'Kimberly', 'Amanda', 'Kelly', 'Michael', 'Jason', 'Christopher', 'David', 'James', 'John', 'Robert', 'Brian', 'Matthew', 'Joseph', 'Jennifer', 'Melissa', 'Jessica', 'Amy', 'Heather', 'Amanda', 'Angela', 'Sarah', 'Michelle', 'Nicole', 'Michael', 'Jason', 'Christopher', 'David', 'James', 'Matthew', 'John', 'Robert', 'Brian', 'Joseph', 'Jennifer', 'Melissa', 'Amanda', 'Jessica', 'Amy', 'Sarah', 'Heather', 'Angela', 'Nicole', 'Michelle', 'Michael', 'Christopher', 'Jason', 'David', 'James', 'Matthew', 'John', 'Robert', 'Joshua', 'Brian', 'Jennifer', 'Amanda', 'Jessica', 'Melissa', 'Sarah', 'Heather', 'Nicole', 'Amy', 'Elizabeth', 'Michelle', 'Michael', 'Christopher', 'Jason', 'David', 'James', 'Matthew', 'Joshua', 'John', 'Robert', 'Joseph', 'Jennifer', 'Jessica', 'Amanda', 'Sarah', 'Melissa', 'Amy', 'Nicole', 'Stephanie', 'Elizabeth', 'Heather', 'Michael', 'Christopher', 'Matthew', 'Jason', 'David', 'Joshua', 'James', 'John', 'Robert', 'Daniel', 'Jennifer', 'Jessica', 'Amanda', 'Sarah', 'Melissa', 'Nicole', 'Stephanie', 'Elizabeth', 'Crystal', 'Amy', 'Michael', 'Christopher', 'Matthew', 'Jason', 'David', 'James', 'Joshua', 'John', 'Robert', 'Daniel', 'Jennifer', 'Jessica', 'Amanda', 'Ashley', 'Sarah', 'Melissa', 'Nicole', 'Stephanie', 'Heather', 'Elizabeth', 'Michael', 'Christopher', 'Matthew', 'David', 'Joshua', 'James', 'Jason', 'Daniel', 'John', 'Robert', 'Jennifer', 'Jessica', 'Ashley', 'Amanda', 'Sarah', 'Stephanie', 'Nicole', 'Melissa', 'Heather', 'Elizabeth', 'Michael', 'Christopher', 'Matthew', 'Joshua', 'David', 'Daniel', 'James', 'John', 'Robert', 'Joseph', 'Jessica', 'Ashley', 'Jennifer', 'Amanda', 'Sarah', 'Stephanie', 'Nicole', 'Heather', 'Elizabeth', 'Megan', 'Michael', 'Christopher', 'Matthew', 'Joshua', 'Daniel', 'David', 'James', 'Robert', 'John', 'Joseph', 'Jessica', 'Ashley', 'Amanda', 'Jennifer', 'Sarah', 'Stephanie', 'Nicole', 'Brittany', 'Heather', 'Elizabeth', 'Michael', 'Christopher', 'Matthew', 'Joshua', 'David', 'Daniel', 'James', 'Andrew', 'Robert', 'John', 'Jessica', 'Ashley', 'Amanda', 'Jennifer', 'Sarah', 'Stephanie', 'Brittany', 'Nicole', 'Heather', 'Elizabeth', 'Michael', 'Christopher', 'Matthew', 'Joshua', 'David', 'Andrew', 'Daniel', 'James', 'Justin', 'Robert', 'Jessica', 'Ashley', 'Amanda', 'Sarah', 'Jennifer', 'Brittany', 'Stephanie', 'Samantha', 'Nicole', 'Elizabeth', 'Michael', 'Christopher', 'Matthew', 'Joshua', 'Andrew', 'David', 'Justin', 'Daniel', 'James', 'Robert', 'Jessica', 'Ashley', 'Brittany', 'Amanda', 'Sarah', 'Samantha', 'Jennifer', 'Stephanie', 'Lauren', 'Elizabeth', 'Michael', 'Christopher', 'Matthew', 'Joshua', 'David', 'Daniel', 'Andrew', 'Justin', 'James', 'Robert', 'Jessica', 'Ashley', 'Brittany', 'Amanda', 'Samantha', 'Sarah', 'Stephanie', 'Jennifer', 'Elizabeth', 'Lauren', 'Michael', 'Christopher', 'Matthew', 'Joshua', 'Daniel', 'David', 'Andrew', 'James', 'Justin', 'Joseph', 'Ashley', 'Jessica', 'Brittany', 'Amanda', 'Samantha', 'Sarah', 'Stephanie', 'Jennifer', 'Elizabeth', 'Emily', 'Michael', 'Christopher', 'Matthew', 'Joshua', 'Andrew', 'Daniel', 'James', 'David', 'Joseph', 'John', 'Ashley', 'Jessica', 'Amanda', 'Brittany', 'Sarah', 'Samantha', 'Emily', 'Stephanie', 'Elizabeth', 'Megan', 'Michael', 'Christopher', 'Matthew', 'Joshua', 'Andrew', 'Brandon', 'Daniel', 'Tyler', 'James', 'David', 'Jessica', 'Ashley', 'Sarah', 'Samantha', 'Emily', 'Brittany', 'Taylor', 'Amanda', 'Elizabeth', 'Stephanie', 'Michael', 'Christopher', 'Matthew', 'Joshua', 'Tyler', 'Brandon', 'Daniel', 'Nicholas', 'Jacob', 'Andrew', 'Jessica', 'Ashley', 'Emily', 'Samantha', 'Sarah', 'Taylor', 'Brittany', 'Amanda', 'Elizabeth', 'Megan', 'Michael', 'Christopher', 'Matthew', 'Joshua', 'Tyler', 'Brandon', 'Jacob', 'Daniel', 'Nicholas', 'Andrew', 'Jessica', 'Ashley', 'Emily', 'Samantha', 'Sarah', 'Taylor', 'Hannah', 'Brittany', 'Amanda', 'Elizabeth', 'Michael', 'Matthew', 'Christopher', 'Jacob', 'Joshua', 'Nicholas', 'Tyler', 'Brandon', 'Daniel', 'Austin', 'Emily', 'Jessica', 'Ashley', 'Sarah', 'Samantha', 'Taylor', 'Hannah', 'Alexis', 'Rachel', 'Elizabeth', 'Michael', 'Matthew', 'Jacob', 'Christopher', 'Joshua', 'Nicholas', 'Tyler', 'Brandon', 'Austin', 'Andrew', 'Emily', 'Jessica', 'Ashley', 'Sarah', 'Hannah', 'Samantha', 'Taylor', 'Alexis', 'Elizabeth', 'Madison', 'Michael', 'Jacob', 'Matthew', 'Christopher', 'Joshua', 'Nicholas', 'Andrew', 'Brandon', 'Austin', 'Tyler', 'Emily', 'Hannah', 'Samantha', 'Sarah', 'Ashley', 'Alexis', 'Taylor', 'Jessica', 'Madison', 'Elizabeth', 'Michael', 'Jacob', 'Matthew', 'Joshua', 'Christopher', 'Nicholas', 'Brandon', 'Tyler', 'Andrew', 'Austin', 'Emily', 'Hannah', 'Alexis', 'Sarah', 'Samantha', 'Ashley', 'Madison', 'Taylor', 'Jessica', 'Elizabeth', 'Jacob', 'Michael', 'Matthew', 'Joshua', 'Nicholas', 'Christopher', 'Andrew', 'Joseph', 'Daniel', 'Tyler', 'Emily', 'Hannah', 'Madison', 'Ashley', 'Sarah', 'Alexis', 'Samantha', 'Jessica', 'Elizabeth', 'Taylor', 'Jacob', 'Michael', 'Matthew', 'Joshua', 'Christopher', 'Nicholas', 'Andrew', 'Joseph', 'Daniel', 'Tyler', 'Emily', 'Madison', 'Hannah', 'Ashley', 'Alexis', 'Sarah', 'Samantha', 'Abigail', 'Elizabeth', 'Olivia', 'Jacob', 'Michael', 'Matthew', 'Joshua', 'Christopher', 'Nicholas', 'Andrew', 'Joseph', 'Daniel', 'William', 'Emily', 'Madison', 'Hannah', 'Emma', 'Alexis', 'Ashley', 'Abigail', 'Sarah', 'Samantha', 'Olivia', 'Jacob', 'Michael', 'Joshua', 'Matthew', 'Ethan', 'Andrew', 'Joseph', 'Christopher', 'Nicholas', 'Daniel', 'Emily', 'Emma', 'Madison', 'Hannah', 'Olivia', 'Abigail', 'Alexis', 'Ashley', 'Elizabeth', 'Samantha', 'Jacob', 'Michael', 'Joshua', 'Matthew', 'Andrew', 'Joseph', 'Ethan', 'Daniel', 'Christopher', 'Anthony', 'Emily', 'Emma', 'Madison', 'Olivia', 'Hannah', 'Abigail', 'Isabella', 'Ashley', 'Samantha', 'Elizabeth', 'Jacob', 'Michael', 'Joshua', 'Matthew', 'Ethan', 'Andrew', 'Daniel', 'William', 'Joseph', 'Christopher', 'Emily', 'Emma', 'Madison', 'Abigail', 'Olivia', 'Isabella', 'Hannah', 'Samantha', 'Ava', 'Ashley', 'Jacob', 'Michael', 'Joshua', 'Matthew', 'Ethan', 'Andrew', 'Daniel', 'Anthony', 'Joseph', 'Christopher', 'Emily', 'Emma', 'Madison', 'Isabella', 'Ava', 'Abigail', 'Olivia', 'Hannah', 'Sophia', 'Samantha', 'Jacob', 'Michael', 'Joshua', 'Ethan', 'Matthew', 'Daniel', 'Andrew', 'Christopher', 'Anthony', 'William', 'Emily', 'Isabella', 'Emma', 'Ava', 'Madison', 'Sophia', 'Olivia', 'Abigail', 'Hannah', 'Elizabeth', 'Jacob', 'Michael', 'Ethan', 'Joshua', 'Daniel', 'Christopher', 'Anthony', 'William', 'Matthew', 'Andrew', 'Emma', 'Isabella', 'Emily', 'Olivia', 'Ava', 'Madison', 'Sophia', 'Abigail', 'Elizabeth', 'Chloe', 'Jacob', 'Michael', 'Ethan', 'Joshua', 'Daniel', 'Alexander', 'Anthony', 'William', 'Christopher', 'Matthew', 'Isabella', 'Emma', 'Olivia', 'Sophia', 'Ava', 'Emily', 'Madison', 'Abigail', 'Chloe', 'Mia', 'Jacob', 'Ethan', 'Michael', 'Alexander', 'William', 'Joshua', 'Daniel', 'Jayden', 'Noah', 'Christopher', 'Isabella', 'Sophia', 'Emma', 'Olivia', 'Ava', 'Emily', 'Abigail', 'Madison', 'Chloe', 'Mia', 'Jacob', 'Ethan', 'Michael', 'Jayden', 'William', 'Alexander', 'Noah', 'Daniel', 'Aiden', 'Anthony', 'Sophia', 'Isabella', 'Emma', 'Olivia', 'Ava', 'Emily', 'Abigail', 'Madison', 'Mia', 'Chloe', 'Jacob', 'Mason', 'William', 'Jayden', 'Noah', 'Michael', 'Ethan', 'Alexander', 'Aiden', 'Daniel', 'Sophia', 'Emma', 'Isabella', 'Olivia', 'Ava', 'Emily', 'Abigail', 'Mia', 'Madison', 'Elizabeth', 'Jacob', 'Mason', 'Ethan', 'Noah', 'William', 'Liam', 'Michael', 'Jayden', 'Alexander', 'Aiden', 'Sophia', 'Emma', 'Olivia', 'Isabella', 'Ava', 'Mia', 'Emily', 'Abigail', 'Madison', 'Elizabeth', 'Noah', 'Jacob', 'Liam', 'Mason', 'William', 'Ethan', 'Michael', 'Alexander', 'Jayden', 'Daniel', 'Emma', 'Olivia', 'Sophia', 'Isabella', 'Ava', 'Mia', 'Emily', 'Abigail', 'Madison', 'Charlotte', 'Noah', 'Liam', 'Mason', 'Jacob', 'William', 'Ethan', 'Michael', 'Alexander', 'James', 'Daniel', 'Emma', 'Olivia', 'Sophia', 'Ava', 'Isabella', 'Mia', 'Abigail', 'Emily', 'Charlotte', 'Harper', 'Noah', 'Liam', 'Mason', 'Jacob', 'William', 'Ethan', 'James', 'Alexander', 'Michael', 'Benjamin', 'Emma', 'Olivia', 'Ava', 'Sophia', 'Isabella', 'Mia', 'Charlotte', 'Abigail', 'Emily', 'Harper', 'Noah', 'Liam', 'William', 'Mason', 'James', 'Benjamin', 'Jacob', 'Michael', 'Elijah', 'Ethan', 'Emma', 'Olivia', 'Ava', 'Isabella', 'Sophia', 'Mia', 'Charlotte', 'Amelia', 'Evelyn', 'Abigail', 'Liam', 'Noah', 'William', 'James', 'Logan', 'Benjamin', 'Mason', 'Elijah', 'Oliver', 'Jacob', 'Emma', 'Olivia', 'Ava', 'Isabella', 'Sophia', 'Charlotte', 'Mia', 'Amelia', 'Harper', 'Evelyn', 'Liam', 'Noah', 'William', 'James', 'Oliver', 'Benjamin', 'Elijah', 'Lucas', 'Mason', 'Logan']\n"
          ]
        }
      ]
    },
    {
      "cell_type": "markdown",
      "id": "5ea1c928-6748-4f02-9e65-2110655b30d8",
      "metadata": {
        "id": "5ea1c928-6748-4f02-9e65-2110655b30d8"
      },
      "source": [
        "## 19. 3列目の数値の降順に各行を並び替える\n",
        "3列目の数値の逆順でファイルの各行を整列せよ（注意: 各行の内容は変更せずに並び替えよ）。同様の処理をsortコマンドで実現せよ。"
      ]
    }
  ],
  "metadata": {
    "colab": {
      "provenance": []
    },
    "kernelspec": {
      "display_name": "Python 3 (ipykernel)",
      "language": "python",
      "name": "python3"
    },
    "language_info": {
      "codemirror_mode": {
        "name": "ipython",
        "version": 3
      },
      "file_extension": ".py",
      "mimetype": "text/x-python",
      "name": "python",
      "nbconvert_exporter": "python",
      "pygments_lexer": "ipython3",
      "version": "3.12.3"
    }
  },
  "nbformat": 4,
  "nbformat_minor": 5
}